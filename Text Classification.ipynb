{
  "nbformat": 4,
  "nbformat_minor": 0,
  "metadata": {
    "kernelspec": {
      "display_name": "Python 3",
      "language": "python",
      "name": "python3"
    },
    "language_info": {
      "codemirror_mode": {
        "name": "ipython",
        "version": 3
      },
      "file_extension": ".py",
      "mimetype": "text/x-python",
      "name": "python",
      "nbconvert_exporter": "python",
      "pygments_lexer": "ipython3",
      "version": "3.6.9"
    },
    "colab": {
      "name": "Text Classification.ipynb",
      "provenance": []
    }
  },
  "cells": [
    {
      "cell_type": "code",
      "metadata": {
        "id": "0KU4IREGFnRp",
        "outputId": "1e964627-879a-403c-868d-49874b535298",
        "colab": {
          "base_uri": "https://localhost:8080/",
          "height": 51
        }
      },
      "source": [
        "import numpy as np\n",
        "import pandas as pd\n",
        "import re\n",
        "import nltk\n",
        "from sklearn.datasets import load_files\n",
        "nltk.download('stopwords')\n",
        "import pickle\n",
        "from nltk.corpus import stopwords\n",
        "from nltk.stem import WordNetLemmatizer \n"
      ],
      "execution_count": 36,
      "outputs": [
        {
          "output_type": "stream",
          "text": [
            "[nltk_data] Downloading package stopwords to /root/nltk_data...\n",
            "[nltk_data]   Package stopwords is already up-to-date!\n"
          ],
          "name": "stdout"
        }
      ]
    },
    {
      "cell_type": "markdown",
      "metadata": {
        "id": "9L-mr_8jUe8B"
      },
      "source": [
        "# Data Loading"
      ]
    },
    {
      "cell_type": "code",
      "metadata": {
        "id": "BNLRnZboFnR2"
      },
      "source": [
        "col_names = ['questions', 'a', 'b']\n",
        "data_df = pd.read_csv(\"https://raw.githubusercontent.com/VIthulan/travel-text-classification/master/data/5000TravelQuestionsDataset.csv\", error_bad_lines=False,header=None, names=col_names, encoding='latin-1')\n"
      ],
      "execution_count": 18,
      "outputs": []
    },
    {
      "cell_type": "code",
      "metadata": {
        "id": "xPpfyHXQFnR8",
        "outputId": "1d9835e3-9671-48ce-edfd-c944a1ad5208",
        "colab": {
          "base_uri": "https://localhost:8080/",
          "height": 221
        }
      },
      "source": [
        "data_df['questions']"
      ],
      "execution_count": 31,
      "outputs": [
        {
          "output_type": "execute_result",
          "data": {
            "text/plain": [
              "0       What are the special things we (husband and me...\n",
              "1       What are the companies which organize shark fe...\n",
              "2       Is it safe for female traveller to go alone to...\n",
              "3       What are the best places around Cape Town for ...\n",
              "4       What are the best places to stay for a family ...\n",
              "                              ...                        \n",
              "4995    What is the best area to be based for sightsee...\n",
              "4996    What are the good value traditional bars and r...\n",
              "4997       What are the hotels near Alicante bus station?\n",
              "4998       Where to stay in La Gomera to mountain biking?\n",
              "4999    Is it possible to take a train trip from Santi...\n",
              "Name: questions, Length: 5000, dtype: object"
            ]
          },
          "metadata": {
            "tags": []
          },
          "execution_count": 31
        }
      ]
    },
    {
      "cell_type": "markdown",
      "metadata": {
        "id": "m-IrOJm-UVxq"
      },
      "source": [
        "# Pre Processing"
      ]
    },
    {
      "cell_type": "code",
      "metadata": {
        "id": "wqIAXyadS8-G"
      },
      "source": [
        "    # Remove all the special characters\n",
        "data_df['processed_questions'] = data_df['questions'].str.replace(r'\\W', ' ')\n",
        "    # remove all single characters\n",
        "data_df['processed_questions'] = data_df['processed_questions'].str.replace(r'\\s+[a-zA-Z]\\s+', ' ')\n",
        "    # Remove single characters from the start\n",
        "data_df['processed_questions'] = data_df['questions'].str.replace(r'\\^[a-zA-Z]\\s+', ' ')\n",
        "    # Substituting multiple spaces with single space\n",
        "data_df['processed_questions'] = data_df['questions'].str.replace(r'\\s+', ' ')\n",
        "    # Removing prefixed 'b'\n",
        "data_df['processed_questions'] = data_df['questions'].str.replace(r'^b\\s+', '')\n",
        "    # Remove leading, trailing spaces\n",
        "data_df['processed_questions'] = data_df['questions'].str.strip()"
      ],
      "execution_count": 34,
      "outputs": []
    },
    {
      "cell_type": "code",
      "metadata": {
        "id": "LjBy4_OAUNNC",
        "outputId": "2ed43ea8-d076-487c-af66-678ffbed3958",
        "colab": {
          "base_uri": "https://localhost:8080/",
          "height": 221
        }
      },
      "source": [
        "data_df['processed_questions']"
      ],
      "execution_count": 35,
      "outputs": [
        {
          "output_type": "execute_result",
          "data": {
            "text/plain": [
              "0       What are the special things we (husband and me...\n",
              "1       What are the companies which organize shark fe...\n",
              "2       Is it safe for female traveller to go alone to...\n",
              "3       What are the best places around Cape Town for ...\n",
              "4       What are the best places to stay for a family ...\n",
              "                              ...                        \n",
              "4995    What is the best area to be based for sightsee...\n",
              "4996    What are the good value traditional bars and r...\n",
              "4997       What are the hotels near Alicante bus station?\n",
              "4998       Where to stay in La Gomera to mountain biking?\n",
              "4999    Is it possible to take a train trip from Santi...\n",
              "Name: processed_questions, Length: 5000, dtype: object"
            ]
          },
          "metadata": {
            "tags": []
          },
          "execution_count": 35
        }
      ]
    },
    {
      "cell_type": "markdown",
      "metadata": {
        "id": "MJ1jKjccehzz"
      },
      "source": [
        "## Lemmatizing"
      ]
    },
    {
      "cell_type": "code",
      "metadata": {
        "id": "NgCLhhWmZQAd"
      },
      "source": [
        "w_tokenizer = nltk.tokenize.WhitespaceTokenizer()\n",
        "lemmatizer = nltk.stem.WordNetLemmatizer()\n",
        "\n",
        "def lemmatize_text(text):\n",
        "  lem = [lemmatizer.lemmatize(w, pos=\"v\") for w in nltk.word_tokenize(text)]\n",
        "  return \" \".join(lem)"
      ],
      "execution_count": 66,
      "outputs": []
    },
    {
      "cell_type": "code",
      "metadata": {
        "id": "blLt_44caWZI"
      },
      "source": [
        "data_df[\"question_lemmatized\"] = data_df.processed_questions.apply(lemmatize_text)"
      ],
      "execution_count": 70,
      "outputs": []
    },
    {
      "cell_type": "code",
      "metadata": {
        "id": "9CEXVWJdcqAG",
        "outputId": "ba43a68d-f76d-4d3a-d9d9-b02764fe70d2",
        "colab": {
          "base_uri": "https://localhost:8080/",
          "height": 221
        }
      },
      "source": [
        "data_df[\"question_lemmatized\"]"
      ],
      "execution_count": 71,
      "outputs": [
        {
          "output_type": "execute_result",
          "data": {
            "text/plain": [
              "0       What be the special things we ( husband and me...\n",
              "1       What be the company which organize shark feed ...\n",
              "2       Is it safe for female traveller to go alone to...\n",
              "3       What be the best place around Cape Town for sa...\n",
              "4       What be the best place to stay for a family to...\n",
              "                              ...                        \n",
              "4995    What be the best area to be base for sightsee ...\n",
              "4996    What be the good value traditional bar and res...\n",
              "4997       What be the hotels near Alicante bus station ?\n",
              "4998        Where to stay in La Gomera to mountain bike ?\n",
              "4999    Is it possible to take a train trip from Santi...\n",
              "Name: question_lemmatized, Length: 5000, dtype: object"
            ]
          },
          "metadata": {
            "tags": []
          },
          "execution_count": 71
        }
      ]
    }
  ]
}