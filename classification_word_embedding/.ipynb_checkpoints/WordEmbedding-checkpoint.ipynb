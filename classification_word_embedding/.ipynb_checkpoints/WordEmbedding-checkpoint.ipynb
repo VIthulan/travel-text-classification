{
 "cells": [
  {
   "cell_type": "code",
   "execution_count": 5,
   "metadata": {},
   "outputs": [],
   "source": [
    "import numpy as np\n",
    "import pandas as pd\n",
    "import re\n",
    "\n",
    "import nltk\n",
    "import spacy\n",
    "nlp = spacy.load('en')\n",
    "import textacy"
   ]
  },
  {
   "cell_type": "code",
   "execution_count": 13,
   "metadata": {},
   "outputs": [
    {
     "name": "stderr",
     "output_type": "stream",
     "text": [
      "[nltk_data] Downloading package wordnet to\n",
      "[nltk_data]     /home/vithulanv/nltk_data...\n",
      "[nltk_data]   Unzipping corpora/wordnet.zip.\n"
     ]
    },
    {
     "data": {
      "text/plain": [
       "True"
      ]
     },
     "execution_count": 13,
     "metadata": {},
     "output_type": "execute_result"
    }
   ],
   "source": [
    "nltk.download('wordnet')"
   ]
  },
  {
   "cell_type": "code",
   "execution_count": 6,
   "metadata": {},
   "outputs": [],
   "source": [
    "col_names = ['questions', 'a', 'b']\n",
    "data_df = pd.read_csv(\"https://raw.githubusercontent.com/VIthulan/travel-text-classification/master/data/5000TravelQuestionsDataset.csv\", error_bad_lines=False,header=None, names=col_names, encoding='latin-1')"
   ]
  },
  {
   "cell_type": "code",
   "execution_count": 7,
   "metadata": {},
   "outputs": [
    {
     "data": {
      "text/html": [
       "<div>\n",
       "<style scoped>\n",
       "    .dataframe tbody tr th:only-of-type {\n",
       "        vertical-align: middle;\n",
       "    }\n",
       "\n",
       "    .dataframe tbody tr th {\n",
       "        vertical-align: top;\n",
       "    }\n",
       "\n",
       "    .dataframe thead th {\n",
       "        text-align: right;\n",
       "    }\n",
       "</style>\n",
       "<table border=\"1\" class=\"dataframe\">\n",
       "  <thead>\n",
       "    <tr style=\"text-align: right;\">\n",
       "      <th></th>\n",
       "      <th>questions</th>\n",
       "      <th>a</th>\n",
       "      <th>b</th>\n",
       "    </tr>\n",
       "  </thead>\n",
       "  <tbody>\n",
       "    <tr>\n",
       "      <th>0</th>\n",
       "      <td>What are the special things we (husband and me...</td>\n",
       "      <td>TTD</td>\n",
       "      <td>TTDSIG</td>\n",
       "    </tr>\n",
       "    <tr>\n",
       "      <th>1</th>\n",
       "      <td>What are the companies which organize shark fe...</td>\n",
       "      <td>TTD</td>\n",
       "      <td>TTDOTH</td>\n",
       "    </tr>\n",
       "    <tr>\n",
       "      <th>2</th>\n",
       "      <td>Is it safe for female traveller to go alone to...</td>\n",
       "      <td>TGU</td>\n",
       "      <td>TGUHEA</td>\n",
       "    </tr>\n",
       "    <tr>\n",
       "      <th>3</th>\n",
       "      <td>What are the best places around Cape Town for ...</td>\n",
       "      <td>TTD</td>\n",
       "      <td>TTDSIG</td>\n",
       "    </tr>\n",
       "    <tr>\n",
       "      <th>4</th>\n",
       "      <td>What are the best places to stay for a family ...</td>\n",
       "      <td>ACM</td>\n",
       "      <td>ACMOTH</td>\n",
       "    </tr>\n",
       "  </tbody>\n",
       "</table>\n",
       "</div>"
      ],
      "text/plain": [
       "                                           questions    a       b\n",
       "0  What are the special things we (husband and me...  TTD  TTDSIG\n",
       "1  What are the companies which organize shark fe...  TTD  TTDOTH\n",
       "2  Is it safe for female traveller to go alone to...  TGU  TGUHEA\n",
       "3  What are the best places around Cape Town for ...  TTD  TTDSIG\n",
       "4  What are the best places to stay for a family ...  ACM  ACMOTH"
      ]
     },
     "execution_count": 7,
     "metadata": {},
     "output_type": "execute_result"
    }
   ],
   "source": [
    "data_df.head()"
   ]
  },
  {
   "cell_type": "code",
   "execution_count": 14,
   "metadata": {},
   "outputs": [
    {
     "data": {
      "text/plain": [
       "TGU      1217\n",
       "TTD      1139\n",
       "TRS      1011\n",
       "ACM       720\n",
       "FOD       521\n",
       "ENT       214\n",
       "WTH       172\n",
       "TGU\\n       3\n",
       "\\nENT       2\n",
       "TTD\\n       1\n",
       "Name: a, dtype: int64"
      ]
     },
     "execution_count": 14,
     "metadata": {},
     "output_type": "execute_result"
    }
   ],
   "source": [
    "data_df['a'].value_counts()"
   ]
  },
  {
   "cell_type": "markdown",
   "metadata": {},
   "source": [
    "# Text Preprocessing"
   ]
  },
  {
   "cell_type": "code",
   "execution_count": 8,
   "metadata": {},
   "outputs": [],
   "source": [
    "stop_words = set(stopwords.words('english')) \n",
    "\n",
    "def remove_stopwords(text):\n",
    "  nltk.word_tokens = nltk.word_tokenize(text) \n",
    "  filtered_sentence = [w for w in word_tokens if not w in stop_words] \n",
    "  return \" \".join(filtered_sentence)"
   ]
  },
  {
   "cell_type": "code",
   "execution_count": 10,
   "metadata": {},
   "outputs": [],
   "source": [
    "# Remove all the special characters\n",
    "data_df['processed_questions'] = data_df['questions'].str.replace(r'\\W', ' ')\n",
    "    # remove all single characters\n",
    "data_df['processed_questions'] = data_df['processed_questions'].str.replace(r'\\s+[a-zA-Z]\\s+', ' ')\n",
    "    # Remove single characters from the start\n",
    "data_df['processed_questions'] = data_df['questions'].str.replace(r'\\^[a-zA-Z]\\s+', ' ')\n",
    "    # Substituting multiple spaces with single space\n",
    "data_df['processed_questions'] = data_df['questions'].str.replace(r'\\s+', ' ')\n",
    "    # Removing prefixed 'b'\n",
    "data_df['processed_questions'] = data_df['questions'].str.replace(r'^b\\s+', '')\n",
    "    # Remove leading, trailing spaces\n",
    "data_df['processed_questions'] = data_df['questions'].str.strip()\n",
    "# Stop word removal\n",
    "data_df['sw_removed_questions'] = data_df.processed_questions.apply(remove_stopwords)"
   ]
  },
  {
   "cell_type": "code",
   "execution_count": 18,
   "metadata": {},
   "outputs": [],
   "source": [
    "# Remove all the special characters\n",
    "data_df['processed_a'] = data_df['a'].str.replace(r'\\W', ' ')\n",
    "    # remove all single characters\n",
    "data_df['processed_a'] = data_df['a'].str.replace(r'\\s+[a-zA-Z]\\s+', ' ')\n",
    "    # Remove single characters from the start\n",
    "data_df['processed_a'] = data_df['a'].str.replace(r'\\^[a-zA-Z]\\s+', ' ')\n",
    "    # Substituting multiple spaces with single space\n",
    "data_df['processed_a'] = data_df['a'].str.replace(r'\\s+', ' ')\n",
    "    # Removing prefixed 'b'\n",
    "data_df['processed_a'] = data_df['a'].str.replace(r'^b\\s+', '')\n",
    "    # Remove leading, trailing spaces\n",
    "data_df['processed_a'] = data_df['a'].str.strip()"
   ]
  },
  {
   "cell_type": "markdown",
   "metadata": {},
   "source": [
    "## Lemmatizing\n"
   ]
  },
  {
   "cell_type": "code",
   "execution_count": 15,
   "metadata": {},
   "outputs": [],
   "source": [
    "w_tokenizer = nltk.tokenize.WhitespaceTokenizer()\n",
    "lemmatizer = nltk.stem.WordNetLemmatizer()\n",
    "\n",
    "def lemmatize_text(text):\n",
    "  lem = [lemmatizer.lemmatize(w, pos=\"v\") for w in nltk.word_tokenize(text)]\n",
    "  return \" \".join(lem)"
   ]
  },
  {
   "cell_type": "code",
   "execution_count": 16,
   "metadata": {},
   "outputs": [],
   "source": [
    "data_df[\"question_lemmatized\"] = data_df.processed_questions.apply(lemmatize_text)"
   ]
  },
  {
   "cell_type": "code",
   "execution_count": 17,
   "metadata": {},
   "outputs": [],
   "source": [
    "data_df[\"question_lemmatized_sw\"] = data_df.sw_removed_questions.apply(lemmatize_text)"
   ]
  },
  {
   "cell_type": "code",
   "execution_count": 19,
   "metadata": {},
   "outputs": [
    {
     "data": {
      "text/html": [
       "<div>\n",
       "<style scoped>\n",
       "    .dataframe tbody tr th:only-of-type {\n",
       "        vertical-align: middle;\n",
       "    }\n",
       "\n",
       "    .dataframe tbody tr th {\n",
       "        vertical-align: top;\n",
       "    }\n",
       "\n",
       "    .dataframe thead th {\n",
       "        text-align: right;\n",
       "    }\n",
       "</style>\n",
       "<table border=\"1\" class=\"dataframe\">\n",
       "  <thead>\n",
       "    <tr style=\"text-align: right;\">\n",
       "      <th></th>\n",
       "      <th>questions</th>\n",
       "      <th>a</th>\n",
       "      <th>b</th>\n",
       "      <th>processed_questions</th>\n",
       "      <th>sw_removed_questions</th>\n",
       "      <th>question_lemmatized</th>\n",
       "      <th>question_lemmatized_sw</th>\n",
       "      <th>processed_a</th>\n",
       "    </tr>\n",
       "  </thead>\n",
       "  <tbody>\n",
       "    <tr>\n",
       "      <th>0</th>\n",
       "      <td>What are the special things we (husband and me...</td>\n",
       "      <td>TTD</td>\n",
       "      <td>TTDSIG</td>\n",
       "      <td>What are the special things we (husband and me...</td>\n",
       "      <td>What special things ( husband ) 5 day stay Cap...</td>\n",
       "      <td>What be the special things we ( husband and me...</td>\n",
       "      <td>What special things ( husband ) 5 day stay Cap...</td>\n",
       "      <td>TTD</td>\n",
       "    </tr>\n",
       "    <tr>\n",
       "      <th>1</th>\n",
       "      <td>What are the companies which organize shark fe...</td>\n",
       "      <td>TTD</td>\n",
       "      <td>TTDOTH</td>\n",
       "      <td>What are the companies which organize shark fe...</td>\n",
       "      <td>What companies organize shark feeding events s...</td>\n",
       "      <td>What be the company which organize shark feed ...</td>\n",
       "      <td>What company organize shark feed events scuba ...</td>\n",
       "      <td>TTD</td>\n",
       "    </tr>\n",
       "    <tr>\n",
       "      <th>2</th>\n",
       "      <td>Is it safe for female traveller to go alone to...</td>\n",
       "      <td>TGU</td>\n",
       "      <td>TGUHEA</td>\n",
       "      <td>Is it safe for female traveller to go alone to...</td>\n",
       "      <td>Is safe female traveller go alone Cape Town ?</td>\n",
       "      <td>Is it safe for female traveller to go alone to...</td>\n",
       "      <td>Is safe female traveller go alone Cape Town ?</td>\n",
       "      <td>TGU</td>\n",
       "    </tr>\n",
       "    <tr>\n",
       "      <th>3</th>\n",
       "      <td>What are the best places around Cape Town for ...</td>\n",
       "      <td>TTD</td>\n",
       "      <td>TTDSIG</td>\n",
       "      <td>What are the best places around Cape Town for ...</td>\n",
       "      <td>What best places around Cape Town safari ?</td>\n",
       "      <td>What be the best place around Cape Town for sa...</td>\n",
       "      <td>What best place around Cape Town safari ?</td>\n",
       "      <td>TTD</td>\n",
       "    </tr>\n",
       "    <tr>\n",
       "      <th>4</th>\n",
       "      <td>What are the best places to stay for a family ...</td>\n",
       "      <td>ACM</td>\n",
       "      <td>ACMOTH</td>\n",
       "      <td>What are the best places to stay for a family ...</td>\n",
       "      <td>What best places stay family stay away nightli...</td>\n",
       "      <td>What be the best place to stay for a family to...</td>\n",
       "      <td>What best place stay family stay away nightlife ?</td>\n",
       "      <td>ACM</td>\n",
       "    </tr>\n",
       "  </tbody>\n",
       "</table>\n",
       "</div>"
      ],
      "text/plain": [
       "                                           questions    a       b  \\\n",
       "0  What are the special things we (husband and me...  TTD  TTDSIG   \n",
       "1  What are the companies which organize shark fe...  TTD  TTDOTH   \n",
       "2  Is it safe for female traveller to go alone to...  TGU  TGUHEA   \n",
       "3  What are the best places around Cape Town for ...  TTD  TTDSIG   \n",
       "4  What are the best places to stay for a family ...  ACM  ACMOTH   \n",
       "\n",
       "                                 processed_questions  \\\n",
       "0  What are the special things we (husband and me...   \n",
       "1  What are the companies which organize shark fe...   \n",
       "2  Is it safe for female traveller to go alone to...   \n",
       "3  What are the best places around Cape Town for ...   \n",
       "4  What are the best places to stay for a family ...   \n",
       "\n",
       "                                sw_removed_questions  \\\n",
       "0  What special things ( husband ) 5 day stay Cap...   \n",
       "1  What companies organize shark feeding events s...   \n",
       "2      Is safe female traveller go alone Cape Town ?   \n",
       "3         What best places around Cape Town safari ?   \n",
       "4  What best places stay family stay away nightli...   \n",
       "\n",
       "                                 question_lemmatized  \\\n",
       "0  What be the special things we ( husband and me...   \n",
       "1  What be the company which organize shark feed ...   \n",
       "2  Is it safe for female traveller to go alone to...   \n",
       "3  What be the best place around Cape Town for sa...   \n",
       "4  What be the best place to stay for a family to...   \n",
       "\n",
       "                              question_lemmatized_sw processed_a  \n",
       "0  What special things ( husband ) 5 day stay Cap...         TTD  \n",
       "1  What company organize shark feed events scuba ...         TTD  \n",
       "2      Is safe female traveller go alone Cape Town ?         TGU  \n",
       "3          What best place around Cape Town safari ?         TTD  \n",
       "4  What best place stay family stay away nightlife ?         ACM  "
      ]
     },
     "execution_count": 19,
     "metadata": {},
     "output_type": "execute_result"
    }
   ],
   "source": [
    "data_df.head()"
   ]
  },
  {
   "cell_type": "code",
   "execution_count": 20,
   "metadata": {},
   "outputs": [
    {
     "data": {
      "text/plain": [
       "TGU    1220\n",
       "TTD    1140\n",
       "TRS    1011\n",
       "ACM     720\n",
       "FOD     521\n",
       "ENT     216\n",
       "WTH     172\n",
       "Name: processed_a, dtype: int64"
      ]
     },
     "execution_count": 20,
     "metadata": {},
     "output_type": "execute_result"
    }
   ],
   "source": [
    "data_df['processed_a'].value_counts()"
   ]
  },
  {
   "cell_type": "markdown",
   "metadata": {},
   "source": [
    "# FastText"
   ]
  },
  {
   "cell_type": "code",
   "execution_count": null,
   "metadata": {},
   "outputs": [],
   "source": [
    "from gensim.models.wrappers import FastText\n"
   ]
  }
 ],
 "metadata": {
  "kernelspec": {
   "display_name": "Python 3",
   "language": "python",
   "name": "python3"
  },
  "language_info": {
   "codemirror_mode": {
    "name": "ipython",
    "version": 3
   },
   "file_extension": ".py",
   "mimetype": "text/x-python",
   "name": "python",
   "nbconvert_exporter": "python",
   "pygments_lexer": "ipython3",
   "version": "3.6.9"
  }
 },
 "nbformat": 4,
 "nbformat_minor": 4
}
