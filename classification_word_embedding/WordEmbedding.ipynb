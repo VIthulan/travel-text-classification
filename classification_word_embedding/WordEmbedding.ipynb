{
  "nbformat": 4,
  "nbformat_minor": 0,
  "metadata": {
    "kernelspec": {
      "display_name": "Python 3",
      "language": "python",
      "name": "python3"
    },
    "language_info": {
      "codemirror_mode": {
        "name": "ipython",
        "version": 3
      },
      "file_extension": ".py",
      "mimetype": "text/x-python",
      "name": "python",
      "nbconvert_exporter": "python",
      "pygments_lexer": "ipython3",
      "version": "3.6.9"
    },
    "colab": {
      "name": "WordEmbedding.ipynb",
      "provenance": [],
      "collapsed_sections": []
    }
  },
  "cells": [
    {
      "cell_type": "code",
      "metadata": {
        "id": "RhSukhg6o7Bk"
      },
      "source": [
        "import numpy as np\n",
        "import pandas as pd\n",
        "import re\n",
        "\n",
        "import nltk\n",
        "import spacy\n",
        "from nltk.corpus import stopwords\n",
        "\n",
        "nlp = spacy.load('en')"
      ],
      "execution_count": 13,
      "outputs": []
    },
    {
      "cell_type": "code",
      "metadata": {
        "id": "SeEvOwSUo7Br",
        "outputId": "b9b9096c-972a-4917-ba77-d6232593db7e",
        "colab": {
          "base_uri": "https://localhost:8080/",
          "height": 340
        }
      },
      "source": [
        "nltk.download('wordnet')\n",
        "nltk.download('stopwords')\n",
        "nltk.download('punkt')\n",
        "!pip install fasttext"
      ],
      "execution_count": 14,
      "outputs": [
        {
          "output_type": "stream",
          "text": [
            "[nltk_data] Downloading package wordnet to /root/nltk_data...\n",
            "[nltk_data]   Unzipping corpora/wordnet.zip.\n",
            "[nltk_data] Downloading package stopwords to /root/nltk_data...\n",
            "[nltk_data]   Unzipping corpora/stopwords.zip.\n",
            "[nltk_data] Downloading package punkt to /root/nltk_data...\n",
            "[nltk_data]   Unzipping tokenizers/punkt.zip.\n",
            "Collecting fasttext\n",
            "\u001b[?25l  Downloading https://files.pythonhosted.org/packages/f8/85/e2b368ab6d3528827b147fdb814f8189acc981a4bc2f99ab894650e05c40/fasttext-0.9.2.tar.gz (68kB)\n",
            "\u001b[K     |████████████████████████████████| 71kB 2.9MB/s \n",
            "\u001b[?25hRequirement already satisfied: pybind11>=2.2 in /usr/local/lib/python3.6/dist-packages (from fasttext) (2.5.0)\n",
            "Requirement already satisfied: setuptools>=0.7.0 in /usr/local/lib/python3.6/dist-packages (from fasttext) (50.3.0)\n",
            "Requirement already satisfied: numpy in /usr/local/lib/python3.6/dist-packages (from fasttext) (1.18.5)\n",
            "Building wheels for collected packages: fasttext\n",
            "  Building wheel for fasttext (setup.py) ... \u001b[?25l\u001b[?25hdone\n",
            "  Created wheel for fasttext: filename=fasttext-0.9.2-cp36-cp36m-linux_x86_64.whl size=3019556 sha256=247a667413e172504420082eeef33dd3256d0ace836371c72dd4e27fc5328cbb\n",
            "  Stored in directory: /root/.cache/pip/wheels/98/ba/7f/b154944a1cf5a8cee91c154b75231136cc3a3321ab0e30f592\n",
            "Successfully built fasttext\n",
            "Installing collected packages: fasttext\n",
            "Successfully installed fasttext-0.9.2\n"
          ],
          "name": "stdout"
        }
      ]
    },
    {
      "cell_type": "code",
      "metadata": {
        "id": "ImWFLMvBo7Bw"
      },
      "source": [
        "col_names = ['questions', 'a', 'b']\n",
        "data_df = pd.read_csv(\"https://raw.githubusercontent.com/VIthulan/travel-text-classification/master/data/5000TravelQuestionsDataset.csv\", error_bad_lines=False,header=None, names=col_names, encoding='latin-1')"
      ],
      "execution_count": 15,
      "outputs": []
    },
    {
      "cell_type": "code",
      "metadata": {
        "id": "ULuAi3DEo7B1",
        "outputId": "4a26fe7c-777b-41cf-d093-398ad971321a",
        "colab": {
          "base_uri": "https://localhost:8080/",
          "height": 204
        }
      },
      "source": [
        "data_df.head()"
      ],
      "execution_count": 16,
      "outputs": [
        {
          "output_type": "execute_result",
          "data": {
            "text/html": [
              "<div>\n",
              "<style scoped>\n",
              "    .dataframe tbody tr th:only-of-type {\n",
              "        vertical-align: middle;\n",
              "    }\n",
              "\n",
              "    .dataframe tbody tr th {\n",
              "        vertical-align: top;\n",
              "    }\n",
              "\n",
              "    .dataframe thead th {\n",
              "        text-align: right;\n",
              "    }\n",
              "</style>\n",
              "<table border=\"1\" class=\"dataframe\">\n",
              "  <thead>\n",
              "    <tr style=\"text-align: right;\">\n",
              "      <th></th>\n",
              "      <th>questions</th>\n",
              "      <th>a</th>\n",
              "      <th>b</th>\n",
              "    </tr>\n",
              "  </thead>\n",
              "  <tbody>\n",
              "    <tr>\n",
              "      <th>0</th>\n",
              "      <td>What are the special things we (husband and me...</td>\n",
              "      <td>TTD</td>\n",
              "      <td>TTDSIG</td>\n",
              "    </tr>\n",
              "    <tr>\n",
              "      <th>1</th>\n",
              "      <td>What are the companies which organize shark fe...</td>\n",
              "      <td>TTD</td>\n",
              "      <td>TTDOTH</td>\n",
              "    </tr>\n",
              "    <tr>\n",
              "      <th>2</th>\n",
              "      <td>Is it safe for female traveller to go alone to...</td>\n",
              "      <td>TGU</td>\n",
              "      <td>TGUHEA</td>\n",
              "    </tr>\n",
              "    <tr>\n",
              "      <th>3</th>\n",
              "      <td>What are the best places around Cape Town for ...</td>\n",
              "      <td>TTD</td>\n",
              "      <td>TTDSIG</td>\n",
              "    </tr>\n",
              "    <tr>\n",
              "      <th>4</th>\n",
              "      <td>What are the best places to stay for a family ...</td>\n",
              "      <td>ACM</td>\n",
              "      <td>ACMOTH</td>\n",
              "    </tr>\n",
              "  </tbody>\n",
              "</table>\n",
              "</div>"
            ],
            "text/plain": [
              "                                           questions    a       b\n",
              "0  What are the special things we (husband and me...  TTD  TTDSIG\n",
              "1  What are the companies which organize shark fe...  TTD  TTDOTH\n",
              "2  Is it safe for female traveller to go alone to...  TGU  TGUHEA\n",
              "3  What are the best places around Cape Town for ...  TTD  TTDSIG\n",
              "4  What are the best places to stay for a family ...  ACM  ACMOTH"
            ]
          },
          "metadata": {
            "tags": []
          },
          "execution_count": 16
        }
      ]
    },
    {
      "cell_type": "code",
      "metadata": {
        "id": "Rkxjcxe4o7B5",
        "outputId": "9fa865e4-15a0-4944-a0e7-b3d5ce4d18fe",
        "colab": {
          "base_uri": "https://localhost:8080/",
          "height": 204
        }
      },
      "source": [
        "data_df['a'].value_counts()"
      ],
      "execution_count": 17,
      "outputs": [
        {
          "output_type": "execute_result",
          "data": {
            "text/plain": [
              "TGU      1217\n",
              "TTD      1139\n",
              "TRS      1011\n",
              "ACM       720\n",
              "FOD       521\n",
              "ENT       214\n",
              "WTH       172\n",
              "TGU\\n       3\n",
              "\\nENT       2\n",
              "TTD\\n       1\n",
              "Name: a, dtype: int64"
            ]
          },
          "metadata": {
            "tags": []
          },
          "execution_count": 17
        }
      ]
    },
    {
      "cell_type": "markdown",
      "metadata": {
        "id": "1Crc3RtDo7B9"
      },
      "source": [
        "# Text Preprocessing"
      ]
    },
    {
      "cell_type": "code",
      "metadata": {
        "id": "-4IT43eYo7B-"
      },
      "source": [
        "stop_words = set(stopwords.words('english')) \n",
        "\n",
        "def remove_stopwords(text):\n",
        "  word_tokens = nltk.word_tokenize(text) \n",
        "  filtered_sentence = [w for w in word_tokens if not w in stop_words] \n",
        "  return \" \".join(filtered_sentence)"
      ],
      "execution_count": 18,
      "outputs": []
    },
    {
      "cell_type": "code",
      "metadata": {
        "id": "9n3Mu-X8o7CB"
      },
      "source": [
        "# Remove all the special characters\n",
        "data_df['processed_questions'] = data_df['questions'].str.replace(r'\\W', ' ')\n",
        "    # remove all single characters\n",
        "data_df['processed_questions'] = data_df['processed_questions'].str.replace(r'\\s+[a-zA-Z]\\s+', ' ')\n",
        "    # Remove single characters from the start\n",
        "data_df['processed_questions'] = data_df['questions'].str.replace(r'\\^[a-zA-Z]\\s+', ' ')\n",
        "    # Substituting multiple spaces with single space\n",
        "data_df['processed_questions'] = data_df['questions'].str.replace(r'\\s+', ' ')\n",
        "    # Removing prefixed 'b'\n",
        "data_df['processed_questions'] = data_df['questions'].str.replace(r'^b\\s+', '')\n",
        "    # Remove leading, trailing spaces\n",
        "data_df['processed_questions'] = data_df['questions'].str.strip()\n",
        "# Stop word removal\n",
        "data_df['sw_removed_questions'] = data_df.processed_questions.apply(remove_stopwords)"
      ],
      "execution_count": 19,
      "outputs": []
    },
    {
      "cell_type": "code",
      "metadata": {
        "id": "Ig17x--Fo7CH"
      },
      "source": [
        "# Remove all the special characters\n",
        "data_df['processed_a'] = data_df['a'].str.replace(r'\\W', ' ')\n",
        "    # remove all single characters\n",
        "data_df['processed_a'] = data_df['a'].str.replace(r'\\s+[a-zA-Z]\\s+', ' ')\n",
        "    # Remove single characters from the start\n",
        "data_df['processed_a'] = data_df['a'].str.replace(r'\\^[a-zA-Z]\\s+', ' ')\n",
        "    # Substituting multiple spaces with single space\n",
        "data_df['processed_a'] = data_df['a'].str.replace(r'\\s+', ' ')\n",
        "    # Removing prefixed 'b'\n",
        "data_df['processed_a'] = data_df['a'].str.replace(r'^b\\s+', '')\n",
        "    # Remove leading, trailing spaces\n",
        "data_df['processed_a'] = data_df['a'].str.strip()"
      ],
      "execution_count": 20,
      "outputs": []
    },
    {
      "cell_type": "markdown",
      "metadata": {
        "id": "4DMoB1Y4o7CK"
      },
      "source": [
        "## Lemmatizing\n"
      ]
    },
    {
      "cell_type": "code",
      "metadata": {
        "id": "9WdccBRUo7CL"
      },
      "source": [
        "w_tokenizer = nltk.tokenize.WhitespaceTokenizer()\n",
        "lemmatizer = nltk.stem.WordNetLemmatizer()\n",
        "\n",
        "def lemmatize_text(text):\n",
        "  lem = [lemmatizer.lemmatize(w, pos=\"v\") for w in nltk.word_tokenize(text)]\n",
        "  return \" \".join(lem)"
      ],
      "execution_count": 21,
      "outputs": []
    },
    {
      "cell_type": "code",
      "metadata": {
        "id": "ZxyqC9Zgo7CO"
      },
      "source": [
        "data_df[\"question_lemmatized\"] = data_df.processed_questions.apply(lemmatize_text)"
      ],
      "execution_count": 22,
      "outputs": []
    },
    {
      "cell_type": "code",
      "metadata": {
        "id": "k5_E-8Cko7CS"
      },
      "source": [
        "data_df[\"question_lemmatized_sw\"] = data_df.sw_removed_questions.apply(lemmatize_text)"
      ],
      "execution_count": 23,
      "outputs": []
    },
    {
      "cell_type": "code",
      "metadata": {
        "id": "ankAmtvbo7CW",
        "outputId": "371c3df6-c9d2-4c02-a40a-b929165327b7",
        "colab": {
          "base_uri": "https://localhost:8080/",
          "height": 289
        }
      },
      "source": [
        "data_df.head()"
      ],
      "execution_count": 24,
      "outputs": [
        {
          "output_type": "execute_result",
          "data": {
            "text/html": [
              "<div>\n",
              "<style scoped>\n",
              "    .dataframe tbody tr th:only-of-type {\n",
              "        vertical-align: middle;\n",
              "    }\n",
              "\n",
              "    .dataframe tbody tr th {\n",
              "        vertical-align: top;\n",
              "    }\n",
              "\n",
              "    .dataframe thead th {\n",
              "        text-align: right;\n",
              "    }\n",
              "</style>\n",
              "<table border=\"1\" class=\"dataframe\">\n",
              "  <thead>\n",
              "    <tr style=\"text-align: right;\">\n",
              "      <th></th>\n",
              "      <th>questions</th>\n",
              "      <th>a</th>\n",
              "      <th>b</th>\n",
              "      <th>processed_questions</th>\n",
              "      <th>sw_removed_questions</th>\n",
              "      <th>processed_a</th>\n",
              "      <th>question_lemmatized</th>\n",
              "      <th>question_lemmatized_sw</th>\n",
              "    </tr>\n",
              "  </thead>\n",
              "  <tbody>\n",
              "    <tr>\n",
              "      <th>0</th>\n",
              "      <td>What are the special things we (husband and me...</td>\n",
              "      <td>TTD</td>\n",
              "      <td>TTDSIG</td>\n",
              "      <td>What are the special things we (husband and me...</td>\n",
              "      <td>What special things ( husband ) 5 day stay Cap...</td>\n",
              "      <td>TTD</td>\n",
              "      <td>What be the special things we ( husband and me...</td>\n",
              "      <td>What special things ( husband ) 5 day stay Cap...</td>\n",
              "    </tr>\n",
              "    <tr>\n",
              "      <th>1</th>\n",
              "      <td>What are the companies which organize shark fe...</td>\n",
              "      <td>TTD</td>\n",
              "      <td>TTDOTH</td>\n",
              "      <td>What are the companies which organize shark fe...</td>\n",
              "      <td>What companies organize shark feeding events s...</td>\n",
              "      <td>TTD</td>\n",
              "      <td>What be the company which organize shark feed ...</td>\n",
              "      <td>What company organize shark feed events scuba ...</td>\n",
              "    </tr>\n",
              "    <tr>\n",
              "      <th>2</th>\n",
              "      <td>Is it safe for female traveller to go alone to...</td>\n",
              "      <td>TGU</td>\n",
              "      <td>TGUHEA</td>\n",
              "      <td>Is it safe for female traveller to go alone to...</td>\n",
              "      <td>Is safe female traveller go alone Cape Town ?</td>\n",
              "      <td>TGU</td>\n",
              "      <td>Is it safe for female traveller to go alone to...</td>\n",
              "      <td>Is safe female traveller go alone Cape Town ?</td>\n",
              "    </tr>\n",
              "    <tr>\n",
              "      <th>3</th>\n",
              "      <td>What are the best places around Cape Town for ...</td>\n",
              "      <td>TTD</td>\n",
              "      <td>TTDSIG</td>\n",
              "      <td>What are the best places around Cape Town for ...</td>\n",
              "      <td>What best places around Cape Town safari ?</td>\n",
              "      <td>TTD</td>\n",
              "      <td>What be the best place around Cape Town for sa...</td>\n",
              "      <td>What best place around Cape Town safari ?</td>\n",
              "    </tr>\n",
              "    <tr>\n",
              "      <th>4</th>\n",
              "      <td>What are the best places to stay for a family ...</td>\n",
              "      <td>ACM</td>\n",
              "      <td>ACMOTH</td>\n",
              "      <td>What are the best places to stay for a family ...</td>\n",
              "      <td>What best places stay family stay away nightli...</td>\n",
              "      <td>ACM</td>\n",
              "      <td>What be the best place to stay for a family to...</td>\n",
              "      <td>What best place stay family stay away nightlife ?</td>\n",
              "    </tr>\n",
              "  </tbody>\n",
              "</table>\n",
              "</div>"
            ],
            "text/plain": [
              "                                           questions  ...                             question_lemmatized_sw\n",
              "0  What are the special things we (husband and me...  ...  What special things ( husband ) 5 day stay Cap...\n",
              "1  What are the companies which organize shark fe...  ...  What company organize shark feed events scuba ...\n",
              "2  Is it safe for female traveller to go alone to...  ...      Is safe female traveller go alone Cape Town ?\n",
              "3  What are the best places around Cape Town for ...  ...          What best place around Cape Town safari ?\n",
              "4  What are the best places to stay for a family ...  ...  What best place stay family stay away nightlife ?\n",
              "\n",
              "[5 rows x 8 columns]"
            ]
          },
          "metadata": {
            "tags": []
          },
          "execution_count": 24
        }
      ]
    },
    {
      "cell_type": "code",
      "metadata": {
        "id": "XiSW8BP4o7CZ",
        "outputId": "6c3d9a5e-04f2-4b8b-b81c-c7dd219a6127",
        "colab": {
          "base_uri": "https://localhost:8080/",
          "height": 153
        }
      },
      "source": [
        "data_df['processed_a'].value_counts()"
      ],
      "execution_count": 25,
      "outputs": [
        {
          "output_type": "execute_result",
          "data": {
            "text/plain": [
              "TGU    1220\n",
              "TTD    1140\n",
              "TRS    1011\n",
              "ACM     720\n",
              "FOD     521\n",
              "ENT     216\n",
              "WTH     172\n",
              "Name: processed_a, dtype: int64"
            ]
          },
          "metadata": {
            "tags": []
          },
          "execution_count": 25
        }
      ]
    },
    {
      "cell_type": "code",
      "metadata": {
        "id": "V6u_SCVXEN_k"
      },
      "source": [
        "def sent_tokenize(sent):\n",
        "    temp=nlp(sent)\n",
        "    return [str(token) for token in temp if not token.is_stop]"
      ],
      "execution_count": 63,
      "outputs": []
    },
    {
      "cell_type": "code",
      "metadata": {
        "id": "gx4fpX-WEPhK"
      },
      "source": [
        "X=[sent_tokenize(sent) for sent in data_df.question_lemmatized_sw]"
      ],
      "execution_count": 65,
      "outputs": []
    },
    {
      "cell_type": "code",
      "metadata": {
        "id": "wy-TPbTVKlnN",
        "outputId": "77c0ab76-0d3b-47e5-d684-5a5729dab8b1",
        "colab": {
          "base_uri": "https://localhost:8080/",
          "height": 238
        }
      },
      "source": [
        "X[:3]"
      ],
      "execution_count": 86,
      "outputs": [
        {
          "output_type": "execute_result",
          "data": {
            "text/plain": [
              "[['special',\n",
              "  'things',\n",
              "  '(',\n",
              "  'husband',\n",
              "  ')',\n",
              "  '5',\n",
              "  'day',\n",
              "  'stay',\n",
              "  'Cape',\n",
              "  'Town',\n",
              "  '?'],\n",
              " ['company', 'organize', 'shark', 'feed', 'events', 'scuba', 'divers', '?'],\n",
              " ['safe', 'female', 'traveller', 'Cape', 'Town', '?']]"
            ]
          },
          "metadata": {
            "tags": []
          },
          "execution_count": 86
        }
      ]
    },
    {
      "cell_type": "markdown",
      "metadata": {
        "id": "MN9Oj9Kso7Cd"
      },
      "source": [
        "# FastText"
      ]
    },
    {
      "cell_type": "code",
      "metadata": {
        "id": "Jd6-lDGAqC8L"
      },
      "source": [
        "# !pwd\n",
        "# !wget https://dl.fbaipublicfiles.com/fasttext/vectors-crawl/cc.en.300.bin.gz"
      ],
      "execution_count": 26,
      "outputs": []
    },
    {
      "cell_type": "code",
      "metadata": {
        "id": "y7kNY6Sdr_Bb",
        "outputId": "ac1c525d-e61f-4976-b0e1-231dff830e21",
        "colab": {
          "base_uri": "https://localhost:8080/",
          "height": 51
        }
      },
      "source": [
        "!ls\n",
        "!ls /content/cc.en.300.bin.gz"
      ],
      "execution_count": 27,
      "outputs": [
        {
          "output_type": "stream",
          "text": [
            "cc.en.300.bin.gz  sample_data\n",
            "/content/cc.en.300.bin.gz\n"
          ],
          "name": "stdout"
        }
      ]
    },
    {
      "cell_type": "code",
      "metadata": {
        "id": "R9c-xrxCo7Cf"
      },
      "source": [
        "# from gensim.models.wrappers import FastText\n",
        "# model = FastText.load_fasttext_format('cc.en.300.bin.gz')\n"
      ],
      "execution_count": 28,
      "outputs": []
    },
    {
      "cell_type": "code",
      "metadata": {
        "id": "kcptbCUnt3EE",
        "outputId": "1220df60-4045-4bad-a518-b740065fc9f8",
        "colab": {
          "base_uri": "https://localhost:8080/",
          "height": 34
        }
      },
      "source": [
        "import fasttext.util\n",
        "fasttext.util.download_model('en', if_exists='ignore')  # English\n",
        "ft = fasttext.load_model('cc.en.300.bin')"
      ],
      "execution_count": 29,
      "outputs": [
        {
          "output_type": "stream",
          "text": [
            "Warning : `load_model` does not return WordVectorModel or SupervisedModel any more, but a `FastText` object which is very similar.\n"
          ],
          "name": "stderr"
        }
      ]
    },
    {
      "cell_type": "code",
      "metadata": {
        "id": "k4QGHdZx1S5M",
        "outputId": "c40aec80-98ca-4f8f-e912-727ac1f3941c",
        "colab": {
          "base_uri": "https://localhost:8080/",
          "height": 1000
        }
      },
      "source": [
        "he = ft[\"teacher\"]"
      ],
      "execution_count": 30,
      "outputs": [
        {
          "output_type": "execute_result",
          "data": {
            "text/plain": [
              "array([-3.37157771e-02,  1.86038446e-02, -2.43569463e-02,  2.98006386e-02,\n",
              "       -5.41805997e-02, -7.43865520e-02,  9.18784738e-02,  5.72655760e-02,\n",
              "       -3.24940979e-02, -2.79742619e-03, -4.66130748e-02, -6.81853816e-02,\n",
              "       -3.45561430e-02,  1.01253584e-01,  2.45907363e-02,  1.91315524e-02,\n",
              "       -6.44066092e-03, -3.63045335e-02,  6.24461137e-02,  5.49906157e-02,\n",
              "        1.62455009e-03,  2.67509967e-02,  7.10245520e-02,  2.77895182e-02,\n",
              "       -3.60139966e-04, -2.80277729e-02,  1.63025986e-02,  3.47395032e-03,\n",
              "        4.01230343e-02,  8.95214677e-02, -2.33499762e-02, -6.42535910e-02,\n",
              "       -1.32474136e-02,  1.71577297e-02, -1.54677406e-02,  1.85072795e-02,\n",
              "        1.22898594e-02, -5.67965209e-02, -2.69526951e-02, -5.92068210e-03,\n",
              "       -1.43350456e-02, -1.55877015e-02, -8.71555954e-02,  1.33018717e-01,\n",
              "       -7.59121031e-02, -1.79398712e-02,  3.16942446e-02,  2.57759914e-02,\n",
              "       -2.78638862e-02, -9.29461643e-02,  3.61621156e-02,  8.17714036e-02,\n",
              "       -4.87468205e-02,  8.43780562e-02,  3.38717327e-02, -7.82341603e-03,\n",
              "        1.23361368e-02,  2.54275315e-02, -2.66984459e-02,  3.44720408e-02,\n",
              "       -4.50552814e-02, -4.90283687e-03,  4.26637195e-02,  3.61141041e-02,\n",
              "       -8.17434415e-02, -1.99936330e-05,  4.41662036e-02,  2.72121541e-02,\n",
              "        1.92173466e-03,  8.46855566e-02, -6.54235184e-02,  9.00105238e-02,\n",
              "       -2.65114754e-02, -1.02941580e-02,  1.48489391e-02, -3.11667081e-02,\n",
              "       -3.14843357e-02, -6.13637716e-02, -3.27830911e-02,  5.41391298e-02,\n",
              "       -4.17350531e-02, -2.54543200e-02, -2.20700949e-02,  3.95005532e-02,\n",
              "        1.19390467e-03,  1.86013361e-03,  1.45030599e-02, -2.49774978e-02,\n",
              "        7.81814232e-02, -1.75329335e-02, -2.46320367e-02,  1.06558025e-01,\n",
              "       -3.00576203e-02,  7.15468749e-02, -4.85447459e-02,  5.98419867e-02,\n",
              "        4.14641611e-02, -1.82443336e-02, -4.58829338e-03,  2.29614638e-02,\n",
              "        9.66395885e-02, -1.15187122e-02, -7.10504800e-02,  2.43785861e-03,\n",
              "       -2.78882347e-02,  2.17708256e-02, -1.81650948e-02,  3.65703702e-02,\n",
              "       -1.95944346e-02, -9.86978412e-04,  1.03456629e-02,  4.48579341e-02,\n",
              "        1.52317164e-02,  3.41062211e-02,  4.68610041e-02, -6.64485395e-02,\n",
              "       -4.70263660e-02,  9.72163007e-02,  3.18943299e-02,  4.16474566e-02,\n",
              "        8.48440826e-03,  4.62563708e-02,  4.31136340e-02, -1.18962058e-03,\n",
              "       -1.53083485e-02,  2.12574154e-02, -4.99099903e-02,  1.29813477e-02,\n",
              "        7.85393827e-03, -1.86797716e-02, -1.51635308e-04, -3.58235054e-02,\n",
              "        1.41654685e-02,  1.06369145e-02,  1.01690991e-02, -4.34481315e-02,\n",
              "        3.25168893e-02,  5.97670441e-03,  1.17456941e-02, -4.34814617e-02,\n",
              "       -4.93305288e-02,  4.36191559e-02, -4.60141450e-02,  5.74476384e-02,\n",
              "       -2.99688932e-02, -1.71494558e-02, -1.16953284e-01,  4.81154136e-02,\n",
              "        4.92899213e-03,  1.76349990e-02,  2.36386843e-02, -9.90268141e-02,\n",
              "        2.95228213e-02, -3.60630266e-02,  1.46986544e-02,  4.93969768e-03,\n",
              "        7.17447549e-02,  3.07188537e-02,  4.53702919e-02,  5.88609744e-03,\n",
              "       -3.36386599e-02,  8.27242248e-03,  6.44509643e-02, -7.49233067e-02,\n",
              "       -7.62870349e-03, -4.80818413e-02, -8.90766978e-02, -4.54383940e-02,\n",
              "       -3.04548200e-02, -6.45393506e-02, -6.51253834e-02, -5.14204018e-02,\n",
              "        1.02591198e-02, -1.87980980e-02, -4.97259796e-02,  6.20770827e-03,\n",
              "        6.56511215e-03,  4.00676578e-02, -5.86567335e-02, -1.37756988e-02,\n",
              "       -3.16105336e-02,  4.96450439e-02, -4.80935443e-03, -5.04730344e-02,\n",
              "       -4.00200747e-02,  1.70279499e-02, -2.88282968e-02,  3.69025916e-02,\n",
              "        3.22706178e-02,  2.17101090e-02,  1.00830421e-02, -5.52332914e-03,\n",
              "        8.10473692e-03, -2.79211812e-03, -8.06950033e-02,  1.09848959e-04,\n",
              "        4.68923375e-02, -7.54802972e-02, -3.14811841e-02,  4.32476848e-02,\n",
              "        3.77494916e-02, -6.44130050e-04,  8.13563466e-02,  1.00897029e-02,\n",
              "        3.74926925e-02,  6.95935860e-02,  9.96649414e-02, -8.67534503e-02,\n",
              "        1.40842597e-03,  8.06072801e-02,  3.29670571e-02,  2.44129337e-02,\n",
              "       -4.70204428e-02, -2.96623521e-02,  1.48983132e-02, -2.22434066e-02,\n",
              "        1.55822672e-02, -4.91469428e-02,  4.75351419e-03,  4.75071445e-02,\n",
              "       -6.76165223e-02,  1.70773603e-02, -7.80578889e-03, -5.95111214e-02,\n",
              "        4.59611788e-02, -2.90134363e-02, -3.94914821e-02, -2.71480419e-02,\n",
              "       -3.33176591e-02,  1.67069472e-02, -5.51778376e-02,  6.94997236e-02,\n",
              "       -1.09563600e-02, -4.62595671e-02,  2.16278317e-03,  4.84015048e-02,\n",
              "        1.37791857e-01,  3.36453952e-02,  2.97111534e-02,  2.79128328e-02,\n",
              "       -2.44831294e-02, -3.26446965e-02, -1.65731609e-02, -4.70467210e-02,\n",
              "        4.26340252e-02,  1.31371357e-02, -3.30148973e-02,  5.09999990e-02,\n",
              "       -5.06132916e-02, -4.54802951e-03,  1.43672889e-02, -6.40029833e-02,\n",
              "       -9.34412032e-02, -4.52606976e-02,  3.00490782e-02,  2.02499039e-04,\n",
              "        1.65596674e-03,  7.83782676e-02, -5.05750924e-02,  2.22088303e-02,\n",
              "        1.90274194e-02, -1.07987477e-02, -1.54062863e-02, -1.12861935e-02,\n",
              "       -4.64061610e-02,  8.09899240e-04,  2.87186485e-02, -7.28300354e-03,\n",
              "        1.49380751e-02, -3.45590562e-02, -7.26682544e-02, -5.88327497e-02,\n",
              "       -4.35769856e-02,  1.65669005e-02, -5.48828915e-02, -5.21813855e-02,\n",
              "       -5.47492038e-03,  1.71213262e-02, -2.30097976e-02,  1.62730366e-02,\n",
              "       -8.36004019e-02,  6.13319241e-02, -7.04750568e-02,  1.69107672e-02,\n",
              "       -4.61887941e-02,  1.06869221e-01,  3.93745303e-03, -6.34706300e-03,\n",
              "        5.26634455e-02,  7.71604627e-02,  1.21160727e-02,  1.57873463e-02,\n",
              "       -3.31379361e-02,  9.03993994e-02,  5.76479211e-02, -3.22898552e-02,\n",
              "        4.19708714e-02,  8.05682912e-02,  8.75126645e-02,  4.09350954e-02],\n",
              "      dtype=float32)"
            ]
          },
          "metadata": {
            "tags": []
          },
          "execution_count": 30
        }
      ]
    },
    {
      "cell_type": "code",
      "metadata": {
        "id": "4YURsSLJ3LHx"
      },
      "source": [
        "def get_embedding(word):\n",
        "  embedding=ft[word]\n",
        "  return embedding"
      ],
      "execution_count": 41,
      "outputs": []
    },
    {
      "cell_type": "code",
      "metadata": {
        "id": "Fs_Cjq6w_wpp"
      },
      "source": [
        "def get_embedding_sent(word):\n",
        "  embedding=ft.get_sentence_vector(word)\n",
        "  return embedding"
      ],
      "execution_count": 54,
      "outputs": []
    },
    {
      "cell_type": "code",
      "metadata": {
        "id": "5-T5z5es_ICl",
        "outputId": "7f160d9a-ef5d-455e-a790-ae63afa1adc5",
        "colab": {
          "base_uri": "https://localhost:8080/",
          "height": 1000
        }
      },
      "source": [
        "get_embedding('Is it safe for female traveller to go alone')"
      ],
      "execution_count": 53,
      "outputs": [
        {
          "output_type": "execute_result",
          "data": {
            "text/plain": [
              "array([ 4.61856660e-04,  5.30219497e-03,  2.81710224e-03,  2.11101957e-02,\n",
              "        8.62310175e-03, -2.36063134e-02, -2.60064751e-03,  2.36293320e-02,\n",
              "       -1.81833152e-02, -3.58765433e-03,  5.69610018e-03, -5.22228237e-03,\n",
              "        1.50106935e-04, -3.42817348e-03, -1.85040745e-03, -1.97240766e-02,\n",
              "        1.63222030e-02, -1.50003396e-02, -8.22589733e-03,  3.29664797e-02,\n",
              "       -1.33504858e-02, -2.08280631e-03,  4.92887199e-03, -1.24442643e-02,\n",
              "        1.78519115e-02,  2.33267806e-02,  5.20195812e-03,  5.43088745e-03,\n",
              "        2.98720249e-03,  4.55845371e-02, -9.50518704e-04, -1.02203898e-02,\n",
              "        7.97673594e-03,  2.25421065e-03,  1.58228129e-02,  3.16840503e-03,\n",
              "        2.10847650e-02, -2.70279148e-03, -1.10337965e-03,  2.15005632e-02,\n",
              "       -1.28924493e-02,  6.60970295e-03,  7.61919189e-03, -7.86937773e-03,\n",
              "        1.89654492e-02,  2.48041749e-02, -3.07901087e-03,  2.39925515e-02,\n",
              "        9.64020845e-03,  1.35175057e-03,  9.43492539e-03, -1.42091857e-02,\n",
              "       -7.95707386e-03,  5.75199316e-04, -2.38121953e-03,  9.57751833e-03,\n",
              "        1.25914766e-02,  1.75712910e-03, -1.83872581e-02,  7.37977633e-03,\n",
              "       -3.93423764e-03,  1.05726374e-02,  8.52513127e-03,  1.10756373e-02,\n",
              "        4.77168243e-03,  9.88628366e-04,  5.72100794e-03,  9.31785721e-03,\n",
              "       -1.85373556e-02, -2.29588361e-03,  2.00437568e-02,  8.41816515e-03,\n",
              "        1.38434367e-02, -2.52122455e-03, -7.94113707e-03, -1.56319588e-02,\n",
              "       -1.84965623e-03,  1.85898095e-02,  5.42674866e-03,  1.86769441e-02,\n",
              "       -3.49520752e-03,  1.91891508e-03,  6.58463407e-03,  1.03174774e-02,\n",
              "       -1.18460297e-03,  2.50655226e-03, -3.14253569e-02, -2.97031719e-02,\n",
              "        9.31523181e-03, -9.10316873e-03, -4.58218670e-03, -2.54913210e-03,\n",
              "       -1.42634967e-02,  4.04146593e-03, -7.94023275e-03,  1.58820208e-02,\n",
              "        1.97296888e-02,  9.77164134e-04,  6.18472509e-03, -1.81617457e-02,\n",
              "       -5.82393678e-03, -9.04254336e-03, -1.47690009e-02,  7.43023353e-03,\n",
              "       -6.80359965e-03,  7.75844557e-03,  1.49510559e-02, -5.44235762e-03,\n",
              "       -1.40170082e-02, -7.49952532e-03, -2.03247666e-02,  1.02538094e-02,\n",
              "        3.71630071e-03, -8.91794544e-03,  8.24419403e-05, -8.89100321e-03,\n",
              "       -1.71001628e-02,  1.41172681e-03,  1.76887121e-02,  1.30701745e-02,\n",
              "       -1.82311293e-02,  1.50651140e-02,  6.58630952e-03,  4.54837782e-03,\n",
              "        2.79315561e-03,  2.28324905e-02,  1.06888432e-02, -1.22040203e-02,\n",
              "        1.41721461e-02, -2.37116460e-02,  4.37102187e-03, -1.01828144e-03,\n",
              "        1.52901299e-02, -3.33724469e-02,  2.07276735e-02,  8.41898564e-03,\n",
              "        1.04364136e-03, -1.19918482e-02,  4.46072873e-03,  3.64835584e-03,\n",
              "        1.68313179e-02, -1.18688599e-03,  1.20610930e-03, -2.70209881e-03,\n",
              "       -2.29841545e-02,  7.47689791e-03, -4.06300910e-02,  6.40450278e-03,\n",
              "        8.09631776e-03,  5.52868377e-03,  5.23580564e-03, -3.57715483e-03,\n",
              "       -2.06957897e-03,  3.44970940e-05,  7.75345194e-04, -5.37786353e-03,\n",
              "        6.35462301e-03, -1.10149104e-02, -1.92126762e-02,  1.93466223e-03,\n",
              "       -1.07698562e-02,  3.82842100e-03, -6.00515865e-03,  8.21015984e-03,\n",
              "       -6.56021875e-04,  2.88604992e-03, -1.62443109e-02, -2.01349054e-02,\n",
              "        8.13397765e-03, -2.72171979e-04,  5.35609154e-03, -3.11572663e-03,\n",
              "       -2.73715146e-03,  1.24453604e-02, -2.04325374e-03,  6.97750971e-03,\n",
              "        1.55661432e-02, -1.55918654e-02,  3.83612677e-03, -1.15530491e-02,\n",
              "        1.44896768e-02,  1.44268284e-02,  1.27433473e-02, -1.24856317e-02,\n",
              "        9.46576893e-03, -2.14960631e-02,  1.65964533e-02, -4.25322354e-03,\n",
              "        6.93014963e-03, -8.12335126e-03, -3.52164032e-03, -1.33264000e-02,\n",
              "        6.70619775e-03, -7.46844662e-03,  1.32049154e-02, -1.47693194e-02,\n",
              "        8.37893970e-03, -6.36641416e-05,  4.58767219e-03,  2.97709312e-02,\n",
              "       -2.93542538e-03,  3.69486189e-03, -1.77519228e-02,  2.39690999e-03,\n",
              "       -8.65423679e-03, -1.28860241e-02,  3.32649164e-02,  2.73246821e-02,\n",
              "        3.95339075e-03,  3.65396822e-03, -1.11416047e-02, -4.07227228e-04,\n",
              "        1.05356853e-02, -9.69528686e-03, -1.09425653e-02, -9.61440802e-03,\n",
              "       -1.71423680e-03, -1.77450385e-03, -7.74974097e-03, -8.37043300e-03,\n",
              "       -1.84195973e-02,  1.05166519e-02, -3.23329377e-03,  1.72963571e-02,\n",
              "       -7.08082598e-03, -3.93444765e-03, -4.98155924e-03,  7.62636447e-03,\n",
              "       -6.04401529e-03,  2.00215336e-02,  2.15514395e-02,  3.71102185e-04,\n",
              "       -5.67575311e-03, -9.30396467e-03, -1.16013736e-02,  6.84875157e-03,\n",
              "       -1.21347152e-03, -1.29758511e-02, -1.93783380e-02, -1.29746413e-02,\n",
              "       -1.31840920e-02, -2.48812046e-02, -3.24977189e-03, -2.04397142e-02,\n",
              "        2.16398109e-02,  7.72719458e-03, -2.26230756e-03,  1.16962278e-02,\n",
              "       -9.94729530e-03, -1.29805701e-02,  1.84698328e-02, -1.22533133e-02,\n",
              "       -1.14176236e-03,  7.00780656e-03, -9.46943648e-03,  1.35470787e-02,\n",
              "        2.05238815e-03,  2.20712405e-02,  3.91358975e-03,  5.49579330e-04,\n",
              "        3.55981849e-03, -1.08656855e-02, -6.40549809e-02, -1.22445524e-02,\n",
              "       -2.10275687e-03, -1.49582615e-02, -1.39972093e-02, -4.46992088e-03,\n",
              "        2.40714680e-02,  3.62319015e-02, -1.35404116e-04,  2.18260083e-02,\n",
              "       -3.40729859e-03, -7.23252678e-03,  1.52506242e-02,  1.16608422e-02,\n",
              "        2.08555348e-03, -7.67008448e-03, -1.43999942e-02, -5.16133709e-03,\n",
              "       -8.10344610e-03, -4.77654720e-03, -2.26770826e-02,  1.45376045e-02,\n",
              "        2.22261320e-03, -2.99161882e-03, -1.98456738e-03, -2.89882999e-02,\n",
              "       -9.69440024e-03,  1.52145717e-02,  1.84054561e-02, -3.32214549e-04,\n",
              "       -1.02144806e-02, -4.21984447e-03,  1.12799471e-02, -2.24380475e-02,\n",
              "        1.01270927e-02,  3.13560404e-02, -1.74308755e-02,  1.66851678e-03],\n",
              "      dtype=float32)"
            ]
          },
          "metadata": {
            "tags": []
          },
          "execution_count": 53
        }
      ]
    },
    {
      "cell_type": "code",
      "metadata": {
        "id": "L8sMwfV2_5Zv",
        "outputId": "c69b810f-a698-4e45-acb3-aaf5086de788",
        "colab": {
          "base_uri": "https://localhost:8080/",
          "height": 1000
        }
      },
      "source": [
        "get_embedding_sent('Is it safe for female traveller to go alone')"
      ],
      "execution_count": 55,
      "outputs": [
        {
          "output_type": "execute_result",
          "data": {
            "text/plain": [
              "array([ 1.99353285e-02, -2.51277350e-02, -1.29354326e-02,  3.10847759e-02,\n",
              "       -3.50363031e-02, -1.14462841e-02,  3.08552980e-02,  9.53554083e-03,\n",
              "       -1.79380423e-03, -1.49666965e-02, -1.86224245e-02, -1.50225013e-02,\n",
              "        2.10175174e-03,  5.27123967e-03, -6.96123624e-03,  4.69980612e-02,\n",
              "        5.19246678e-04, -1.87728945e-02, -2.00445130e-02,  8.59542862e-02,\n",
              "       -9.66099184e-03,  5.33650443e-03,  3.23488307e-03, -3.14749330e-02,\n",
              "       -3.98532860e-02, -2.82699596e-02, -2.55425237e-02, -1.06854122e-02,\n",
              "       -3.87414801e-03,  7.34022781e-02, -3.08823287e-02,  2.22750474e-03,\n",
              "        7.48492777e-03,  1.34861572e-02,  5.56118460e-03, -3.13137134e-04,\n",
              "       -2.36102808e-02,  1.56331845e-02,  3.00640408e-02,  9.66661237e-03,\n",
              "       -4.77534207e-03, -1.48985190e-02,  7.59487692e-03,  1.63618047e-02,\n",
              "        1.23426944e-04, -1.32260844e-02, -2.22837441e-02,  1.83735415e-02,\n",
              "        5.57468832e-03, -1.22733796e-02,  1.92157421e-02,  7.16022588e-03,\n",
              "       -5.08490438e-03, -6.09071460e-03, -2.04734579e-02,  1.64734304e-03,\n",
              "        1.75734218e-02, -1.61188915e-02, -5.89686297e-02, -2.47893110e-02,\n",
              "        7.86162491e-05, -5.21226833e-03, -5.15859202e-03, -3.28723341e-02,\n",
              "       -2.29240917e-02, -5.12048416e-03, -1.07672382e-02,  2.45202892e-02,\n",
              "        4.14534099e-03, -7.12184375e-03,  2.28670780e-02,  4.46580257e-03,\n",
              "       -2.44457927e-02, -2.29550097e-02,  1.76536420e-03, -4.81212772e-02,\n",
              "        3.45390253e-02,  2.80338470e-02, -5.04112197e-03, -2.49318779e-02,\n",
              "        1.17888255e-02,  2.38963682e-03,  1.04081789e-02,  1.48248607e-02,\n",
              "        2.08183154e-02, -8.90387595e-03,  5.35673387e-02,  4.60920036e-02,\n",
              "        2.04657260e-02, -1.25733949e-02, -2.02212855e-02, -3.00189685e-02,\n",
              "        4.68404815e-02, -4.63103363e-03, -1.97373405e-02, -2.09170394e-02,\n",
              "       -3.09703350e-02,  1.82668287e-02,  2.58693099e-02, -2.87827849e-02,\n",
              "       -1.12872906e-02,  2.15596762e-02, -1.99259748e-03, -2.76950598e-02,\n",
              "       -1.72108524e-02,  1.05384644e-02,  2.33713980e-03, -9.33091808e-03,\n",
              "        2.77641974e-03,  3.51814181e-02,  2.43623182e-02, -1.16928639e-02,\n",
              "       -3.20495712e-03,  1.76135991e-02,  1.07123367e-02, -4.25658226e-02,\n",
              "       -4.87086885e-02,  2.16489080e-02, -1.71940424e-03, -1.72212068e-02,\n",
              "       -1.90244289e-03,  7.50992633e-03,  7.92287011e-03, -9.12886858e-03,\n",
              "        2.77944077e-02, -2.56318226e-03, -2.10462930e-03, -2.59696622e-04,\n",
              "       -4.96897707e-03,  7.72623206e-03, -1.86240375e-02, -5.34409937e-03,\n",
              "        3.66805382e-02, -6.15310576e-03, -4.56152949e-03, -3.97088788e-02,\n",
              "       -3.62194441e-02, -7.67605426e-03, -6.56541029e-04,  2.69940402e-02,\n",
              "       -3.64836343e-02,  2.07635462e-02,  2.67516505e-02,  2.06743670e-03,\n",
              "        3.06511094e-04,  1.52456099e-02, -2.10140899e-01,  1.78630296e-02,\n",
              "       -2.63286126e-03,  2.30278238e-03, -4.88981642e-02,  1.64996758e-02,\n",
              "        2.27767304e-02,  1.28541456e-03,  4.49737860e-03, -6.27342099e-03,\n",
              "        6.22264557e-02,  2.25974135e-02, -3.89510137e-03,  8.99843685e-03,\n",
              "        1.74770597e-02, -9.56600779e-05,  2.99251974e-02, -1.70506816e-02,\n",
              "       -2.20003817e-02, -1.67538803e-02,  2.56495806e-03, -1.36581212e-02,\n",
              "       -2.97340360e-02,  2.93417484e-03,  1.91856513e-03,  6.62670098e-03,\n",
              "       -1.09648351e-02,  2.24948302e-02, -3.11624967e-02, -1.79971550e-02,\n",
              "        2.01996043e-02, -2.40877550e-02,  6.87531894e-03,  1.40689546e-02,\n",
              "       -2.04312112e-02,  1.77860784e-03,  6.16780529e-03, -2.97292694e-03,\n",
              "        1.69491265e-02,  2.92544570e-02, -5.37086613e-02, -8.66040122e-03,\n",
              "        1.69851482e-02, -4.21401253e-03, -2.18526423e-02,  1.08591020e-02,\n",
              "        1.27770985e-02, -2.28882954e-02,  2.30424441e-02, -1.01106893e-02,\n",
              "       -7.58479023e-03, -6.31758757e-03,  1.19190915e-02,  4.59642448e-02,\n",
              "       -1.12556219e-02,  7.96753019e-02, -3.87516362e-03, -1.32841375e-02,\n",
              "        3.89471371e-03, -1.38539374e-02, -3.34483571e-02, -2.17170082e-02,\n",
              "        4.51809540e-03,  2.95109465e-03,  9.28440690e-03, -2.47930791e-02,\n",
              "       -2.58612540e-02,  1.88555811e-02,  1.94828790e-02,  1.77597255e-03,\n",
              "       -7.69492472e-03,  1.37026946e-04,  3.14352475e-02,  2.11226307e-02,\n",
              "        1.84594337e-02,  1.84417572e-02,  1.09365536e-02,  2.24644281e-02,\n",
              "        2.58683413e-03, -3.62869911e-02,  1.83093324e-02,  1.38098048e-02,\n",
              "       -3.17196548e-02,  1.60056376e-03, -3.56878969e-03, -1.16019102e-03,\n",
              "       -3.57926749e-02, -2.82819346e-02,  1.70502625e-02, -3.37379170e-03,\n",
              "       -6.07915316e-03,  2.01491062e-02, -2.79236566e-02,  1.24384034e-02,\n",
              "       -1.94638763e-02,  4.63781618e-02,  3.12893675e-03, -6.66334555e-02,\n",
              "        2.38847971e-01,  1.17006116e-02,  7.73824099e-03, -9.63030476e-03,\n",
              "       -3.34416144e-02, -3.02847493e-02,  2.86742523e-02, -1.65972151e-02,\n",
              "       -7.00362260e-03, -2.19389554e-02, -6.94379723e-03,  5.08416779e-02,\n",
              "       -4.54601794e-02, -2.28327829e-02,  6.21215291e-02, -9.50344931e-03,\n",
              "        1.00496160e-02,  7.37181958e-03, -2.10084468e-02,  1.04443002e-02,\n",
              "       -2.51077190e-02, -1.86953787e-02,  1.58289839e-02, -1.12729184e-02,\n",
              "        1.57740340e-02, -6.58549145e-02,  1.79922685e-03, -2.72457320e-02,\n",
              "       -3.74957211e-02,  2.41708104e-02, -3.02665625e-02, -3.13534923e-02,\n",
              "       -3.94366309e-02, -1.36061460e-02, -2.68473942e-02,  4.53489013e-02,\n",
              "       -4.40132506e-02,  6.08846825e-03, -8.70842114e-02, -2.05795877e-02,\n",
              "        3.54028344e-02,  1.11740734e-02,  3.70800830e-02, -3.91125381e-02,\n",
              "       -2.33249757e-02, -8.58509820e-03,  2.96371710e-02,  1.70237888e-02,\n",
              "       -6.26905039e-02, -1.64563041e-02,  1.62341204e-02,  2.65044682e-02,\n",
              "        7.05813523e-03,  7.70977736e-02,  1.31159453e-02,  5.38261887e-03],\n",
              "      dtype=float32)"
            ]
          },
          "metadata": {
            "tags": []
          },
          "execution_count": 55
        }
      ]
    },
    {
      "cell_type": "code",
      "metadata": {
        "id": "wSOT2n8255tY"
      },
      "source": [
        "X_train_embeddings=[np.mean(np.array(list(map(get_embedding,tok_sent))),axis=0) for tok_sent in data_df[\"question_lemmatized\"]]\n",
        "X_train_sent_embedding=[np.mean(np.array(list(map(get_embedding_sent,tok_sent))),axis=0) for tok_sent in data_df[\"question_lemmatized\"]]"
      ],
      "execution_count": 56,
      "outputs": []
    },
    {
      "cell_type": "code",
      "metadata": {
        "id": "EQQmN3_3EsUC"
      },
      "source": [
        "X_train_wt_embedding=[np.mean(np.array(list(map(get_embedding_sent,tok_sent))),axis=0) for tok_sent in X]"
      ],
      "execution_count": 66,
      "outputs": []
    },
    {
      "cell_type": "code",
      "metadata": {
        "id": "5F9pJoRkK17F"
      },
      "source": [
        "X_wt_emb=[np.mean(np.array(list(map(get_embedding,tok_sent))),axis=0) for tok_sent in X]"
      ],
      "execution_count": 88,
      "outputs": []
    },
    {
      "cell_type": "code",
      "metadata": {
        "id": "Hklwp6xr6I3h",
        "outputId": "9d32f539-2636-4e75-da5e-a6fbbdeb0f32",
        "colab": {
          "base_uri": "https://localhost:8080/",
          "height": 34
        }
      },
      "source": [
        "len(X_train_embeddings)\n",
        "X_train_embeddings[10].shape"
      ],
      "execution_count": 43,
      "outputs": [
        {
          "output_type": "execute_result",
          "data": {
            "text/plain": [
              "(300,)"
            ]
          },
          "metadata": {
            "tags": []
          },
          "execution_count": 43
        }
      ]
    },
    {
      "cell_type": "code",
      "metadata": {
        "id": "F_QbDbra77WT",
        "outputId": "13104a64-c108-443e-9c28-39cc2a3b2812",
        "colab": {
          "base_uri": "https://localhost:8080/",
          "height": 34
        }
      },
      "source": [
        "x_encoded = np.array(X_train_embeddings)\n",
        "x_encoded.shape"
      ],
      "execution_count": 52,
      "outputs": [
        {
          "output_type": "execute_result",
          "data": {
            "text/plain": [
              "(5000, 300)"
            ]
          },
          "metadata": {
            "tags": []
          },
          "execution_count": 52
        }
      ]
    },
    {
      "cell_type": "code",
      "metadata": {
        "id": "LEOAjKK2Fgc-",
        "outputId": "f5831f43-90fb-4a2b-8db0-f8008d16c064",
        "colab": {
          "base_uri": "https://localhost:8080/",
          "height": 34
        }
      },
      "source": [
        "x_encoded_wt = np.array(X_train_wt_embedding)\n",
        "x_encoded_wt.shape"
      ],
      "execution_count": 67,
      "outputs": [
        {
          "output_type": "execute_result",
          "data": {
            "text/plain": [
              "(5000, 300)"
            ]
          },
          "metadata": {
            "tags": []
          },
          "execution_count": 67
        }
      ]
    },
    {
      "cell_type": "code",
      "metadata": {
        "id": "NLUcpZNkK_1F",
        "outputId": "e5848e98-309f-444e-c921-84f241129a88",
        "colab": {
          "base_uri": "https://localhost:8080/",
          "height": 34
        }
      },
      "source": [
        "x_encoded_wt_word = np.array(X_wt_emb)\n",
        "x_encoded_wt_word.shape"
      ],
      "execution_count": 89,
      "outputs": [
        {
          "output_type": "execute_result",
          "data": {
            "text/plain": [
              "(5000, 300)"
            ]
          },
          "metadata": {
            "tags": []
          },
          "execution_count": 89
        }
      ]
    },
    {
      "cell_type": "code",
      "metadata": {
        "id": "dwQF2ifX63Vz"
      },
      "source": [
        "from sklearn.preprocessing import LabelEncoder\n",
        "le = LabelEncoder()\n",
        "\n",
        "y_encoded = le.fit_transform(data_df['processed_a'])"
      ],
      "execution_count": 45,
      "outputs": []
    },
    {
      "cell_type": "code",
      "metadata": {
        "id": "CJ-uA4kK7WmV",
        "outputId": "cb8dd141-5538-43ca-d3df-4ac9884bc0e0",
        "colab": {
          "base_uri": "https://localhost:8080/",
          "height": 374
        }
      },
      "source": [
        "from sklearn.model_selection import KFold\n",
        "from sklearn.model_selection import cross_val_score\n",
        "\n",
        "from sklearn.svm import SVC\n",
        "from sklearn.metrics import accuracy_score\n",
        "\n",
        "\n",
        "cv = KFold(n_splits=10, random_state=1, shuffle=True)\n",
        "fold = 0\n",
        "accuracies = []\n",
        "for train_index, test_index in cv.split(x_encoded):\n",
        "    fold += 1\n",
        "    X_train, X_test = x_encoded[train_index], x_encoded[test_index]\n",
        "    y_train, y_test = y_encoded[train_index], y_encoded[test_index]\n",
        "    print(\"Beginning fold: \", fold)\n",
        "    SVM = SVC(C=1.0, kernel='linear', degree=3, gamma='auto')\n",
        "    SVM.fit(X_train,y_train)\n",
        "    predictions_SVM1 = SVM.predict(X_test)\n",
        "    acc = accuracy_score(predictions_SVM1, y_test)*100\n",
        "    accuracies.append(acc)\n",
        "    print(\"K-Fold: {} - {} - {:.2f}\".format(fold, \"Accuracy: \",acc))\n",
        "    \n",
        "print(\"Mean {:.2f} Std {:.2f}\".format(np.mean(accuracies), np.std(accuracies)))"
      ],
      "execution_count": 51,
      "outputs": [
        {
          "output_type": "stream",
          "text": [
            "Beginning fold:  1\n",
            "K-Fold: 1 - Accuracy:  - 37.20\n",
            "Beginning fold:  2\n",
            "K-Fold: 2 - Accuracy:  - 41.20\n",
            "Beginning fold:  3\n",
            "K-Fold: 3 - Accuracy:  - 37.00\n",
            "Beginning fold:  4\n",
            "K-Fold: 4 - Accuracy:  - 41.80\n",
            "Beginning fold:  5\n",
            "K-Fold: 5 - Accuracy:  - 39.40\n",
            "Beginning fold:  6\n",
            "K-Fold: 6 - Accuracy:  - 42.20\n",
            "Beginning fold:  7\n",
            "K-Fold: 7 - Accuracy:  - 37.80\n",
            "Beginning fold:  8\n",
            "K-Fold: 8 - Accuracy:  - 39.40\n",
            "Beginning fold:  9\n",
            "K-Fold: 9 - Accuracy:  - 39.40\n",
            "Beginning fold:  10\n",
            "K-Fold: 10 - Accuracy:  - 37.80\n",
            "Mean 39.32 Std 1.80\n"
          ],
          "name": "stdout"
        }
      ]
    },
    {
      "cell_type": "code",
      "metadata": {
        "id": "AI29L3hNAKgk",
        "outputId": "1b567295-9b36-468e-bf1f-d43d2e7fccae",
        "colab": {
          "base_uri": "https://localhost:8080/",
          "height": 34
        }
      },
      "source": [
        "x_encoded_sent = np.array(X_train_sent_embedding)\n",
        "x_encoded_sent.shape"
      ],
      "execution_count": 57,
      "outputs": [
        {
          "output_type": "execute_result",
          "data": {
            "text/plain": [
              "(5000, 300)"
            ]
          },
          "metadata": {
            "tags": []
          },
          "execution_count": 57
        }
      ]
    },
    {
      "cell_type": "code",
      "metadata": {
        "id": "UedrDzOoAOlG",
        "outputId": "62f7655c-ce5e-476d-bac3-baf0a4846e12",
        "colab": {
          "base_uri": "https://localhost:8080/",
          "height": 374
        }
      },
      "source": [
        "from sklearn.model_selection import KFold\n",
        "from sklearn.model_selection import cross_val_score\n",
        "\n",
        "from sklearn.svm import SVC\n",
        "from sklearn.metrics import accuracy_score\n",
        "\n",
        "\n",
        "cv = KFold(n_splits=10, random_state=1, shuffle=True)\n",
        "fold = 0\n",
        "accuracies = []\n",
        "for train_index, test_index in cv.split(x_encoded_sent):\n",
        "    fold += 1\n",
        "    X_train, X_test = x_encoded_sent[train_index], x_encoded_sent[test_index]\n",
        "    y_train, y_test = y_encoded[train_index], y_encoded[test_index]\n",
        "    print(\"Beginning fold: \", fold)\n",
        "    SVM = SVC(C=1.0, kernel='linear', degree=3, gamma='auto')\n",
        "    SVM.fit(X_train,y_train)\n",
        "    predictions_SVM1 = SVM.predict(X_test)\n",
        "    acc = accuracy_score(predictions_SVM1, y_test)*100\n",
        "    accuracies.append(acc)\n",
        "    print(\"K-Fold: {} - {} - {:.2f}\".format(fold, \"Accuracy: \",acc))\n",
        "    \n",
        "print(\"Mean {:.2f} Std {:.2f}\".format(np.mean(accuracies), np.std(accuracies)))"
      ],
      "execution_count": 62,
      "outputs": [
        {
          "output_type": "stream",
          "text": [
            "Beginning fold:  1\n",
            "K-Fold: 1 - Accuracy:  - 23.00\n",
            "Beginning fold:  2\n",
            "K-Fold: 2 - Accuracy:  - 28.60\n",
            "Beginning fold:  3\n",
            "K-Fold: 3 - Accuracy:  - 27.00\n",
            "Beginning fold:  4\n",
            "K-Fold: 4 - Accuracy:  - 27.80\n",
            "Beginning fold:  5\n",
            "K-Fold: 5 - Accuracy:  - 27.20\n",
            "Beginning fold:  6\n",
            "K-Fold: 6 - Accuracy:  - 33.40\n",
            "Beginning fold:  7\n",
            "K-Fold: 7 - Accuracy:  - 23.00\n",
            "Beginning fold:  8\n",
            "K-Fold: 8 - Accuracy:  - 24.80\n",
            "Beginning fold:  9\n",
            "K-Fold: 9 - Accuracy:  - 27.80\n",
            "Beginning fold:  10\n",
            "K-Fold: 10 - Accuracy:  - 23.20\n",
            "Mean 26.58 Std 3.07\n"
          ],
          "name": "stdout"
        }
      ]
    },
    {
      "cell_type": "code",
      "metadata": {
        "id": "xVZrTw8UFcdq",
        "outputId": "7e0be073-81f9-4174-9bd5-c0e34a9059be",
        "colab": {
          "base_uri": "https://localhost:8080/",
          "height": 374
        }
      },
      "source": [
        "from sklearn.model_selection import KFold\n",
        "from sklearn.model_selection import cross_val_score\n",
        "\n",
        "from sklearn.svm import SVC\n",
        "from sklearn.metrics import accuracy_score\n",
        "\n",
        "\n",
        "cv = KFold(n_splits=10, random_state=1, shuffle=True)\n",
        "fold = 0\n",
        "accuracies = []\n",
        "for train_index, test_index in cv.split(x_encoded_wt):\n",
        "    fold += 1\n",
        "    X_train, X_test = x_encoded_wt[train_index], x_encoded_wt[test_index]\n",
        "    y_train, y_test = y_encoded[train_index], y_encoded[test_index]\n",
        "    print(\"Beginning fold: \", fold)\n",
        "    SVM = SVC(C=1.0, kernel='linear', degree=3, gamma='auto')\n",
        "    SVM.fit(X_train,y_train)\n",
        "    predictions_SVM1 = SVM.predict(X_test)\n",
        "    acc = accuracy_score(predictions_SVM1, y_test)*100\n",
        "    accuracies.append(acc)\n",
        "    print(\"K-Fold: {} - {} - {:.2f}\".format(fold, \"Accuracy: \",acc))\n",
        "    \n",
        "print(\"Mean {:.2f} Std {:.2f}\".format(np.mean(accuracies), np.std(accuracies)))"
      ],
      "execution_count": 68,
      "outputs": [
        {
          "output_type": "stream",
          "text": [
            "Beginning fold:  1\n",
            "K-Fold: 1 - Accuracy:  - 77.40\n",
            "Beginning fold:  2\n",
            "K-Fold: 2 - Accuracy:  - 76.00\n",
            "Beginning fold:  3\n",
            "K-Fold: 3 - Accuracy:  - 76.60\n",
            "Beginning fold:  4\n",
            "K-Fold: 4 - Accuracy:  - 76.20\n",
            "Beginning fold:  5\n",
            "K-Fold: 5 - Accuracy:  - 77.00\n",
            "Beginning fold:  6\n",
            "K-Fold: 6 - Accuracy:  - 78.80\n",
            "Beginning fold:  7\n",
            "K-Fold: 7 - Accuracy:  - 76.80\n",
            "Beginning fold:  8\n",
            "K-Fold: 8 - Accuracy:  - 78.60\n",
            "Beginning fold:  9\n",
            "K-Fold: 9 - Accuracy:  - 77.20\n",
            "Beginning fold:  10\n",
            "K-Fold: 10 - Accuracy:  - 77.60\n",
            "Mean 77.22 Std 0.88\n"
          ],
          "name": "stdout"
        }
      ]
    },
    {
      "cell_type": "markdown",
      "metadata": {
        "id": "K_u7W6WoKR91"
      },
      "source": [
        "# Hyperparamter tuning"
      ]
    },
    {
      "cell_type": "code",
      "metadata": {
        "id": "tfBT2k6LCNXF"
      },
      "source": [
        "from sklearn.model_selection import GridSearchCV \n",
        "from sklearn import svm\n",
        "\n",
        "param_grid = {'C': [10,11,12,13,14,15,16,17,18,19,20],  \n",
        "              'gamma': [0.01, 0.001, 0.005, 0.008]}"
      ],
      "execution_count": 78,
      "outputs": []
    },
    {
      "cell_type": "code",
      "metadata": {
        "id": "ObxUZXTzCU5k",
        "outputId": "ddeb2d5d-30f0-4b46-89cc-39d4c806ebb3",
        "colab": {
          "base_uri": "https://localhost:8080/",
          "height": 289
        }
      },
      "source": [
        "grid = GridSearchCV(svm.SVC( break_ties=False, cache_size=200, class_weight='balanced', coef0=0.0,\n",
        "    decision_function_shape='ovr', degree=3, gamma=0.1, kernel='linear',\n",
        "    max_iter=-1, probability=False, random_state=None, shrinking=True,\n",
        "    tol=0.001, verbose=False), param_grid, refit = True, verbose = 2, cv=3, n_jobs=4) \n",
        "\n",
        "grid.fit(x_encoded_wt[:1000], y_encoded[:1000])"
      ],
      "execution_count": 79,
      "outputs": [
        {
          "output_type": "stream",
          "text": [
            "Fitting 3 folds for each of 44 candidates, totalling 132 fits\n"
          ],
          "name": "stdout"
        },
        {
          "output_type": "stream",
          "text": [
            "[Parallel(n_jobs=4)]: Using backend LokyBackend with 4 concurrent workers.\n",
            "[Parallel(n_jobs=4)]: Done  33 tasks      | elapsed:    7.9s\n",
            "[Parallel(n_jobs=4)]: Done 132 out of 132 | elapsed:   23.0s finished\n"
          ],
          "name": "stderr"
        },
        {
          "output_type": "execute_result",
          "data": {
            "text/plain": [
              "GridSearchCV(cv=3, error_score=nan,\n",
              "             estimator=SVC(C=1.0, break_ties=False, cache_size=200,\n",
              "                           class_weight='balanced', coef0=0.0,\n",
              "                           decision_function_shape='ovr', degree=3, gamma=0.1,\n",
              "                           kernel='linear', max_iter=-1, probability=False,\n",
              "                           random_state=None, shrinking=True, tol=0.001,\n",
              "                           verbose=False),\n",
              "             iid='deprecated', n_jobs=4,\n",
              "             param_grid={'C': [10, 11, 12, 13, 14, 15, 16, 17, 18, 19, 20],\n",
              "                         'gamma': [0.01, 0.001, 0.005, 0.008]},\n",
              "             pre_dispatch='2*n_jobs', refit=True, return_train_score=False,\n",
              "             scoring=None, verbose=2)"
            ]
          },
          "metadata": {
            "tags": []
          },
          "execution_count": 79
        }
      ]
    },
    {
      "cell_type": "code",
      "metadata": {
        "id": "1IcjDgOTGhPT",
        "outputId": "c5208377-e0ae-429b-fd7a-735c3bb40eb2",
        "colab": {
          "base_uri": "https://localhost:8080/",
          "height": 85
        }
      },
      "source": [
        "grid.best_estimator_"
      ],
      "execution_count": 80,
      "outputs": [
        {
          "output_type": "execute_result",
          "data": {
            "text/plain": [
              "SVC(C=12, break_ties=False, cache_size=200, class_weight='balanced', coef0=0.0,\n",
              "    decision_function_shape='ovr', degree=3, gamma=0.01, kernel='linear',\n",
              "    max_iter=-1, probability=False, random_state=None, shrinking=True,\n",
              "    tol=0.001, verbose=False)"
            ]
          },
          "metadata": {
            "tags": []
          },
          "execution_count": 80
        }
      ]
    },
    {
      "cell_type": "markdown",
      "metadata": {
        "id": "puZhzpA0KXnH"
      },
      "source": [
        "# Model"
      ]
    },
    {
      "cell_type": "code",
      "metadata": {
        "id": "JCXNwSXCGqNc",
        "outputId": "365661c8-ba71-40c5-9212-54113d201536",
        "colab": {
          "base_uri": "https://localhost:8080/",
          "height": 374
        }
      },
      "source": [
        "from sklearn.model_selection import KFold\n",
        "from sklearn.model_selection import cross_val_score\n",
        "\n",
        "from sklearn.svm import SVC\n",
        "from sklearn.metrics import accuracy_score\n",
        "\n",
        "\n",
        "cv = KFold(n_splits=10, random_state=1, shuffle=True)\n",
        "fold = 0\n",
        "accuracies = []\n",
        "for train_index, test_index in cv.split(x_encoded_wt):\n",
        "    fold += 1\n",
        "    X_train, X_test = x_encoded_wt[train_index], x_encoded_wt[test_index]\n",
        "    y_train, y_test = y_encoded[train_index], y_encoded[test_index]\n",
        "    print(\"Beginning fold: \", fold)\n",
        "    SVM = SVC(C=12, break_ties=False, cache_size=200, class_weight='balanced', coef0=0.0,\n",
        "    decision_function_shape='ovr', degree=3, gamma=0.001, kernel='linear',\n",
        "    max_iter=-1, probability=False, random_state=None, shrinking=True,\n",
        "    tol=0.001, verbose=False)\n",
        "    SVM.fit(X_train,y_train)\n",
        "    predictions_SVM1 = SVM.predict(X_test)\n",
        "    acc = accuracy_score(predictions_SVM1, y_test)*100\n",
        "    accuracies.append(acc)\n",
        "    print(\"K-Fold: {} - {} - {:.2f}\".format(fold, \"Accuracy: \",acc))\n",
        "    \n",
        "print(\"Mean {:.2f} Std {:.2f}\".format(np.mean(accuracies), np.std(accuracies)))"
      ],
      "execution_count": 81,
      "outputs": [
        {
          "output_type": "stream",
          "text": [
            "Beginning fold:  1\n",
            "K-Fold: 1 - Accuracy:  - 80.40\n",
            "Beginning fold:  2\n",
            "K-Fold: 2 - Accuracy:  - 78.00\n",
            "Beginning fold:  3\n",
            "K-Fold: 3 - Accuracy:  - 77.40\n",
            "Beginning fold:  4\n",
            "K-Fold: 4 - Accuracy:  - 80.20\n",
            "Beginning fold:  5\n",
            "K-Fold: 5 - Accuracy:  - 78.60\n",
            "Beginning fold:  6\n",
            "K-Fold: 6 - Accuracy:  - 78.20\n",
            "Beginning fold:  7\n",
            "K-Fold: 7 - Accuracy:  - 80.00\n",
            "Beginning fold:  8\n",
            "K-Fold: 8 - Accuracy:  - 79.00\n",
            "Beginning fold:  9\n",
            "K-Fold: 9 - Accuracy:  - 79.00\n",
            "Beginning fold:  10\n",
            "K-Fold: 10 - Accuracy:  - 82.60\n",
            "Mean 79.34 Std 1.43\n"
          ],
          "name": "stdout"
        }
      ]
    },
    {
      "cell_type": "code",
      "metadata": {
        "id": "FT4nRxKgJoIm"
      },
      "source": [
        "from sklearn.metrics import f1_score\n",
        "from sklearn.metrics import accuracy_score\n",
        "from sklearn.metrics import confusion_matrix\n",
        "from sklearn.metrics import classification_report\n",
        "\n",
        "\n",
        "def print_report(y_test, y_pred):\n",
        "    # Classification Report\n",
        "    print(classification_report(y_test,y_pred))\n",
        "\n",
        "    acc = accuracy_score(y_test, y_pred)*100\n",
        "    print('Accuracy score: %.3f' % acc)\n",
        "\n",
        "    print('F1 Score: %.3f' % f1_score(y_test, y_pred, average='weighted'))\n",
        "    \n",
        "    cm = confusion_matrix(y_test, y_pred)\n",
        "    print(\"Confustion matrix: \\n{}\".format(cm))"
      ],
      "execution_count": 82,
      "outputs": []
    },
    {
      "cell_type": "code",
      "metadata": {
        "id": "A1W2nWNEJ2KL",
        "outputId": "f3b86cb8-0f03-427a-cbd2-fbe670fbe40e",
        "colab": {
          "base_uri": "https://localhost:8080/",
          "height": 425
        }
      },
      "source": [
        "print_report(predictions_SVM1,y_test)"
      ],
      "execution_count": 84,
      "outputs": [
        {
          "output_type": "stream",
          "text": [
            "              precision    recall  f1-score   support\n",
            "\n",
            "           0       0.88      0.85      0.86        79\n",
            "           1       0.78      0.69      0.73        26\n",
            "           2       0.93      0.90      0.92        62\n",
            "           3       0.73      0.80      0.77       102\n",
            "           4       0.86      0.88      0.87        96\n",
            "           5       0.78      0.76      0.77       117\n",
            "           6       1.00      0.94      0.97        18\n",
            "\n",
            "    accuracy                           0.83       500\n",
            "   macro avg       0.85      0.83      0.84       500\n",
            "weighted avg       0.83      0.83      0.83       500\n",
            "\n",
            "Accuracy score: 82.600\n",
            "F1 Score: 0.827\n",
            "Confustion matrix: \n",
            "[[67  0  1  4  3  4  0]\n",
            " [ 1 18  0  3  1  3  0]\n",
            " [ 2  0 56  2  0  2  0]\n",
            " [ 1  2  0 82  6 11  0]\n",
            " [ 0  1  0  7 84  4  0]\n",
            " [ 5  2  3 14  4 89  0]\n",
            " [ 0  0  0  0  0  1 17]]\n"
          ],
          "name": "stdout"
        }
      ]
    },
    {
      "cell_type": "markdown",
      "metadata": {
        "id": "GONrgkKgLdpF"
      },
      "source": [
        "# Summary"
      ]
    },
    {
      "cell_type": "markdown",
      "metadata": {
        "id": "pEteCghqLf95"
      },
      "source": [
        "I was able to get the F1 score of 82.6% with FastText. Used `cc.en.300.bin.gz` Below is the best results. \n",
        "```\n",
        "              precision    recall  f1-score   support\n",
        "\n",
        "           0       0.88      0.85      0.86        79\n",
        "           1       0.78      0.69      0.73        26\n",
        "           2       0.93      0.90      0.92        62\n",
        "           3       0.73      0.80      0.77       102\n",
        "           4       0.86      0.88      0.87        96\n",
        "           5       0.78      0.76      0.77       117\n",
        "           6       1.00      0.94      0.97        18\n",
        "\n",
        "    accuracy                           0.83       500\n",
        "   macro avg       0.85      0.83      0.84       500\n",
        "weighted avg       0.83      0.83      0.83       500\n",
        "```\n",
        "\n",
        "* Accuracy score: 82.600\n",
        "* F1 Score: 0.827\n",
        "* Confustion matrix: \n",
        "```\n",
        "[[67  0  1  4  3  4  0]\n",
        " [ 1 18  0  3  1  3  0]\n",
        " [ 2  0 56  2  0  2  0]\n",
        " [ 1  2  0 82  6 11  0]\n",
        " [ 0  1  0  7 84  4  0]\n",
        " [ 5  2  3 14  4 89  0]\n",
        " [ 0  0  0  0  0  1 17]]\n",
        " ```"
      ]
    }
  ]
}