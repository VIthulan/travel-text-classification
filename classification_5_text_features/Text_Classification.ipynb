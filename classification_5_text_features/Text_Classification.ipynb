{
  "nbformat": 4,
  "nbformat_minor": 0,
  "metadata": {
    "kernelspec": {
      "display_name": "Python 3",
      "language": "python",
      "name": "python3"
    },
    "language_info": {
      "codemirror_mode": {
        "name": "ipython",
        "version": 3
      },
      "file_extension": ".py",
      "mimetype": "text/x-python",
      "name": "python",
      "nbconvert_exporter": "python",
      "pygments_lexer": "ipython3",
      "version": "3.6.9"
    },
    "colab": {
      "name": "Text Classification.ipynb",
      "provenance": [],
      "collapsed_sections": [
        "bup7Ki4DYSPn"
      ]
    },
    "accelerator": "GPU"
  },
  "cells": [
    {
      "cell_type": "code",
      "metadata": {
        "id": "0KU4IREGFnRp",
        "outputId": "e7a47283-9d2c-4dda-f56a-0317ffaab6a3",
        "colab": {
          "base_uri": "https://localhost:8080/",
          "height": 51
        }
      },
      "source": [
        "import numpy as np\n",
        "import pandas as pd\n",
        "import re\n",
        "import nltk\n",
        "from sklearn.datasets import load_files\n",
        "nltk.download('stopwords')\n",
        "import pickle\n",
        "from nltk.corpus import stopwords\n",
        "from nltk.stem import WordNetLemmatizer \n",
        "from nltk import pos_tag\n",
        "from nltk.tag.crf import CRFTagger\n",
        "from nltk.corpus import brown\n",
        "import spacy\n",
        "from sklearn.feature_extraction.text import CountVectorizer\n"
      ],
      "execution_count": 8,
      "outputs": [
        {
          "output_type": "stream",
          "text": [
            "[nltk_data] Downloading package stopwords to /root/nltk_data...\n",
            "[nltk_data]   Package stopwords is already up-to-date!\n"
          ],
          "name": "stdout"
        }
      ]
    },
    {
      "cell_type": "code",
      "metadata": {
        "id": "qIPwXAbXFnxw",
        "outputId": "cc4e28b9-295a-4090-f1ed-293bbd8f94a2",
        "colab": {
          "base_uri": "https://localhost:8080/",
          "height": 204
        }
      },
      "source": [
        "%pip install python-crfsuite\n",
        "\n",
        "nltk.download('punkt')\n",
        "nltk.download('wordnet')\n",
        "nltk.download('brown')\n",
        "nltk.download('averaged_perceptron_tagger')"
      ],
      "execution_count": 9,
      "outputs": [
        {
          "output_type": "stream",
          "text": [
            "Requirement already satisfied: python-crfsuite in /usr/local/lib/python3.6/dist-packages (0.9.7)\n",
            "[nltk_data] Downloading package punkt to /root/nltk_data...\n",
            "[nltk_data]   Unzipping tokenizers/punkt.zip.\n",
            "[nltk_data] Downloading package wordnet to /root/nltk_data...\n",
            "[nltk_data]   Unzipping corpora/wordnet.zip.\n",
            "[nltk_data] Downloading package brown to /root/nltk_data...\n",
            "[nltk_data]   Unzipping corpora/brown.zip.\n",
            "[nltk_data] Downloading package averaged_perceptron_tagger to\n",
            "[nltk_data]     /root/nltk_data...\n",
            "[nltk_data]   Unzipping taggers/averaged_perceptron_tagger.zip.\n"
          ],
          "name": "stdout"
        },
        {
          "output_type": "execute_result",
          "data": {
            "text/plain": [
              "True"
            ]
          },
          "metadata": {
            "tags": []
          },
          "execution_count": 9
        }
      ]
    },
    {
      "cell_type": "markdown",
      "metadata": {
        "id": "9L-mr_8jUe8B"
      },
      "source": [
        "# Data Loading"
      ]
    },
    {
      "cell_type": "code",
      "metadata": {
        "id": "BNLRnZboFnR2"
      },
      "source": [
        "col_names = ['questions', 'a', 'b']\n",
        "data_df = pd.read_csv(\"https://raw.githubusercontent.com/VIthulan/travel-text-classification/master/data/5000TravelQuestionsDataset.csv\", error_bad_lines=False,header=None, names=col_names, encoding='latin-1')\n"
      ],
      "execution_count": 10,
      "outputs": []
    },
    {
      "cell_type": "code",
      "metadata": {
        "id": "xPpfyHXQFnR8",
        "outputId": "bc6596e1-7ff5-42c2-9285-3e3cd6a1c911",
        "colab": {
          "base_uri": "https://localhost:8080/",
          "height": 221
        }
      },
      "source": [
        "data_df['questions']"
      ],
      "execution_count": 11,
      "outputs": [
        {
          "output_type": "execute_result",
          "data": {
            "text/plain": [
              "0       What are the special things we (husband and me...\n",
              "1       What are the companies which organize shark fe...\n",
              "2       Is it safe for female traveller to go alone to...\n",
              "3       What are the best places around Cape Town for ...\n",
              "4       What are the best places to stay for a family ...\n",
              "                              ...                        \n",
              "4995    What is the best area to be based for sightsee...\n",
              "4996    What are the good value traditional bars and r...\n",
              "4997       What are the hotels near Alicante bus station?\n",
              "4998       Where to stay in La Gomera to mountain biking?\n",
              "4999    Is it possible to take a train trip from Santi...\n",
              "Name: questions, Length: 5000, dtype: object"
            ]
          },
          "metadata": {
            "tags": []
          },
          "execution_count": 11
        }
      ]
    },
    {
      "cell_type": "markdown",
      "metadata": {
        "id": "m-IrOJm-UVxq"
      },
      "source": [
        "# Pre Processing"
      ]
    },
    {
      "cell_type": "markdown",
      "metadata": {
        "id": "oHxh0OgbayVj"
      },
      "source": [
        "## Stop word removal"
      ]
    },
    {
      "cell_type": "code",
      "metadata": {
        "id": "a0QXDQobaxlM"
      },
      "source": [
        "stop_words = set(stopwords.words('english')) \n",
        "\n",
        "def remove_stopwords(text):\n",
        "  word_tokens = nltk.word_tokenize(text) \n",
        "  filtered_sentence = [w for w in word_tokens if not w in stop_words] \n",
        "  return \" \".join(filtered_sentence)"
      ],
      "execution_count": 12,
      "outputs": []
    },
    {
      "cell_type": "code",
      "metadata": {
        "id": "wqIAXyadS8-G"
      },
      "source": [
        "    # Remove all the special characters\n",
        "data_df['processed_questions'] = data_df['questions'].str.replace(r'\\W', ' ')\n",
        "    # remove all single characters\n",
        "data_df['processed_questions'] = data_df['processed_questions'].str.replace(r'\\s+[a-zA-Z]\\s+', ' ')\n",
        "    # Remove single characters from the start\n",
        "data_df['processed_questions'] = data_df['questions'].str.replace(r'\\^[a-zA-Z]\\s+', ' ')\n",
        "    # Substituting multiple spaces with single space\n",
        "data_df['processed_questions'] = data_df['questions'].str.replace(r'\\s+', ' ')\n",
        "    # Removing prefixed 'b'\n",
        "data_df['processed_questions'] = data_df['questions'].str.replace(r'^b\\s+', '')\n",
        "    # Remove leading, trailing spaces\n",
        "data_df['processed_questions'] = data_df['questions'].str.strip()\n",
        "# Stop word removal\n",
        "data_df['processed_questions'] = data_df.processed_questions.apply(remove_stopwords)\n"
      ],
      "execution_count": 13,
      "outputs": []
    },
    {
      "cell_type": "code",
      "metadata": {
        "id": "LjBy4_OAUNNC",
        "outputId": "85ddc1cc-5b1f-4ab5-d155-781ae8c240d0",
        "colab": {
          "base_uri": "https://localhost:8080/",
          "height": 221
        }
      },
      "source": [
        "data_df['processed_questions']"
      ],
      "execution_count": 14,
      "outputs": [
        {
          "output_type": "execute_result",
          "data": {
            "text/plain": [
              "0       What special things ( husband ) 5 day stay Cap...\n",
              "1       What companies organize shark feeding events s...\n",
              "2           Is safe female traveller go alone Cape Town ?\n",
              "3              What best places around Cape Town safari ?\n",
              "4       What best places stay family stay away nightli...\n",
              "                              ...                        \n",
              "4995             What best area based sightseeing Palma ?\n",
              "4996    What good value traditional bars restaurants B...\n",
              "4997              What hotels near Alicante bus station ?\n",
              "4998               Where stay La Gomera mountain biking ?\n",
              "4999        Is possible take train trip Santiago Madrid ?\n",
              "Name: processed_questions, Length: 5000, dtype: object"
            ]
          },
          "metadata": {
            "tags": []
          },
          "execution_count": 14
        }
      ]
    },
    {
      "cell_type": "markdown",
      "metadata": {
        "id": "MJ1jKjccehzz"
      },
      "source": [
        "## Lemmatizing"
      ]
    },
    {
      "cell_type": "code",
      "metadata": {
        "id": "NgCLhhWmZQAd"
      },
      "source": [
        "w_tokenizer = nltk.tokenize.WhitespaceTokenizer()\n",
        "lemmatizer = nltk.stem.WordNetLemmatizer()\n",
        "\n",
        "def lemmatize_text(text):\n",
        "  lem = [lemmatizer.lemmatize(w, pos=\"v\") for w in nltk.word_tokenize(text)]\n",
        "  return \" \".join(lem)"
      ],
      "execution_count": 15,
      "outputs": []
    },
    {
      "cell_type": "code",
      "metadata": {
        "id": "blLt_44caWZI"
      },
      "source": [
        "data_df[\"question_lemmatized\"] = data_df.processed_questions.apply(lemmatize_text)"
      ],
      "execution_count": 16,
      "outputs": []
    },
    {
      "cell_type": "code",
      "metadata": {
        "id": "9CEXVWJdcqAG",
        "outputId": "cec883ca-7f47-48bb-984a-2c0a9bb3674b",
        "colab": {
          "base_uri": "https://localhost:8080/",
          "height": 221
        }
      },
      "source": [
        "data_df[\"question_lemmatized\"]"
      ],
      "execution_count": 17,
      "outputs": [
        {
          "output_type": "execute_result",
          "data": {
            "text/plain": [
              "0       What special things ( husband ) 5 day stay Cap...\n",
              "1       What company organize shark feed events scuba ...\n",
              "2           Is safe female traveller go alone Cape Town ?\n",
              "3               What best place around Cape Town safari ?\n",
              "4       What best place stay family stay away nightlife ?\n",
              "                              ...                        \n",
              "4995                 What best area base sightsee Palma ?\n",
              "4996    What good value traditional bar restaurants Ba...\n",
              "4997              What hotels near Alicante bus station ?\n",
              "4998                 Where stay La Gomera mountain bike ?\n",
              "4999        Is possible take train trip Santiago Madrid ?\n",
              "Name: question_lemmatized, Length: 5000, dtype: object"
            ]
          },
          "metadata": {
            "tags": []
          },
          "execution_count": 17
        }
      ]
    },
    {
      "cell_type": "markdown",
      "metadata": {
        "id": "nQH0lfD1MNmx"
      },
      "source": [
        "## POS Tag"
      ]
    },
    {
      "cell_type": "code",
      "metadata": {
        "id": "J5r-TRK8-coM"
      },
      "source": [
        "def pos_tagger(text):\n",
        "    pos_tagged = [ r[1] for r in pos_tag(nltk.word_tokenize(text))] \n",
        "    return ' '.join(pos_tagged)"
      ],
      "execution_count": 18,
      "outputs": []
    },
    {
      "cell_type": "code",
      "metadata": {
        "id": "THHonJS4-3KG"
      },
      "source": [
        "data_df[\"question_pos_t\"] = data_df.processed_questions.apply(pos_tagger)"
      ],
      "execution_count": 19,
      "outputs": []
    },
    {
      "cell_type": "code",
      "metadata": {
        "id": "Yxlpt7DZDoEs"
      },
      "source": [
        "# brown_tags = brown.tagged_sents(categories='hobbies')\n",
        "#  crf = CRFTagger()\n",
        "# crf.train(brown_tags,'model.crf.tagger')"
      ],
      "execution_count": 20,
      "outputs": []
    },
    {
      "cell_type": "code",
      "metadata": {
        "id": "z3XPfAIaJZ_h",
        "outputId": "d5d9a66d-2d74-4ba5-d95e-27c1422829e7",
        "colab": {
          "base_uri": "https://localhost:8080/",
          "height": 221
        }
      },
      "source": [
        "data_df[\"question_pos_t\"]"
      ],
      "execution_count": 21,
      "outputs": [
        {
          "output_type": "execute_result",
          "data": {
            "text/plain": [
              "0       WP JJ NNS ( NN ) CD NN VB NNP NNP .\n",
              "1            WP NNS VBP JJ VBG NNS JJ NNS .\n",
              "2             VBZ JJ NN NN VBP RB NNP NNP .\n",
              "3                WP JJS NNS IN NNP NNP NN .\n",
              "4              WP JJS NNS VBP NN VB RB RB .\n",
              "                       ...                 \n",
              "4995                WP JJS NN VBN VBG NNP .\n",
              "4996              WP JJ NN JJ NNS NNS NNP .\n",
              "4997                  WP VBD IN NNP NN NN .\n",
              "4998                 WRB NN NNP NNP NN NN .\n",
              "4999              VBZ JJ NN NN NN NNP NNP .\n",
              "Name: question_pos_t, Length: 5000, dtype: object"
            ]
          },
          "metadata": {
            "tags": []
          },
          "execution_count": 21
        }
      ]
    },
    {
      "cell_type": "markdown",
      "metadata": {
        "id": "XBegS-00VkZa"
      },
      "source": [
        "## Stop word removal"
      ]
    },
    {
      "cell_type": "code",
      "metadata": {
        "id": "EON6U65yVyRa"
      },
      "source": [
        ""
      ],
      "execution_count": 21,
      "outputs": []
    },
    {
      "cell_type": "code",
      "metadata": {
        "id": "n5Q_I6FXWdAL"
      },
      "source": [
        "data_df[\"question_stop_w_removed\"] = data_df.processed_questions.apply(remove_stopwords)"
      ],
      "execution_count": 22,
      "outputs": []
    },
    {
      "cell_type": "code",
      "metadata": {
        "id": "h_rpteozWjOy",
        "outputId": "a6fb626a-e3b4-4b47-a2a9-287d0f044e33",
        "colab": {
          "base_uri": "https://localhost:8080/",
          "height": 221
        }
      },
      "source": [
        "data_df[\"question_stop_w_removed\"]"
      ],
      "execution_count": 23,
      "outputs": [
        {
          "output_type": "execute_result",
          "data": {
            "text/plain": [
              "0       What special things ( husband ) 5 day stay Cap...\n",
              "1       What companies organize shark feeding events s...\n",
              "2           Is safe female traveller go alone Cape Town ?\n",
              "3              What best places around Cape Town safari ?\n",
              "4       What best places stay family stay away nightli...\n",
              "                              ...                        \n",
              "4995             What best area based sightseeing Palma ?\n",
              "4996    What good value traditional bars restaurants B...\n",
              "4997              What hotels near Alicante bus station ?\n",
              "4998               Where stay La Gomera mountain biking ?\n",
              "4999        Is possible take train trip Santiago Madrid ?\n",
              "Name: question_stop_w_removed, Length: 5000, dtype: object"
            ]
          },
          "metadata": {
            "tags": []
          },
          "execution_count": 23
        }
      ]
    },
    {
      "cell_type": "markdown",
      "metadata": {
        "id": "kW8hNuUXMQni"
      },
      "source": [
        "## Headword extraction"
      ]
    },
    {
      "cell_type": "code",
      "metadata": {
        "id": "mMRbML-tMboD"
      },
      "source": [
        "nlp = spacy.load(\"en_core_web_sm\")\n",
        "def head_word_tokenizer(text):\n",
        "    head_words = []\n",
        "    for token in nlp(text):\n",
        "        if token.dep_ == \"nsubj\" or token.dep_ == \"nsubjpass\":\n",
        "            head_words.append(token.text)\n",
        "            head_words.append(token.head.text)\n",
        "    unique_hw = list(set(head_words))\n",
        "    return unique_hw"
      ],
      "execution_count": 24,
      "outputs": []
    },
    {
      "cell_type": "code",
      "metadata": {
        "id": "IOS2ayUWMlXT"
      },
      "source": [
        "# head_words_vectorizer = CountVectorizer(tokenizer = head_word_tokenizer,max_features=100,stop_words=stopwords.words('english'))\n",
        "# head_words_vector = head_words_vectorizer.fit_transform(data_df.question_lemmatized.values).toarray()"
      ],
      "execution_count": 25,
      "outputs": []
    },
    {
      "cell_type": "code",
      "metadata": {
        "id": "rLdL26_5NZE5"
      },
      "source": [
        "data_df[\"question_headwords\"] = data_df.question_stop_w_removed.apply(head_word_tokenizer)"
      ],
      "execution_count": 26,
      "outputs": []
    },
    {
      "cell_type": "code",
      "metadata": {
        "id": "Cm-PQAvCIv3i",
        "outputId": "189a80fd-cfe3-4988-d293-71a1e678b5ae",
        "colab": {
          "base_uri": "https://localhost:8080/",
          "height": 221
        }
      },
      "source": [
        "data_df[\"question_headwords\"]"
      ],
      "execution_count": 27,
      "outputs": [
        {
          "output_type": "execute_result",
          "data": {
            "text/plain": [
              "0               [stay, things]\n",
              "1        [companies, organize]\n",
              "2              [go, traveller]\n",
              "3                           []\n",
              "4       [family, stay, places]\n",
              "                 ...          \n",
              "4995                        []\n",
              "4996       [restaurants, bars]\n",
              "4997                        []\n",
              "4998            [biking, stay]\n",
              "4999                        []\n",
              "Name: question_headwords, Length: 5000, dtype: object"
            ]
          },
          "metadata": {
            "tags": []
          },
          "execution_count": 27
        }
      ]
    },
    {
      "cell_type": "code",
      "metadata": {
        "id": "eUtnMLOIXFOo",
        "outputId": "057438e7-2d4c-4934-c81e-6c9613155467",
        "colab": {
          "base_uri": "https://localhost:8080/",
          "height": 221
        }
      },
      "source": [
        "data_df[\"question_headwords\"]"
      ],
      "execution_count": 28,
      "outputs": [
        {
          "output_type": "execute_result",
          "data": {
            "text/plain": [
              "0               [stay, things]\n",
              "1        [companies, organize]\n",
              "2              [go, traveller]\n",
              "3                           []\n",
              "4       [family, stay, places]\n",
              "                 ...          \n",
              "4995                        []\n",
              "4996       [restaurants, bars]\n",
              "4997                        []\n",
              "4998            [biking, stay]\n",
              "4999                        []\n",
              "Name: question_headwords, Length: 5000, dtype: object"
            ]
          },
          "metadata": {
            "tags": []
          },
          "execution_count": 28
        }
      ]
    },
    {
      "cell_type": "markdown",
      "metadata": {
        "id": "x2bRZE1vM0Nt"
      },
      "source": [
        "## Headword Synonyms"
      ]
    },
    {
      "cell_type": "code",
      "metadata": {
        "id": "sJicP4KJMzQz"
      },
      "source": [
        "from nltk.corpus import wordnet\n",
        "max_syns = 2\n",
        "def wordnet_synonyms(keywords):\n",
        "  synonyms = []\n",
        "  for keyword in keywords:\n",
        "    count = 0\n",
        "    for synset in wordnet.synsets(keyword):\n",
        "      if count <= max_syns:\n",
        "        for lemma in synset.lemmas():\n",
        "          if count <= max_syns:\n",
        "            synonyms.append(lemma.name())\n",
        "          else: \n",
        "            break\n",
        "        count = count + 1\n",
        "      else:\n",
        "        break\n",
        "\n",
        "  return synonyms"
      ],
      "execution_count": 29,
      "outputs": []
    },
    {
      "cell_type": "code",
      "metadata": {
        "id": "Cwbxc9OwgFpT",
        "outputId": "9b90ea64-3f0a-4362-b455-1da189889939",
        "colab": {
          "base_uri": "https://localhost:8080/",
          "height": 221
        }
      },
      "source": [
        "wordnet_synonyms([\"mother\", \"father\"])"
      ],
      "execution_count": 30,
      "outputs": [
        {
          "output_type": "execute_result",
          "data": {
            "text/plain": [
              "['mother',\n",
              " 'female_parent',\n",
              " 'mother',\n",
              " 'mother',\n",
              " 'father',\n",
              " 'male_parent',\n",
              " 'begetter',\n",
              " 'forefather',\n",
              " 'father',\n",
              " 'sire',\n",
              " 'Father',\n",
              " 'Padre']"
            ]
          },
          "metadata": {
            "tags": []
          },
          "execution_count": 30
        }
      ]
    },
    {
      "cell_type": "code",
      "metadata": {
        "id": "KBgZ_zb_O_dG"
      },
      "source": [
        "data_df[\"question_hw_syn\"] = data_df.question_headwords.apply(wordnet_synonyms)"
      ],
      "execution_count": 31,
      "outputs": []
    },
    {
      "cell_type": "code",
      "metadata": {
        "id": "i1DghO5uQoCO",
        "outputId": "5b5dc608-91a6-4407-e362-c4660a4c9300",
        "colab": {
          "base_uri": "https://localhost:8080/",
          "height": 221
        }
      },
      "source": [
        "data_df[\"question_hw_syn\"]"
      ],
      "execution_count": 32,
      "outputs": [
        {
          "output_type": "execute_result",
          "data": {
            "text/plain": [
              "0       [stay, arrest, check, halt, hitch, stay, stop,...\n",
              "1       [company, company, company, companionship, fel...\n",
              "2       [go, spell, tour, turn, Adam, ecstasy, XTC, go...\n",
              "3                                                      []\n",
              "4       [family, household, house, home, menage, famil...\n",
              "                              ...                        \n",
              "4995                                                   []\n",
              "4996    [restaurant, eating_house, eating_place, eater...\n",
              "4997                                                   []\n",
              "4998    [bicycle, cycle, bike, pedal, wheel, stay, arr...\n",
              "4999                                                   []\n",
              "Name: question_hw_syn, Length: 5000, dtype: object"
            ]
          },
          "metadata": {
            "tags": []
          },
          "execution_count": 32
        }
      ]
    },
    {
      "cell_type": "markdown",
      "metadata": {
        "id": "1dBspaFRkwnt"
      },
      "source": [
        "## Bag of Words\n",
        "This will be added to the training model directly using countVector"
      ]
    },
    {
      "cell_type": "markdown",
      "metadata": {
        "id": "bup7Ki4DYSPn"
      },
      "source": [
        "# Vectorizer Methods"
      ]
    },
    {
      "cell_type": "markdown",
      "metadata": {
        "id": "jMbiobVajow5"
      },
      "source": [
        "## TF IDF Vectorizer"
      ]
    },
    {
      "cell_type": "code",
      "metadata": {
        "id": "eZACwC72YPhQ"
      },
      "source": [
        "from sklearn.feature_extraction.text import TfidfVectorizer\n",
        "\n",
        "def tfidf_vectorize(text):\n",
        "  tfidfconverter = TfidfVectorizer(max_features=1500, min_df=1, max_df=0.7, stop_words=stopwords.words('english'))\n",
        "  X = tfidfconverter.fit_transform(text).toarray()\n",
        "  return X\n"
      ],
      "execution_count": 33,
      "outputs": []
    },
    {
      "cell_type": "markdown",
      "metadata": {
        "id": "B8OnZAXmjtxW"
      },
      "source": [
        "## Count Vectorizer"
      ]
    },
    {
      "cell_type": "code",
      "metadata": {
        "id": "ASqJypTvagpv"
      },
      "source": [
        "from sklearn.feature_extraction.text import CountVectorizer\n",
        "def count_vectorize(text):\n",
        "  vectorizer = CountVectorizer(max_features=1500, min_df=1, max_df=0.7, stop_words=stopwords.words('english'))\n",
        "  X = vectorizer.fit_transform(text).toarray()\n",
        "  return X\n"
      ],
      "execution_count": 34,
      "outputs": []
    },
    {
      "cell_type": "markdown",
      "metadata": {
        "id": "2SzDFR0lZmKu"
      },
      "source": [
        "## MultiLabel Binarizer"
      ]
    },
    {
      "cell_type": "code",
      "metadata": {
        "id": "Bou3PxMxZllg"
      },
      "source": [
        "from sklearn.preprocessing import MultiLabelBinarizer\n",
        "\n",
        "def multilabel_bin(text):\n",
        "  mlb = MultiLabelBinarizer()\n",
        "  X = mlb.fit_transform(text)\n",
        "  return X"
      ],
      "execution_count": 35,
      "outputs": []
    },
    {
      "cell_type": "markdown",
      "metadata": {
        "id": "kFhhQrybeGl5"
      },
      "source": [
        "## Label Enconder"
      ]
    },
    {
      "cell_type": "code",
      "metadata": {
        "id": "HB5CP71IeI31"
      },
      "source": [
        "from sklearn.preprocessing import LabelEncoder\n",
        "def label_encoder(text):\n",
        "  le = LabelEncoder()\n",
        "  y_encoded = le.fit_transform(text)"
      ],
      "execution_count": 36,
      "outputs": []
    },
    {
      "cell_type": "markdown",
      "metadata": {
        "id": "FLHUQ3Y6KY2l"
      },
      "source": [
        "## Accuracy Calculator"
      ]
    },
    {
      "cell_type": "code",
      "metadata": {
        "id": "rHopfkFJKcZm"
      },
      "source": [
        "from sklearn.metrics import f1_score\n",
        "from sklearn.metrics import accuracy_score\n",
        "from sklearn.metrics import confusion_matrix\n",
        "from sklearn.metrics import classification_report\n",
        "\n",
        "\n",
        "def print_report(y_test, y_pred):\n",
        "    # Classification Report\n",
        "    print(classification_report(y_test,y_pred))\n",
        "\n",
        "    acc = accuracy_score(y_test, y_pred)*100\n",
        "    print('Accuracy score: %.3f' % acc)\n",
        "\n",
        "    print('F1 Score: %.3f' % f1_score(y_test, y_pred, average='weighted'))\n",
        "    \n",
        "    cm = confusion_matrix(y_test, y_pred)\n",
        "    print(\"Confustion matrix: \\n{}\".format(cm))"
      ],
      "execution_count": 62,
      "outputs": []
    },
    {
      "cell_type": "markdown",
      "metadata": {
        "id": "8e1u7SqTel6J"
      },
      "source": [
        "# Feature Encoding"
      ]
    },
    {
      "cell_type": "code",
      "metadata": {
        "id": "7AjjjHx8R8u0",
        "outputId": "3089bcee-5ff1-4a89-c3ba-201ef68b438f",
        "colab": {
          "base_uri": "https://localhost:8080/",
          "height": 34
        }
      },
      "source": [
        "tfidf_vectorize(data_df['question_lemmatized']).shape"
      ],
      "execution_count": 37,
      "outputs": [
        {
          "output_type": "execute_result",
          "data": {
            "text/plain": [
              "(5000, 1500)"
            ]
          },
          "metadata": {
            "tags": []
          },
          "execution_count": 37
        }
      ]
    },
    {
      "cell_type": "code",
      "metadata": {
        "id": "WJaHuY06Ts8J",
        "outputId": "03773a56-3525-42e6-859c-8837e300583d",
        "colab": {
          "base_uri": "https://localhost:8080/",
          "height": 34
        }
      },
      "source": [
        "count_vectorize(data_df[\"question_pos_t\"]).shape"
      ],
      "execution_count": 38,
      "outputs": [
        {
          "output_type": "execute_result",
          "data": {
            "text/plain": [
              "(5000, 25)"
            ]
          },
          "metadata": {
            "tags": []
          },
          "execution_count": 38
        }
      ]
    },
    {
      "cell_type": "code",
      "metadata": {
        "id": "IgiulR7YTxdS",
        "outputId": "255f4f45-3bd2-49cd-f622-558a594e4f42",
        "colab": {
          "base_uri": "https://localhost:8080/",
          "height": 34
        }
      },
      "source": [
        "multilabel_bin(data_df[\"question_headwords\"]).shape"
      ],
      "execution_count": 39,
      "outputs": [
        {
          "output_type": "execute_result",
          "data": {
            "text/plain": [
              "(5000, 1664)"
            ]
          },
          "metadata": {
            "tags": []
          },
          "execution_count": 39
        }
      ]
    },
    {
      "cell_type": "code",
      "metadata": {
        "id": "0Zqx24YUZJEp",
        "outputId": "e68678e4-73ab-4db1-fec5-c6a3b004589d",
        "colab": {
          "base_uri": "https://localhost:8080/",
          "height": 34
        }
      },
      "source": [
        "multilabel_bin(data_df[\"question_hw_syn\"]).shape"
      ],
      "execution_count": 40,
      "outputs": [
        {
          "output_type": "execute_result",
          "data": {
            "text/plain": [
              "(5000, 4217)"
            ]
          },
          "metadata": {
            "tags": []
          },
          "execution_count": 40
        }
      ]
    },
    {
      "cell_type": "code",
      "metadata": {
        "id": "-iy_-nTvjq08"
      },
      "source": [
        "# data_df[\"lem_vec\"] = data_df.question_lemmatized.apply(tfidf_vectorize)\n",
        "# data_df[\"pos_vec\"] = data_df.question_pos_t.apply(count_vectorize)\n",
        "# data_df[\"head_vec\"] = data_df.question_headwords.apply(multilabel_bin)\n",
        "# data_df[\"head_vec_syn\"] = data_df.question_hw_syn.apply(multilabel_bin)"
      ],
      "execution_count": 41,
      "outputs": []
    },
    {
      "cell_type": "code",
      "metadata": {
        "id": "dToSmfHqUC-3",
        "outputId": "5e2ea6e6-7e59-42e8-bcd6-e40fddb4dfc8",
        "colab": {
          "base_uri": "https://localhost:8080/",
          "height": 289
        }
      },
      "source": [
        "data_df.head()"
      ],
      "execution_count": 42,
      "outputs": [
        {
          "output_type": "execute_result",
          "data": {
            "text/html": [
              "<div>\n",
              "<style scoped>\n",
              "    .dataframe tbody tr th:only-of-type {\n",
              "        vertical-align: middle;\n",
              "    }\n",
              "\n",
              "    .dataframe tbody tr th {\n",
              "        vertical-align: top;\n",
              "    }\n",
              "\n",
              "    .dataframe thead th {\n",
              "        text-align: right;\n",
              "    }\n",
              "</style>\n",
              "<table border=\"1\" class=\"dataframe\">\n",
              "  <thead>\n",
              "    <tr style=\"text-align: right;\">\n",
              "      <th></th>\n",
              "      <th>questions</th>\n",
              "      <th>a</th>\n",
              "      <th>b</th>\n",
              "      <th>processed_questions</th>\n",
              "      <th>question_lemmatized</th>\n",
              "      <th>question_pos_t</th>\n",
              "      <th>question_stop_w_removed</th>\n",
              "      <th>question_headwords</th>\n",
              "      <th>question_hw_syn</th>\n",
              "    </tr>\n",
              "  </thead>\n",
              "  <tbody>\n",
              "    <tr>\n",
              "      <th>0</th>\n",
              "      <td>What are the special things we (husband and me...</td>\n",
              "      <td>TTD</td>\n",
              "      <td>TTDSIG</td>\n",
              "      <td>What special things ( husband ) 5 day stay Cap...</td>\n",
              "      <td>What special things ( husband ) 5 day stay Cap...</td>\n",
              "      <td>WP JJ NNS ( NN ) CD NN VB NNP NNP .</td>\n",
              "      <td>What special things ( husband ) 5 day stay Cap...</td>\n",
              "      <td>[stay, things]</td>\n",
              "      <td>[stay, arrest, check, halt, hitch, stay, stop,...</td>\n",
              "    </tr>\n",
              "    <tr>\n",
              "      <th>1</th>\n",
              "      <td>What are the companies which organize shark fe...</td>\n",
              "      <td>TTD</td>\n",
              "      <td>TTDOTH</td>\n",
              "      <td>What companies organize shark feeding events s...</td>\n",
              "      <td>What company organize shark feed events scuba ...</td>\n",
              "      <td>WP NNS VBP JJ VBG NNS JJ NNS .</td>\n",
              "      <td>What companies organize shark feeding events s...</td>\n",
              "      <td>[companies, organize]</td>\n",
              "      <td>[company, company, company, companionship, fel...</td>\n",
              "    </tr>\n",
              "    <tr>\n",
              "      <th>2</th>\n",
              "      <td>Is it safe for female traveller to go alone to...</td>\n",
              "      <td>TGU</td>\n",
              "      <td>TGUHEA</td>\n",
              "      <td>Is safe female traveller go alone Cape Town ?</td>\n",
              "      <td>Is safe female traveller go alone Cape Town ?</td>\n",
              "      <td>VBZ JJ NN NN VBP RB NNP NNP .</td>\n",
              "      <td>Is safe female traveller go alone Cape Town ?</td>\n",
              "      <td>[go, traveller]</td>\n",
              "      <td>[go, spell, tour, turn, Adam, ecstasy, XTC, go...</td>\n",
              "    </tr>\n",
              "    <tr>\n",
              "      <th>3</th>\n",
              "      <td>What are the best places around Cape Town for ...</td>\n",
              "      <td>TTD</td>\n",
              "      <td>TTDSIG</td>\n",
              "      <td>What best places around Cape Town safari ?</td>\n",
              "      <td>What best place around Cape Town safari ?</td>\n",
              "      <td>WP JJS NNS IN NNP NNP NN .</td>\n",
              "      <td>What best places around Cape Town safari ?</td>\n",
              "      <td>[]</td>\n",
              "      <td>[]</td>\n",
              "    </tr>\n",
              "    <tr>\n",
              "      <th>4</th>\n",
              "      <td>What are the best places to stay for a family ...</td>\n",
              "      <td>ACM</td>\n",
              "      <td>ACMOTH</td>\n",
              "      <td>What best places stay family stay away nightli...</td>\n",
              "      <td>What best place stay family stay away nightlife ?</td>\n",
              "      <td>WP JJS NNS VBP NN VB RB RB .</td>\n",
              "      <td>What best places stay family stay away nightli...</td>\n",
              "      <td>[family, stay, places]</td>\n",
              "      <td>[family, household, house, home, menage, famil...</td>\n",
              "    </tr>\n",
              "  </tbody>\n",
              "</table>\n",
              "</div>"
            ],
            "text/plain": [
              "                                           questions  ...                                    question_hw_syn\n",
              "0  What are the special things we (husband and me...  ...  [stay, arrest, check, halt, hitch, stay, stop,...\n",
              "1  What are the companies which organize shark fe...  ...  [company, company, company, companionship, fel...\n",
              "2  Is it safe for female traveller to go alone to...  ...  [go, spell, tour, turn, Adam, ecstasy, XTC, go...\n",
              "3  What are the best places around Cape Town for ...  ...                                                 []\n",
              "4  What are the best places to stay for a family ...  ...  [family, household, house, home, menage, famil...\n",
              "\n",
              "[5 rows x 9 columns]"
            ]
          },
          "metadata": {
            "tags": []
          },
          "execution_count": 42
        }
      ]
    },
    {
      "cell_type": "code",
      "metadata": {
        "id": "WHTikpnYpk3-"
      },
      "source": [
        "le = LabelEncoder()\n",
        "\n",
        "x_encoded = np.concatenate((tfidf_vectorize(data_df['question_lemmatized']), count_vectorize(data_df[\"question_pos_t\"]), multilabel_bin(data_df[\"question_headwords\"]), multilabel_bin(data_df[\"question_hw_syn\"])), axis=1)\n",
        "y_encoded = le.fit_transform(data_df['a'])"
      ],
      "execution_count": 49,
      "outputs": []
    },
    {
      "cell_type": "code",
      "metadata": {
        "id": "wC1qlHiChok5",
        "outputId": "8f2282f3-eacc-4a66-8229-7c756d243d8e",
        "colab": {
          "base_uri": "https://localhost:8080/",
          "height": 34
        }
      },
      "source": [
        "x_encoded.shape"
      ],
      "execution_count": 50,
      "outputs": [
        {
          "output_type": "execute_result",
          "data": {
            "text/plain": [
              "(5000, 7406)"
            ]
          },
          "metadata": {
            "tags": []
          },
          "execution_count": 50
        }
      ]
    },
    {
      "cell_type": "code",
      "metadata": {
        "id": "jAjZ5zGutlNj",
        "outputId": "1ba6254f-7e82-4126-d547-0f49410fddb9",
        "colab": {
          "base_uri": "https://localhost:8080/",
          "height": 34
        }
      },
      "source": [
        "y_encoded.shape"
      ],
      "execution_count": 51,
      "outputs": [
        {
          "output_type": "execute_result",
          "data": {
            "text/plain": [
              "(5000,)"
            ]
          },
          "metadata": {
            "tags": []
          },
          "execution_count": 51
        }
      ]
    },
    {
      "cell_type": "code",
      "metadata": {
        "id": "ziLlcLuwmJ4Z",
        "outputId": "4ea28f2e-67e0-4c0f-d381-bef1c84fbd3f",
        "colab": {
          "base_uri": "https://localhost:8080/",
          "height": 1000
        }
      },
      "source": [
        "from scipy.sparse import csr_matrix\n",
        "# create dense matrix\n",
        "# convert to sparse matrix (CSR method)\n",
        "S = csr_matrix(x_encoded)\n",
        "print(S.shape)\n",
        "print(S)\n",
        "# reconstruct dense matrix\n",
        "B = S.todense()\n",
        "print(B.shape)\n",
        "print(B)"
      ],
      "execution_count": 46,
      "outputs": [
        {
          "output_type": "stream",
          "text": [
            "(5000, 7406)\n",
            "  (0, 221)\t0.49658101113101494\n",
            "  (0, 356)\t0.33531294280382\n",
            "  (0, 1255)\t0.4808824383659787\n",
            "  (0, 1273)\t0.29338267835993315\n",
            "  (0, 1338)\t0.4016610704129838\n",
            "  (0, 1366)\t0.4028890651241106\n",
            "  (0, 1501)\t1.0\n",
            "  (0, 1504)\t1.0\n",
            "  (0, 1509)\t1.0\n",
            "  (0, 1516)\t1.0\n",
            "  (0, 1523)\t1.0\n",
            "  (0, 2991)\t1.0\n",
            "  (0, 3052)\t1.0\n",
            "  (0, 3908)\t1.0\n",
            "  (0, 4338)\t1.0\n",
            "  (0, 5285)\t1.0\n",
            "  (0, 5356)\t1.0\n",
            "  (0, 6837)\t1.0\n",
            "  (0, 6858)\t1.0\n",
            "  (0, 6860)\t1.0\n",
            "  (0, 7025)\t1.0\n",
            "  (0, 7026)\t1.0\n",
            "  (1, 313)\t0.4311613009762721\n",
            "  (1, 454)\t0.6455332180327034\n",
            "  (1, 1178)\t0.6303862284003282\n",
            "  :\t:\n",
            "  (4998, 888)\t0.6180078928060596\n",
            "  (4998, 1273)\t0.3223335822690538\n",
            "  (4998, 1524)\t1.0\n",
            "  (4998, 2130)\t1.0\n",
            "  (4998, 2991)\t1.0\n",
            "  (4998, 3908)\t1.0\n",
            "  (4998, 4074)\t1.0\n",
            "  (4998, 4077)\t1.0\n",
            "  (4998, 4338)\t1.0\n",
            "  (4998, 4607)\t1.0\n",
            "  (4998, 5285)\t1.0\n",
            "  (4998, 5356)\t1.0\n",
            "  (4998, 6105)\t1.0\n",
            "  (4998, 6837)\t1.0\n",
            "  (4998, 6858)\t1.0\n",
            "  (4998, 6860)\t1.0\n",
            "  (4998, 7342)\t1.0\n",
            "  (4999, 802)\t0.5047014417228678\n",
            "  (4999, 1034)\t0.3841878014180018\n",
            "  (4999, 1165)\t0.4718230190792136\n",
            "  (4999, 1314)\t0.33696015351025005\n",
            "  (4999, 1372)\t0.3793615050938912\n",
            "  (4999, 1382)\t0.3429313780199809\n",
            "  (4999, 1504)\t1.0\n",
            "  (4999, 1521)\t1.0\n",
            "(5000, 7406)\n",
            "[[0. 0. 0. ... 0. 0. 0.]\n",
            " [0. 0. 0. ... 0. 0. 0.]\n",
            " [0. 0. 0. ... 0. 0. 0.]\n",
            " ...\n",
            " [0. 0. 0. ... 0. 0. 0.]\n",
            " [0. 0. 0. ... 0. 0. 0.]\n",
            " [0. 0. 0. ... 0. 0. 0.]]\n"
          ],
          "name": "stdout"
        }
      ]
    },
    {
      "cell_type": "markdown",
      "metadata": {
        "id": "JU6q2qheRmxN"
      },
      "source": [
        "# Hyper paramter tuning"
      ]
    },
    {
      "cell_type": "code",
      "metadata": {
        "id": "WqkV1i3CRqzl"
      },
      "source": [
        "from sklearn.model_selection import GridSearchCV \n",
        "from sklearn import svm\n",
        "\n",
        "param_grid = {'C': [1,2,3,4,5,6,7,8,9,10],  \n",
        "              'gamma': [0.1, 0.15, 0.2, 0.25, 0.3, 0.35, 0.4, 0.45], \n",
        "              'kernel': ['rbf', 'linear'],\n",
        "              'class_weight': [\"balanced\"]}\n"
      ],
      "execution_count": 52,
      "outputs": []
    },
    {
      "cell_type": "code",
      "metadata": {
        "id": "MVDBvyOfRwGt",
        "outputId": "6fc42f87-df41-49d1-dd28-85fd145170de",
        "colab": {
          "base_uri": "https://localhost:8080/",
          "height": 1000
        }
      },
      "source": [
        "# grid = GridSearchCV(svm.SVC(), param_grid, refit = True, verbose = 3, cv=3) \n",
        "\n",
        "# grid.fit(tfidf_vectorize(data_df['question_lemmatized'])[:1000], y_encoded[:1000]) "
      ],
      "execution_count": 53,
      "outputs": [
        {
          "output_type": "stream",
          "text": [
            "Fitting 3 folds for each of 160 candidates, totalling 480 fits\n",
            "[CV] C=1, class_weight=balanced, gamma=0.1, kernel=rbf ...............\n"
          ],
          "name": "stdout"
        },
        {
          "output_type": "stream",
          "text": [
            "/usr/local/lib/python3.6/dist-packages/sklearn/model_selection/_split.py:667: UserWarning: The least populated class in y has only 1 members, which is less than n_splits=3.\n",
            "  % (min_groups, self.n_splits)), UserWarning)\n",
            "[Parallel(n_jobs=1)]: Using backend SequentialBackend with 1 concurrent workers.\n"
          ],
          "name": "stderr"
        },
        {
          "output_type": "stream",
          "text": [
            "[CV]  C=1, class_weight=balanced, gamma=0.1, kernel=rbf, score=0.431, total=   2.6s\n",
            "[CV] C=1, class_weight=balanced, gamma=0.1, kernel=rbf ...............\n"
          ],
          "name": "stdout"
        },
        {
          "output_type": "stream",
          "text": [
            "[Parallel(n_jobs=1)]: Done   1 out of   1 | elapsed:    2.6s remaining:    0.0s\n"
          ],
          "name": "stderr"
        },
        {
          "output_type": "stream",
          "text": [
            "[CV]  C=1, class_weight=balanced, gamma=0.1, kernel=rbf, score=0.294, total=   2.7s\n",
            "[CV] C=1, class_weight=balanced, gamma=0.1, kernel=rbf ...............\n"
          ],
          "name": "stdout"
        },
        {
          "output_type": "stream",
          "text": [
            "[Parallel(n_jobs=1)]: Done   2 out of   2 | elapsed:    5.4s remaining:    0.0s\n"
          ],
          "name": "stderr"
        },
        {
          "output_type": "stream",
          "text": [
            "[CV]  C=1, class_weight=balanced, gamma=0.1, kernel=rbf, score=0.357, total=   2.7s\n",
            "[CV] C=1, class_weight=balanced, gamma=0.1, kernel=linear ............\n",
            "[CV]  C=1, class_weight=balanced, gamma=0.1, kernel=linear, score=0.686, total=   2.3s\n",
            "[CV] C=1, class_weight=balanced, gamma=0.1, kernel=linear ............\n",
            "[CV]  C=1, class_weight=balanced, gamma=0.1, kernel=linear, score=0.652, total=   2.3s\n",
            "[CV] C=1, class_weight=balanced, gamma=0.1, kernel=linear ............\n",
            "[CV]  C=1, class_weight=balanced, gamma=0.1, kernel=linear, score=0.703, total=   2.3s\n",
            "[CV] C=1, class_weight=balanced, gamma=0.15, kernel=rbf ..............\n",
            "[CV]  C=1, class_weight=balanced, gamma=0.15, kernel=rbf, score=0.527, total=   2.6s\n",
            "[CV] C=1, class_weight=balanced, gamma=0.15, kernel=rbf ..............\n",
            "[CV]  C=1, class_weight=balanced, gamma=0.15, kernel=rbf, score=0.459, total=   2.7s\n",
            "[CV] C=1, class_weight=balanced, gamma=0.15, kernel=rbf ..............\n",
            "[CV]  C=1, class_weight=balanced, gamma=0.15, kernel=rbf, score=0.559, total=   2.6s\n",
            "[CV] C=1, class_weight=balanced, gamma=0.15, kernel=linear ...........\n",
            "[CV]  C=1, class_weight=balanced, gamma=0.15, kernel=linear, score=0.686, total=   2.3s\n",
            "[CV] C=1, class_weight=balanced, gamma=0.15, kernel=linear ...........\n",
            "[CV]  C=1, class_weight=balanced, gamma=0.15, kernel=linear, score=0.652, total=   2.3s\n",
            "[CV] C=1, class_weight=balanced, gamma=0.15, kernel=linear ...........\n",
            "[CV]  C=1, class_weight=balanced, gamma=0.15, kernel=linear, score=0.703, total=   2.3s\n",
            "[CV] C=1, class_weight=balanced, gamma=0.2, kernel=rbf ...............\n",
            "[CV]  C=1, class_weight=balanced, gamma=0.2, kernel=rbf, score=0.599, total=   2.5s\n",
            "[CV] C=1, class_weight=balanced, gamma=0.2, kernel=rbf ...............\n",
            "[CV]  C=1, class_weight=balanced, gamma=0.2, kernel=rbf, score=0.589, total=   2.7s\n",
            "[CV] C=1, class_weight=balanced, gamma=0.2, kernel=rbf ...............\n",
            "[CV]  C=1, class_weight=balanced, gamma=0.2, kernel=rbf, score=0.646, total=   2.6s\n",
            "[CV] C=1, class_weight=balanced, gamma=0.2, kernel=linear ............\n",
            "[CV]  C=1, class_weight=balanced, gamma=0.2, kernel=linear, score=0.686, total=   2.3s\n",
            "[CV] C=1, class_weight=balanced, gamma=0.2, kernel=linear ............\n",
            "[CV]  C=1, class_weight=balanced, gamma=0.2, kernel=linear, score=0.652, total=   2.3s\n",
            "[CV] C=1, class_weight=balanced, gamma=0.2, kernel=linear ............\n",
            "[CV]  C=1, class_weight=balanced, gamma=0.2, kernel=linear, score=0.703, total=   2.3s\n",
            "[CV] C=1, class_weight=balanced, gamma=0.25, kernel=rbf ..............\n",
            "[CV]  C=1, class_weight=balanced, gamma=0.25, kernel=rbf, score=0.620, total=   2.5s\n",
            "[CV] C=1, class_weight=balanced, gamma=0.25, kernel=rbf ..............\n",
            "[CV]  C=1, class_weight=balanced, gamma=0.25, kernel=rbf, score=0.607, total=   2.6s\n",
            "[CV] C=1, class_weight=balanced, gamma=0.25, kernel=rbf ..............\n",
            "[CV]  C=1, class_weight=balanced, gamma=0.25, kernel=rbf, score=0.670, total=   2.6s\n",
            "[CV] C=1, class_weight=balanced, gamma=0.25, kernel=linear ...........\n",
            "[CV]  C=1, class_weight=balanced, gamma=0.25, kernel=linear, score=0.686, total=   2.3s\n",
            "[CV] C=1, class_weight=balanced, gamma=0.25, kernel=linear ...........\n",
            "[CV]  C=1, class_weight=balanced, gamma=0.25, kernel=linear, score=0.652, total=   2.3s\n",
            "[CV] C=1, class_weight=balanced, gamma=0.25, kernel=linear ...........\n",
            "[CV]  C=1, class_weight=balanced, gamma=0.25, kernel=linear, score=0.703, total=   2.3s\n",
            "[CV] C=1, class_weight=balanced, gamma=0.3, kernel=rbf ...............\n",
            "[CV]  C=1, class_weight=balanced, gamma=0.3, kernel=rbf, score=0.650, total=   2.6s\n",
            "[CV] C=1, class_weight=balanced, gamma=0.3, kernel=rbf ...............\n",
            "[CV]  C=1, class_weight=balanced, gamma=0.3, kernel=rbf, score=0.604, total=   2.7s\n",
            "[CV] C=1, class_weight=balanced, gamma=0.3, kernel=rbf ...............\n",
            "[CV]  C=1, class_weight=balanced, gamma=0.3, kernel=rbf, score=0.679, total=   2.6s\n",
            "[CV] C=1, class_weight=balanced, gamma=0.3, kernel=linear ............\n",
            "[CV]  C=1, class_weight=balanced, gamma=0.3, kernel=linear, score=0.686, total=   2.3s\n",
            "[CV] C=1, class_weight=balanced, gamma=0.3, kernel=linear ............\n",
            "[CV]  C=1, class_weight=balanced, gamma=0.3, kernel=linear, score=0.652, total=   2.3s\n",
            "[CV] C=1, class_weight=balanced, gamma=0.3, kernel=linear ............\n",
            "[CV]  C=1, class_weight=balanced, gamma=0.3, kernel=linear, score=0.703, total=   2.3s\n",
            "[CV] C=1, class_weight=balanced, gamma=0.35, kernel=rbf ..............\n",
            "[CV]  C=1, class_weight=balanced, gamma=0.35, kernel=rbf, score=0.671, total=   2.5s\n",
            "[CV] C=1, class_weight=balanced, gamma=0.35, kernel=rbf ..............\n",
            "[CV]  C=1, class_weight=balanced, gamma=0.35, kernel=rbf, score=0.607, total=   2.7s\n",
            "[CV] C=1, class_weight=balanced, gamma=0.35, kernel=rbf ..............\n",
            "[CV]  C=1, class_weight=balanced, gamma=0.35, kernel=rbf, score=0.667, total=   2.6s\n",
            "[CV] C=1, class_weight=balanced, gamma=0.35, kernel=linear ...........\n",
            "[CV]  C=1, class_weight=balanced, gamma=0.35, kernel=linear, score=0.686, total=   2.3s\n",
            "[CV] C=1, class_weight=balanced, gamma=0.35, kernel=linear ...........\n",
            "[CV]  C=1, class_weight=balanced, gamma=0.35, kernel=linear, score=0.652, total=   2.3s\n",
            "[CV] C=1, class_weight=balanced, gamma=0.35, kernel=linear ...........\n",
            "[CV]  C=1, class_weight=balanced, gamma=0.35, kernel=linear, score=0.703, total=   2.3s\n",
            "[CV] C=1, class_weight=balanced, gamma=0.4, kernel=rbf ...............\n",
            "[CV]  C=1, class_weight=balanced, gamma=0.4, kernel=rbf, score=0.674, total=   2.5s\n",
            "[CV] C=1, class_weight=balanced, gamma=0.4, kernel=rbf ...............\n",
            "[CV]  C=1, class_weight=balanced, gamma=0.4, kernel=rbf, score=0.616, total=   2.7s\n",
            "[CV] C=1, class_weight=balanced, gamma=0.4, kernel=rbf ...............\n",
            "[CV]  C=1, class_weight=balanced, gamma=0.4, kernel=rbf, score=0.670, total=   2.7s\n",
            "[CV] C=1, class_weight=balanced, gamma=0.4, kernel=linear ............\n",
            "[CV]  C=1, class_weight=balanced, gamma=0.4, kernel=linear, score=0.686, total=   2.3s\n",
            "[CV] C=1, class_weight=balanced, gamma=0.4, kernel=linear ............\n",
            "[CV]  C=1, class_weight=balanced, gamma=0.4, kernel=linear, score=0.652, total=   2.3s\n",
            "[CV] C=1, class_weight=balanced, gamma=0.4, kernel=linear ............\n",
            "[CV]  C=1, class_weight=balanced, gamma=0.4, kernel=linear, score=0.703, total=   2.3s\n",
            "[CV] C=1, class_weight=balanced, gamma=0.45, kernel=rbf ..............\n",
            "[CV]  C=1, class_weight=balanced, gamma=0.45, kernel=rbf, score=0.680, total=   2.6s\n",
            "[CV] C=1, class_weight=balanced, gamma=0.45, kernel=rbf ..............\n",
            "[CV]  C=1, class_weight=balanced, gamma=0.45, kernel=rbf, score=0.619, total=   2.7s\n",
            "[CV] C=1, class_weight=balanced, gamma=0.45, kernel=rbf ..............\n",
            "[CV]  C=1, class_weight=balanced, gamma=0.45, kernel=rbf, score=0.673, total=   2.6s\n",
            "[CV] C=1, class_weight=balanced, gamma=0.45, kernel=linear ...........\n",
            "[CV]  C=1, class_weight=balanced, gamma=0.45, kernel=linear, score=0.686, total=   2.3s\n",
            "[CV] C=1, class_weight=balanced, gamma=0.45, kernel=linear ...........\n",
            "[CV]  C=1, class_weight=balanced, gamma=0.45, kernel=linear, score=0.652, total=   2.3s\n",
            "[CV] C=1, class_weight=balanced, gamma=0.45, kernel=linear ...........\n",
            "[CV]  C=1, class_weight=balanced, gamma=0.45, kernel=linear, score=0.703, total=   2.3s\n",
            "[CV] C=2, class_weight=balanced, gamma=0.1, kernel=rbf ...............\n",
            "[CV]  C=2, class_weight=balanced, gamma=0.1, kernel=rbf, score=0.617, total=   2.5s\n",
            "[CV] C=2, class_weight=balanced, gamma=0.1, kernel=rbf ...............\n",
            "[CV]  C=2, class_weight=balanced, gamma=0.1, kernel=rbf, score=0.604, total=   2.6s\n",
            "[CV] C=2, class_weight=balanced, gamma=0.1, kernel=rbf ...............\n",
            "[CV]  C=2, class_weight=balanced, gamma=0.1, kernel=rbf, score=0.673, total=   2.6s\n",
            "[CV] C=2, class_weight=balanced, gamma=0.1, kernel=linear ............\n",
            "[CV]  C=2, class_weight=balanced, gamma=0.1, kernel=linear, score=0.692, total=   2.2s\n",
            "[CV] C=2, class_weight=balanced, gamma=0.1, kernel=linear ............\n",
            "[CV]  C=2, class_weight=balanced, gamma=0.1, kernel=linear, score=0.658, total=   2.3s\n",
            "[CV] C=2, class_weight=balanced, gamma=0.1, kernel=linear ............\n",
            "[CV]  C=2, class_weight=balanced, gamma=0.1, kernel=linear, score=0.721, total=   2.3s\n",
            "[CV] C=2, class_weight=balanced, gamma=0.15, kernel=rbf ..............\n",
            "[CV]  C=2, class_weight=balanced, gamma=0.15, kernel=rbf, score=0.692, total=   2.5s\n",
            "[CV] C=2, class_weight=balanced, gamma=0.15, kernel=rbf ..............\n",
            "[CV]  C=2, class_weight=balanced, gamma=0.15, kernel=rbf, score=0.625, total=   2.6s\n",
            "[CV] C=2, class_weight=balanced, gamma=0.15, kernel=rbf ..............\n",
            "[CV]  C=2, class_weight=balanced, gamma=0.15, kernel=rbf, score=0.673, total=   2.6s\n",
            "[CV] C=2, class_weight=balanced, gamma=0.15, kernel=linear ...........\n",
            "[CV]  C=2, class_weight=balanced, gamma=0.15, kernel=linear, score=0.692, total=   2.2s\n",
            "[CV] C=2, class_weight=balanced, gamma=0.15, kernel=linear ...........\n",
            "[CV]  C=2, class_weight=balanced, gamma=0.15, kernel=linear, score=0.658, total=   2.3s\n",
            "[CV] C=2, class_weight=balanced, gamma=0.15, kernel=linear ...........\n",
            "[CV]  C=2, class_weight=balanced, gamma=0.15, kernel=linear, score=0.721, total=   2.3s\n",
            "[CV] C=2, class_weight=balanced, gamma=0.2, kernel=rbf ...............\n",
            "[CV]  C=2, class_weight=balanced, gamma=0.2, kernel=rbf, score=0.689, total=   2.5s\n",
            "[CV] C=2, class_weight=balanced, gamma=0.2, kernel=rbf ...............\n",
            "[CV]  C=2, class_weight=balanced, gamma=0.2, kernel=rbf, score=0.640, total=   2.6s\n",
            "[CV] C=2, class_weight=balanced, gamma=0.2, kernel=rbf ...............\n",
            "[CV]  C=2, class_weight=balanced, gamma=0.2, kernel=rbf, score=0.691, total=   2.6s\n",
            "[CV] C=2, class_weight=balanced, gamma=0.2, kernel=linear ............\n",
            "[CV]  C=2, class_weight=balanced, gamma=0.2, kernel=linear, score=0.692, total=   2.2s\n",
            "[CV] C=2, class_weight=balanced, gamma=0.2, kernel=linear ............\n",
            "[CV]  C=2, class_weight=balanced, gamma=0.2, kernel=linear, score=0.658, total=   2.3s\n",
            "[CV] C=2, class_weight=balanced, gamma=0.2, kernel=linear ............\n",
            "[CV]  C=2, class_weight=balanced, gamma=0.2, kernel=linear, score=0.721, total=   2.3s\n",
            "[CV] C=2, class_weight=balanced, gamma=0.25, kernel=rbf ..............\n",
            "[CV]  C=2, class_weight=balanced, gamma=0.25, kernel=rbf, score=0.701, total=   2.5s\n",
            "[CV] C=2, class_weight=balanced, gamma=0.25, kernel=rbf ..............\n",
            "[CV]  C=2, class_weight=balanced, gamma=0.25, kernel=rbf, score=0.643, total=   2.6s\n",
            "[CV] C=2, class_weight=balanced, gamma=0.25, kernel=rbf ..............\n",
            "[CV]  C=2, class_weight=balanced, gamma=0.25, kernel=rbf, score=0.694, total=   2.5s\n",
            "[CV] C=2, class_weight=balanced, gamma=0.25, kernel=linear ...........\n",
            "[CV]  C=2, class_weight=balanced, gamma=0.25, kernel=linear, score=0.692, total=   2.2s\n",
            "[CV] C=2, class_weight=balanced, gamma=0.25, kernel=linear ...........\n",
            "[CV]  C=2, class_weight=balanced, gamma=0.25, kernel=linear, score=0.658, total=   2.3s\n",
            "[CV] C=2, class_weight=balanced, gamma=0.25, kernel=linear ...........\n",
            "[CV]  C=2, class_weight=balanced, gamma=0.25, kernel=linear, score=0.721, total=   2.3s\n",
            "[CV] C=2, class_weight=balanced, gamma=0.3, kernel=rbf ...............\n",
            "[CV]  C=2, class_weight=balanced, gamma=0.3, kernel=rbf, score=0.704, total=   2.5s\n",
            "[CV] C=2, class_weight=balanced, gamma=0.3, kernel=rbf ...............\n",
            "[CV]  C=2, class_weight=balanced, gamma=0.3, kernel=rbf, score=0.640, total=   2.6s\n",
            "[CV] C=2, class_weight=balanced, gamma=0.3, kernel=rbf ...............\n",
            "[CV]  C=2, class_weight=balanced, gamma=0.3, kernel=rbf, score=0.706, total=   2.5s\n",
            "[CV] C=2, class_weight=balanced, gamma=0.3, kernel=linear ............\n",
            "[CV]  C=2, class_weight=balanced, gamma=0.3, kernel=linear, score=0.692, total=   2.2s\n",
            "[CV] C=2, class_weight=balanced, gamma=0.3, kernel=linear ............\n",
            "[CV]  C=2, class_weight=balanced, gamma=0.3, kernel=linear, score=0.658, total=   2.3s\n",
            "[CV] C=2, class_weight=balanced, gamma=0.3, kernel=linear ............\n",
            "[CV]  C=2, class_weight=balanced, gamma=0.3, kernel=linear, score=0.721, total=   2.3s\n",
            "[CV] C=2, class_weight=balanced, gamma=0.35, kernel=rbf ..............\n",
            "[CV]  C=2, class_weight=balanced, gamma=0.35, kernel=rbf, score=0.698, total=   2.5s\n",
            "[CV] C=2, class_weight=balanced, gamma=0.35, kernel=rbf ..............\n",
            "[CV]  C=2, class_weight=balanced, gamma=0.35, kernel=rbf, score=0.634, total=   2.6s\n",
            "[CV] C=2, class_weight=balanced, gamma=0.35, kernel=rbf ..............\n",
            "[CV]  C=2, class_weight=balanced, gamma=0.35, kernel=rbf, score=0.712, total=   2.6s\n",
            "[CV] C=2, class_weight=balanced, gamma=0.35, kernel=linear ...........\n",
            "[CV]  C=2, class_weight=balanced, gamma=0.35, kernel=linear, score=0.692, total=   2.3s\n",
            "[CV] C=2, class_weight=balanced, gamma=0.35, kernel=linear ...........\n",
            "[CV]  C=2, class_weight=balanced, gamma=0.35, kernel=linear, score=0.658, total=   2.3s\n",
            "[CV] C=2, class_weight=balanced, gamma=0.35, kernel=linear ...........\n",
            "[CV]  C=2, class_weight=balanced, gamma=0.35, kernel=linear, score=0.721, total=   2.3s\n",
            "[CV] C=2, class_weight=balanced, gamma=0.4, kernel=rbf ...............\n",
            "[CV]  C=2, class_weight=balanced, gamma=0.4, kernel=rbf, score=0.695, total=   2.5s\n",
            "[CV] C=2, class_weight=balanced, gamma=0.4, kernel=rbf ...............\n",
            "[CV]  C=2, class_weight=balanced, gamma=0.4, kernel=rbf, score=0.643, total=   2.6s\n",
            "[CV] C=2, class_weight=balanced, gamma=0.4, kernel=rbf ...............\n",
            "[CV]  C=2, class_weight=balanced, gamma=0.4, kernel=rbf, score=0.712, total=   2.6s\n",
            "[CV] C=2, class_weight=balanced, gamma=0.4, kernel=linear ............\n",
            "[CV]  C=2, class_weight=balanced, gamma=0.4, kernel=linear, score=0.692, total=   2.3s\n",
            "[CV] C=2, class_weight=balanced, gamma=0.4, kernel=linear ............\n",
            "[CV]  C=2, class_weight=balanced, gamma=0.4, kernel=linear, score=0.658, total=   2.3s\n",
            "[CV] C=2, class_weight=balanced, gamma=0.4, kernel=linear ............\n",
            "[CV]  C=2, class_weight=balanced, gamma=0.4, kernel=linear, score=0.721, total=   2.3s\n",
            "[CV] C=2, class_weight=balanced, gamma=0.45, kernel=rbf ..............\n",
            "[CV]  C=2, class_weight=balanced, gamma=0.45, kernel=rbf, score=0.686, total=   2.5s\n",
            "[CV] C=2, class_weight=balanced, gamma=0.45, kernel=rbf ..............\n",
            "[CV]  C=2, class_weight=balanced, gamma=0.45, kernel=rbf, score=0.637, total=   2.6s\n",
            "[CV] C=2, class_weight=balanced, gamma=0.45, kernel=rbf ..............\n",
            "[CV]  C=2, class_weight=balanced, gamma=0.45, kernel=rbf, score=0.712, total=   2.6s\n",
            "[CV] C=2, class_weight=balanced, gamma=0.45, kernel=linear ...........\n",
            "[CV]  C=2, class_weight=balanced, gamma=0.45, kernel=linear, score=0.692, total=   2.3s\n",
            "[CV] C=2, class_weight=balanced, gamma=0.45, kernel=linear ...........\n",
            "[CV]  C=2, class_weight=balanced, gamma=0.45, kernel=linear, score=0.658, total=   2.3s\n",
            "[CV] C=2, class_weight=balanced, gamma=0.45, kernel=linear ...........\n",
            "[CV]  C=2, class_weight=balanced, gamma=0.45, kernel=linear, score=0.721, total=   2.3s\n",
            "[CV] C=3, class_weight=balanced, gamma=0.1, kernel=rbf ...............\n",
            "[CV]  C=3, class_weight=balanced, gamma=0.1, kernel=rbf, score=0.689, total=   2.5s\n",
            "[CV] C=3, class_weight=balanced, gamma=0.1, kernel=rbf ...............\n",
            "[CV]  C=3, class_weight=balanced, gamma=0.1, kernel=rbf, score=0.622, total=   2.5s\n",
            "[CV] C=3, class_weight=balanced, gamma=0.1, kernel=rbf ...............\n",
            "[CV]  C=3, class_weight=balanced, gamma=0.1, kernel=rbf, score=0.691, total=   2.5s\n",
            "[CV] C=3, class_weight=balanced, gamma=0.1, kernel=linear ............\n",
            "[CV]  C=3, class_weight=balanced, gamma=0.1, kernel=linear, score=0.683, total=   2.3s\n",
            "[CV] C=3, class_weight=balanced, gamma=0.1, kernel=linear ............\n",
            "[CV]  C=3, class_weight=balanced, gamma=0.1, kernel=linear, score=0.643, total=   2.3s\n",
            "[CV] C=3, class_weight=balanced, gamma=0.1, kernel=linear ............\n",
            "[CV]  C=3, class_weight=balanced, gamma=0.1, kernel=linear, score=0.712, total=   2.3s\n",
            "[CV] C=3, class_weight=balanced, gamma=0.15, kernel=rbf ..............\n",
            "[CV]  C=3, class_weight=balanced, gamma=0.15, kernel=rbf, score=0.698, total=   2.4s\n",
            "[CV] C=3, class_weight=balanced, gamma=0.15, kernel=rbf ..............\n",
            "[CV]  C=3, class_weight=balanced, gamma=0.15, kernel=rbf, score=0.643, total=   2.5s\n",
            "[CV] C=3, class_weight=balanced, gamma=0.15, kernel=rbf ..............\n",
            "[CV]  C=3, class_weight=balanced, gamma=0.15, kernel=rbf, score=0.706, total=   2.5s\n",
            "[CV] C=3, class_weight=balanced, gamma=0.15, kernel=linear ...........\n",
            "[CV]  C=3, class_weight=balanced, gamma=0.15, kernel=linear, score=0.683, total=   2.3s\n",
            "[CV] C=3, class_weight=balanced, gamma=0.15, kernel=linear ...........\n",
            "[CV]  C=3, class_weight=balanced, gamma=0.15, kernel=linear, score=0.643, total=   2.3s\n",
            "[CV] C=3, class_weight=balanced, gamma=0.15, kernel=linear ...........\n",
            "[CV]  C=3, class_weight=balanced, gamma=0.15, kernel=linear, score=0.712, total=   2.3s\n",
            "[CV] C=3, class_weight=balanced, gamma=0.2, kernel=rbf ...............\n",
            "[CV]  C=3, class_weight=balanced, gamma=0.2, kernel=rbf, score=0.701, total=   2.4s\n",
            "[CV] C=3, class_weight=balanced, gamma=0.2, kernel=rbf ...............\n",
            "[CV]  C=3, class_weight=balanced, gamma=0.2, kernel=rbf, score=0.640, total=   2.5s\n",
            "[CV] C=3, class_weight=balanced, gamma=0.2, kernel=rbf ...............\n",
            "[CV]  C=3, class_weight=balanced, gamma=0.2, kernel=rbf, score=0.706, total=   2.5s\n",
            "[CV] C=3, class_weight=balanced, gamma=0.2, kernel=linear ............\n",
            "[CV]  C=3, class_weight=balanced, gamma=0.2, kernel=linear, score=0.683, total=   2.3s\n",
            "[CV] C=3, class_weight=balanced, gamma=0.2, kernel=linear ............\n",
            "[CV]  C=3, class_weight=balanced, gamma=0.2, kernel=linear, score=0.643, total=   2.3s\n",
            "[CV] C=3, class_weight=balanced, gamma=0.2, kernel=linear ............\n",
            "[CV]  C=3, class_weight=balanced, gamma=0.2, kernel=linear, score=0.712, total=   2.3s\n",
            "[CV] C=3, class_weight=balanced, gamma=0.25, kernel=rbf ..............\n",
            "[CV]  C=3, class_weight=balanced, gamma=0.25, kernel=rbf, score=0.698, total=   2.5s\n",
            "[CV] C=3, class_weight=balanced, gamma=0.25, kernel=rbf ..............\n",
            "[CV]  C=3, class_weight=balanced, gamma=0.25, kernel=rbf, score=0.634, total=   2.5s\n",
            "[CV] C=3, class_weight=balanced, gamma=0.25, kernel=rbf ..............\n",
            "[CV]  C=3, class_weight=balanced, gamma=0.25, kernel=rbf, score=0.709, total=   2.5s\n",
            "[CV] C=3, class_weight=balanced, gamma=0.25, kernel=linear ...........\n",
            "[CV]  C=3, class_weight=balanced, gamma=0.25, kernel=linear, score=0.683, total=   2.3s\n",
            "[CV] C=3, class_weight=balanced, gamma=0.25, kernel=linear ...........\n",
            "[CV]  C=3, class_weight=balanced, gamma=0.25, kernel=linear, score=0.643, total=   2.3s\n",
            "[CV] C=3, class_weight=balanced, gamma=0.25, kernel=linear ...........\n",
            "[CV]  C=3, class_weight=balanced, gamma=0.25, kernel=linear, score=0.712, total=   2.3s\n",
            "[CV] C=3, class_weight=balanced, gamma=0.3, kernel=rbf ...............\n",
            "[CV]  C=3, class_weight=balanced, gamma=0.3, kernel=rbf, score=0.680, total=   2.5s\n",
            "[CV] C=3, class_weight=balanced, gamma=0.3, kernel=rbf ...............\n",
            "[CV]  C=3, class_weight=balanced, gamma=0.3, kernel=rbf, score=0.640, total=   2.6s\n",
            "[CV] C=3, class_weight=balanced, gamma=0.3, kernel=rbf ...............\n",
            "[CV]  C=3, class_weight=balanced, gamma=0.3, kernel=rbf, score=0.709, total=   2.5s\n",
            "[CV] C=3, class_weight=balanced, gamma=0.3, kernel=linear ............\n",
            "[CV]  C=3, class_weight=balanced, gamma=0.3, kernel=linear, score=0.683, total=   2.3s\n",
            "[CV] C=3, class_weight=balanced, gamma=0.3, kernel=linear ............\n",
            "[CV]  C=3, class_weight=balanced, gamma=0.3, kernel=linear, score=0.643, total=   2.3s\n",
            "[CV] C=3, class_weight=balanced, gamma=0.3, kernel=linear ............\n",
            "[CV]  C=3, class_weight=balanced, gamma=0.3, kernel=linear, score=0.712, total=   2.3s\n",
            "[CV] C=3, class_weight=balanced, gamma=0.35, kernel=rbf ..............\n",
            "[CV]  C=3, class_weight=balanced, gamma=0.35, kernel=rbf, score=0.686, total=   2.5s\n",
            "[CV] C=3, class_weight=balanced, gamma=0.35, kernel=rbf ..............\n",
            "[CV]  C=3, class_weight=balanced, gamma=0.35, kernel=rbf, score=0.643, total=   2.6s\n",
            "[CV] C=3, class_weight=balanced, gamma=0.35, kernel=rbf ..............\n",
            "[CV]  C=3, class_weight=balanced, gamma=0.35, kernel=rbf, score=0.709, total=   2.6s\n",
            "[CV] C=3, class_weight=balanced, gamma=0.35, kernel=linear ...........\n",
            "[CV]  C=3, class_weight=balanced, gamma=0.35, kernel=linear, score=0.683, total=   2.3s\n",
            "[CV] C=3, class_weight=balanced, gamma=0.35, kernel=linear ...........\n",
            "[CV]  C=3, class_weight=balanced, gamma=0.35, kernel=linear, score=0.643, total=   2.3s\n",
            "[CV] C=3, class_weight=balanced, gamma=0.35, kernel=linear ...........\n",
            "[CV]  C=3, class_weight=balanced, gamma=0.35, kernel=linear, score=0.712, total=   2.3s\n",
            "[CV] C=3, class_weight=balanced, gamma=0.4, kernel=rbf ...............\n",
            "[CV]  C=3, class_weight=balanced, gamma=0.4, kernel=rbf, score=0.686, total=   2.6s\n",
            "[CV] C=3, class_weight=balanced, gamma=0.4, kernel=rbf ...............\n",
            "[CV]  C=3, class_weight=balanced, gamma=0.4, kernel=rbf, score=0.652, total=   2.6s\n",
            "[CV] C=3, class_weight=balanced, gamma=0.4, kernel=rbf ...............\n",
            "[CV]  C=3, class_weight=balanced, gamma=0.4, kernel=rbf, score=0.712, total=   2.6s\n",
            "[CV] C=3, class_weight=balanced, gamma=0.4, kernel=linear ............\n",
            "[CV]  C=3, class_weight=balanced, gamma=0.4, kernel=linear, score=0.683, total=   2.3s\n",
            "[CV] C=3, class_weight=balanced, gamma=0.4, kernel=linear ............\n",
            "[CV]  C=3, class_weight=balanced, gamma=0.4, kernel=linear, score=0.643, total=   2.3s\n",
            "[CV] C=3, class_weight=balanced, gamma=0.4, kernel=linear ............\n",
            "[CV]  C=3, class_weight=balanced, gamma=0.4, kernel=linear, score=0.712, total=   2.3s\n",
            "[CV] C=3, class_weight=balanced, gamma=0.45, kernel=rbf ..............\n",
            "[CV]  C=3, class_weight=balanced, gamma=0.45, kernel=rbf, score=0.683, total=   2.5s\n",
            "[CV] C=3, class_weight=balanced, gamma=0.45, kernel=rbf ..............\n",
            "[CV]  C=3, class_weight=balanced, gamma=0.45, kernel=rbf, score=0.652, total=   2.6s\n",
            "[CV] C=3, class_weight=balanced, gamma=0.45, kernel=rbf ..............\n",
            "[CV]  C=3, class_weight=balanced, gamma=0.45, kernel=rbf, score=0.715, total=   2.6s\n",
            "[CV] C=3, class_weight=balanced, gamma=0.45, kernel=linear ...........\n",
            "[CV]  C=3, class_weight=balanced, gamma=0.45, kernel=linear, score=0.683, total=   2.3s\n",
            "[CV] C=3, class_weight=balanced, gamma=0.45, kernel=linear ...........\n",
            "[CV]  C=3, class_weight=balanced, gamma=0.45, kernel=linear, score=0.643, total=   2.3s\n",
            "[CV] C=3, class_weight=balanced, gamma=0.45, kernel=linear ...........\n",
            "[CV]  C=3, class_weight=balanced, gamma=0.45, kernel=linear, score=0.712, total=   2.3s\n",
            "[CV] C=4, class_weight=balanced, gamma=0.1, kernel=rbf ...............\n",
            "[CV]  C=4, class_weight=balanced, gamma=0.1, kernel=rbf, score=0.701, total=   2.4s\n",
            "[CV] C=4, class_weight=balanced, gamma=0.1, kernel=rbf ...............\n",
            "[CV]  C=4, class_weight=balanced, gamma=0.1, kernel=rbf, score=0.652, total=   2.5s\n",
            "[CV] C=4, class_weight=balanced, gamma=0.1, kernel=rbf ...............\n",
            "[CV]  C=4, class_weight=balanced, gamma=0.1, kernel=rbf, score=0.700, total=   2.4s\n",
            "[CV] C=4, class_weight=balanced, gamma=0.1, kernel=linear ............\n",
            "[CV]  C=4, class_weight=balanced, gamma=0.1, kernel=linear, score=0.683, total=   2.3s\n",
            "[CV] C=4, class_weight=balanced, gamma=0.1, kernel=linear ............\n",
            "[CV]  C=4, class_weight=balanced, gamma=0.1, kernel=linear, score=0.634, total=   2.3s\n",
            "[CV] C=4, class_weight=balanced, gamma=0.1, kernel=linear ............\n",
            "[CV]  C=4, class_weight=balanced, gamma=0.1, kernel=linear, score=0.700, total=   2.3s\n",
            "[CV] C=4, class_weight=balanced, gamma=0.15, kernel=rbf ..............\n",
            "[CV]  C=4, class_weight=balanced, gamma=0.15, kernel=rbf, score=0.698, total=   2.4s\n",
            "[CV] C=4, class_weight=balanced, gamma=0.15, kernel=rbf ..............\n",
            "[CV]  C=4, class_weight=balanced, gamma=0.15, kernel=rbf, score=0.643, total=   2.4s\n",
            "[CV] C=4, class_weight=balanced, gamma=0.15, kernel=rbf ..............\n",
            "[CV]  C=4, class_weight=balanced, gamma=0.15, kernel=rbf, score=0.706, total=   2.5s\n",
            "[CV] C=4, class_weight=balanced, gamma=0.15, kernel=linear ...........\n",
            "[CV]  C=4, class_weight=balanced, gamma=0.15, kernel=linear, score=0.683, total=   2.3s\n",
            "[CV] C=4, class_weight=balanced, gamma=0.15, kernel=linear ...........\n",
            "[CV]  C=4, class_weight=balanced, gamma=0.15, kernel=linear, score=0.634, total=   2.3s\n",
            "[CV] C=4, class_weight=balanced, gamma=0.15, kernel=linear ...........\n",
            "[CV]  C=4, class_weight=balanced, gamma=0.15, kernel=linear, score=0.700, total=   2.3s\n",
            "[CV] C=4, class_weight=balanced, gamma=0.2, kernel=rbf ...............\n",
            "[CV]  C=4, class_weight=balanced, gamma=0.2, kernel=rbf, score=0.689, total=   2.5s\n",
            "[CV] C=4, class_weight=balanced, gamma=0.2, kernel=rbf ...............\n",
            "[CV]  C=4, class_weight=balanced, gamma=0.2, kernel=rbf, score=0.649, total=   2.5s\n",
            "[CV] C=4, class_weight=balanced, gamma=0.2, kernel=rbf ...............\n",
            "[CV]  C=4, class_weight=balanced, gamma=0.2, kernel=rbf, score=0.718, total=   2.5s\n",
            "[CV] C=4, class_weight=balanced, gamma=0.2, kernel=linear ............\n",
            "[CV]  C=4, class_weight=balanced, gamma=0.2, kernel=linear, score=0.683, total=   2.3s\n",
            "[CV] C=4, class_weight=balanced, gamma=0.2, kernel=linear ............\n",
            "[CV]  C=4, class_weight=balanced, gamma=0.2, kernel=linear, score=0.634, total=   2.3s\n",
            "[CV] C=4, class_weight=balanced, gamma=0.2, kernel=linear ............\n",
            "[CV]  C=4, class_weight=balanced, gamma=0.2, kernel=linear, score=0.700, total=   2.3s\n",
            "[CV] C=4, class_weight=balanced, gamma=0.25, kernel=rbf ..............\n",
            "[CV]  C=4, class_weight=balanced, gamma=0.25, kernel=rbf, score=0.689, total=   2.5s\n",
            "[CV] C=4, class_weight=balanced, gamma=0.25, kernel=rbf ..............\n",
            "[CV]  C=4, class_weight=balanced, gamma=0.25, kernel=rbf, score=0.652, total=   2.5s\n",
            "[CV] C=4, class_weight=balanced, gamma=0.25, kernel=rbf ..............\n",
            "[CV]  C=4, class_weight=balanced, gamma=0.25, kernel=rbf, score=0.715, total=   2.5s\n",
            "[CV] C=4, class_weight=balanced, gamma=0.25, kernel=linear ...........\n",
            "[CV]  C=4, class_weight=balanced, gamma=0.25, kernel=linear, score=0.683, total=   2.3s\n",
            "[CV] C=4, class_weight=balanced, gamma=0.25, kernel=linear ...........\n",
            "[CV]  C=4, class_weight=balanced, gamma=0.25, kernel=linear, score=0.634, total=   2.3s\n",
            "[CV] C=4, class_weight=balanced, gamma=0.25, kernel=linear ...........\n",
            "[CV]  C=4, class_weight=balanced, gamma=0.25, kernel=linear, score=0.700, total=   2.3s\n",
            "[CV] C=4, class_weight=balanced, gamma=0.3, kernel=rbf ...............\n",
            "[CV]  C=4, class_weight=balanced, gamma=0.3, kernel=rbf, score=0.692, total=   2.5s\n",
            "[CV] C=4, class_weight=balanced, gamma=0.3, kernel=rbf ...............\n",
            "[CV]  C=4, class_weight=balanced, gamma=0.3, kernel=rbf, score=0.658, total=   2.6s\n",
            "[CV] C=4, class_weight=balanced, gamma=0.3, kernel=rbf ...............\n",
            "[CV]  C=4, class_weight=balanced, gamma=0.3, kernel=rbf, score=0.715, total=   2.6s\n",
            "[CV] C=4, class_weight=balanced, gamma=0.3, kernel=linear ............\n",
            "[CV]  C=4, class_weight=balanced, gamma=0.3, kernel=linear, score=0.683, total=   2.3s\n",
            "[CV] C=4, class_weight=balanced, gamma=0.3, kernel=linear ............\n",
            "[CV]  C=4, class_weight=balanced, gamma=0.3, kernel=linear, score=0.634, total=   2.3s\n",
            "[CV] C=4, class_weight=balanced, gamma=0.3, kernel=linear ............\n",
            "[CV]  C=4, class_weight=balanced, gamma=0.3, kernel=linear, score=0.700, total=   2.3s\n",
            "[CV] C=4, class_weight=balanced, gamma=0.35, kernel=rbf ..............\n",
            "[CV]  C=4, class_weight=balanced, gamma=0.35, kernel=rbf, score=0.683, total=   2.5s\n",
            "[CV] C=4, class_weight=balanced, gamma=0.35, kernel=rbf ..............\n",
            "[CV]  C=4, class_weight=balanced, gamma=0.35, kernel=rbf, score=0.652, total=   2.6s\n",
            "[CV] C=4, class_weight=balanced, gamma=0.35, kernel=rbf ..............\n",
            "[CV]  C=4, class_weight=balanced, gamma=0.35, kernel=rbf, score=0.721, total=   2.6s\n",
            "[CV] C=4, class_weight=balanced, gamma=0.35, kernel=linear ...........\n",
            "[CV]  C=4, class_weight=balanced, gamma=0.35, kernel=linear, score=0.683, total=   2.3s\n",
            "[CV] C=4, class_weight=balanced, gamma=0.35, kernel=linear ...........\n",
            "[CV]  C=4, class_weight=balanced, gamma=0.35, kernel=linear, score=0.634, total=   2.3s\n",
            "[CV] C=4, class_weight=balanced, gamma=0.35, kernel=linear ...........\n",
            "[CV]  C=4, class_weight=balanced, gamma=0.35, kernel=linear, score=0.700, total=   2.3s\n",
            "[CV] C=4, class_weight=balanced, gamma=0.4, kernel=rbf ...............\n",
            "[CV]  C=4, class_weight=balanced, gamma=0.4, kernel=rbf, score=0.680, total=   2.5s\n",
            "[CV] C=4, class_weight=balanced, gamma=0.4, kernel=rbf ...............\n",
            "[CV]  C=4, class_weight=balanced, gamma=0.4, kernel=rbf, score=0.652, total=   2.6s\n",
            "[CV] C=4, class_weight=balanced, gamma=0.4, kernel=rbf ...............\n",
            "[CV]  C=4, class_weight=balanced, gamma=0.4, kernel=rbf, score=0.712, total=   2.6s\n",
            "[CV] C=4, class_weight=balanced, gamma=0.4, kernel=linear ............\n",
            "[CV]  C=4, class_weight=balanced, gamma=0.4, kernel=linear, score=0.683, total=   2.3s\n",
            "[CV] C=4, class_weight=balanced, gamma=0.4, kernel=linear ............\n",
            "[CV]  C=4, class_weight=balanced, gamma=0.4, kernel=linear, score=0.634, total=   2.3s\n",
            "[CV] C=4, class_weight=balanced, gamma=0.4, kernel=linear ............\n",
            "[CV]  C=4, class_weight=balanced, gamma=0.4, kernel=linear, score=0.700, total=   2.3s\n",
            "[CV] C=4, class_weight=balanced, gamma=0.45, kernel=rbf ..............\n",
            "[CV]  C=4, class_weight=balanced, gamma=0.45, kernel=rbf, score=0.692, total=   2.6s\n",
            "[CV] C=4, class_weight=balanced, gamma=0.45, kernel=rbf ..............\n",
            "[CV]  C=4, class_weight=balanced, gamma=0.45, kernel=rbf, score=0.649, total=   2.6s\n",
            "[CV] C=4, class_weight=balanced, gamma=0.45, kernel=rbf ..............\n",
            "[CV]  C=4, class_weight=balanced, gamma=0.45, kernel=rbf, score=0.709, total=   2.6s\n",
            "[CV] C=4, class_weight=balanced, gamma=0.45, kernel=linear ...........\n",
            "[CV]  C=4, class_weight=balanced, gamma=0.45, kernel=linear, score=0.683, total=   2.3s\n",
            "[CV] C=4, class_weight=balanced, gamma=0.45, kernel=linear ...........\n",
            "[CV]  C=4, class_weight=balanced, gamma=0.45, kernel=linear, score=0.634, total=   2.3s\n",
            "[CV] C=4, class_weight=balanced, gamma=0.45, kernel=linear ...........\n",
            "[CV]  C=4, class_weight=balanced, gamma=0.45, kernel=linear, score=0.700, total=   2.3s\n",
            "[CV] C=5, class_weight=balanced, gamma=0.1, kernel=rbf ...............\n",
            "[CV]  C=5, class_weight=balanced, gamma=0.1, kernel=rbf, score=0.698, total=   2.4s\n",
            "[CV] C=5, class_weight=balanced, gamma=0.1, kernel=rbf ...............\n",
            "[CV]  C=5, class_weight=balanced, gamma=0.1, kernel=rbf, score=0.643, total=   2.4s\n",
            "[CV] C=5, class_weight=balanced, gamma=0.1, kernel=rbf ...............\n",
            "[CV]  C=5, class_weight=balanced, gamma=0.1, kernel=rbf, score=0.703, total=   2.4s\n",
            "[CV] C=5, class_weight=balanced, gamma=0.1, kernel=linear ............\n",
            "[CV]  C=5, class_weight=balanced, gamma=0.1, kernel=linear, score=0.680, total=   2.3s\n",
            "[CV] C=5, class_weight=balanced, gamma=0.1, kernel=linear ............\n",
            "[CV]  C=5, class_weight=balanced, gamma=0.1, kernel=linear, score=0.634, total=   2.3s\n",
            "[CV] C=5, class_weight=balanced, gamma=0.1, kernel=linear ............\n",
            "[CV]  C=5, class_weight=balanced, gamma=0.1, kernel=linear, score=0.697, total=   2.3s\n",
            "[CV] C=5, class_weight=balanced, gamma=0.15, kernel=rbf ..............\n",
            "[CV]  C=5, class_weight=balanced, gamma=0.15, kernel=rbf, score=0.689, total=   2.4s\n",
            "[CV] C=5, class_weight=balanced, gamma=0.15, kernel=rbf ..............\n",
            "[CV]  C=5, class_weight=balanced, gamma=0.15, kernel=rbf, score=0.652, total=   2.4s\n",
            "[CV] C=5, class_weight=balanced, gamma=0.15, kernel=rbf ..............\n",
            "[CV]  C=5, class_weight=balanced, gamma=0.15, kernel=rbf, score=0.715, total=   2.4s\n",
            "[CV] C=5, class_weight=balanced, gamma=0.15, kernel=linear ...........\n",
            "[CV]  C=5, class_weight=balanced, gamma=0.15, kernel=linear, score=0.680, total=   2.3s\n",
            "[CV] C=5, class_weight=balanced, gamma=0.15, kernel=linear ...........\n",
            "[CV]  C=5, class_weight=balanced, gamma=0.15, kernel=linear, score=0.634, total=   2.3s\n",
            "[CV] C=5, class_weight=balanced, gamma=0.15, kernel=linear ...........\n",
            "[CV]  C=5, class_weight=balanced, gamma=0.15, kernel=linear, score=0.697, total=   2.3s\n",
            "[CV] C=5, class_weight=balanced, gamma=0.2, kernel=rbf ...............\n",
            "[CV]  C=5, class_weight=balanced, gamma=0.2, kernel=rbf, score=0.680, total=   2.5s\n",
            "[CV] C=5, class_weight=balanced, gamma=0.2, kernel=rbf ...............\n",
            "[CV]  C=5, class_weight=balanced, gamma=0.2, kernel=rbf, score=0.661, total=   2.5s\n",
            "[CV] C=5, class_weight=balanced, gamma=0.2, kernel=rbf ...............\n",
            "[CV]  C=5, class_weight=balanced, gamma=0.2, kernel=rbf, score=0.709, total=   2.5s\n",
            "[CV] C=5, class_weight=balanced, gamma=0.2, kernel=linear ............\n",
            "[CV]  C=5, class_weight=balanced, gamma=0.2, kernel=linear, score=0.680, total=   2.3s\n",
            "[CV] C=5, class_weight=balanced, gamma=0.2, kernel=linear ............\n",
            "[CV]  C=5, class_weight=balanced, gamma=0.2, kernel=linear, score=0.634, total=   2.3s\n",
            "[CV] C=5, class_weight=balanced, gamma=0.2, kernel=linear ............\n",
            "[CV]  C=5, class_weight=balanced, gamma=0.2, kernel=linear, score=0.697, total=   2.3s\n",
            "[CV] C=5, class_weight=balanced, gamma=0.25, kernel=rbf ..............\n",
            "[CV]  C=5, class_weight=balanced, gamma=0.25, kernel=rbf, score=0.692, total=   2.5s\n",
            "[CV] C=5, class_weight=balanced, gamma=0.25, kernel=rbf ..............\n",
            "[CV]  C=5, class_weight=balanced, gamma=0.25, kernel=rbf, score=0.661, total=   2.5s\n",
            "[CV] C=5, class_weight=balanced, gamma=0.25, kernel=rbf ..............\n",
            "[CV]  C=5, class_weight=balanced, gamma=0.25, kernel=rbf, score=0.724, total=   2.5s\n",
            "[CV] C=5, class_weight=balanced, gamma=0.25, kernel=linear ...........\n",
            "[CV]  C=5, class_weight=balanced, gamma=0.25, kernel=linear, score=0.680, total=   2.3s\n",
            "[CV] C=5, class_weight=balanced, gamma=0.25, kernel=linear ...........\n",
            "[CV]  C=5, class_weight=balanced, gamma=0.25, kernel=linear, score=0.634, total=   2.3s\n",
            "[CV] C=5, class_weight=balanced, gamma=0.25, kernel=linear ...........\n",
            "[CV]  C=5, class_weight=balanced, gamma=0.25, kernel=linear, score=0.697, total=   2.3s\n",
            "[CV] C=5, class_weight=balanced, gamma=0.3, kernel=rbf ...............\n",
            "[CV]  C=5, class_weight=balanced, gamma=0.3, kernel=rbf, score=0.689, total=   2.5s\n",
            "[CV] C=5, class_weight=balanced, gamma=0.3, kernel=rbf ...............\n",
            "[CV]  C=5, class_weight=balanced, gamma=0.3, kernel=rbf, score=0.655, total=   2.6s\n",
            "[CV] C=5, class_weight=balanced, gamma=0.3, kernel=rbf ...............\n",
            "[CV]  C=5, class_weight=balanced, gamma=0.3, kernel=rbf, score=0.721, total=   2.5s\n",
            "[CV] C=5, class_weight=balanced, gamma=0.3, kernel=linear ............\n",
            "[CV]  C=5, class_weight=balanced, gamma=0.3, kernel=linear, score=0.680, total=   2.3s\n",
            "[CV] C=5, class_weight=balanced, gamma=0.3, kernel=linear ............\n",
            "[CV]  C=5, class_weight=balanced, gamma=0.3, kernel=linear, score=0.634, total=   2.3s\n",
            "[CV] C=5, class_weight=balanced, gamma=0.3, kernel=linear ............\n",
            "[CV]  C=5, class_weight=balanced, gamma=0.3, kernel=linear, score=0.697, total=   2.3s\n",
            "[CV] C=5, class_weight=balanced, gamma=0.35, kernel=rbf ..............\n",
            "[CV]  C=5, class_weight=balanced, gamma=0.35, kernel=rbf, score=0.680, total=   2.5s\n",
            "[CV] C=5, class_weight=balanced, gamma=0.35, kernel=rbf ..............\n",
            "[CV]  C=5, class_weight=balanced, gamma=0.35, kernel=rbf, score=0.655, total=   2.6s\n",
            "[CV] C=5, class_weight=balanced, gamma=0.35, kernel=rbf ..............\n",
            "[CV]  C=5, class_weight=balanced, gamma=0.35, kernel=rbf, score=0.715, total=   2.6s\n",
            "[CV] C=5, class_weight=balanced, gamma=0.35, kernel=linear ...........\n",
            "[CV]  C=5, class_weight=balanced, gamma=0.35, kernel=linear, score=0.680, total=   2.3s\n",
            "[CV] C=5, class_weight=balanced, gamma=0.35, kernel=linear ...........\n",
            "[CV]  C=5, class_weight=balanced, gamma=0.35, kernel=linear, score=0.634, total=   2.3s\n",
            "[CV] C=5, class_weight=balanced, gamma=0.35, kernel=linear ...........\n",
            "[CV]  C=5, class_weight=balanced, gamma=0.35, kernel=linear, score=0.697, total=   2.3s\n",
            "[CV] C=5, class_weight=balanced, gamma=0.4, kernel=rbf ...............\n",
            "[CV]  C=5, class_weight=balanced, gamma=0.4, kernel=rbf, score=0.686, total=   2.5s\n",
            "[CV] C=5, class_weight=balanced, gamma=0.4, kernel=rbf ...............\n",
            "[CV]  C=5, class_weight=balanced, gamma=0.4, kernel=rbf, score=0.652, total=   2.6s\n",
            "[CV] C=5, class_weight=balanced, gamma=0.4, kernel=rbf ...............\n",
            "[CV]  C=5, class_weight=balanced, gamma=0.4, kernel=rbf, score=0.715, total=   2.6s\n",
            "[CV] C=5, class_weight=balanced, gamma=0.4, kernel=linear ............\n",
            "[CV]  C=5, class_weight=balanced, gamma=0.4, kernel=linear, score=0.680, total=   2.3s\n",
            "[CV] C=5, class_weight=balanced, gamma=0.4, kernel=linear ............\n",
            "[CV]  C=5, class_weight=balanced, gamma=0.4, kernel=linear, score=0.634, total=   2.3s\n",
            "[CV] C=5, class_weight=balanced, gamma=0.4, kernel=linear ............\n",
            "[CV]  C=5, class_weight=balanced, gamma=0.4, kernel=linear, score=0.697, total=   2.3s\n",
            "[CV] C=5, class_weight=balanced, gamma=0.45, kernel=rbf ..............\n",
            "[CV]  C=5, class_weight=balanced, gamma=0.45, kernel=rbf, score=0.698, total=   2.5s\n",
            "[CV] C=5, class_weight=balanced, gamma=0.45, kernel=rbf ..............\n",
            "[CV]  C=5, class_weight=balanced, gamma=0.45, kernel=rbf, score=0.652, total=   2.7s\n",
            "[CV] C=5, class_weight=balanced, gamma=0.45, kernel=rbf ..............\n",
            "[CV]  C=5, class_weight=balanced, gamma=0.45, kernel=rbf, score=0.706, total=   2.7s\n",
            "[CV] C=5, class_weight=balanced, gamma=0.45, kernel=linear ...........\n",
            "[CV]  C=5, class_weight=balanced, gamma=0.45, kernel=linear, score=0.680, total=   2.3s\n",
            "[CV] C=5, class_weight=balanced, gamma=0.45, kernel=linear ...........\n",
            "[CV]  C=5, class_weight=balanced, gamma=0.45, kernel=linear, score=0.634, total=   2.3s\n",
            "[CV] C=5, class_weight=balanced, gamma=0.45, kernel=linear ...........\n",
            "[CV]  C=5, class_weight=balanced, gamma=0.45, kernel=linear, score=0.697, total=   2.3s\n",
            "[CV] C=6, class_weight=balanced, gamma=0.1, kernel=rbf ...............\n",
            "[CV]  C=6, class_weight=balanced, gamma=0.1, kernel=rbf, score=0.698, total=   2.4s\n",
            "[CV] C=6, class_weight=balanced, gamma=0.1, kernel=rbf ...............\n",
            "[CV]  C=6, class_weight=balanced, gamma=0.1, kernel=rbf, score=0.652, total=   2.4s\n",
            "[CV] C=6, class_weight=balanced, gamma=0.1, kernel=rbf ...............\n",
            "[CV]  C=6, class_weight=balanced, gamma=0.1, kernel=rbf, score=0.709, total=   2.4s\n",
            "[CV] C=6, class_weight=balanced, gamma=0.1, kernel=linear ............\n",
            "[CV]  C=6, class_weight=balanced, gamma=0.1, kernel=linear, score=0.674, total=   2.3s\n",
            "[CV] C=6, class_weight=balanced, gamma=0.1, kernel=linear ............\n",
            "[CV]  C=6, class_weight=balanced, gamma=0.1, kernel=linear, score=0.634, total=   2.3s\n",
            "[CV] C=6, class_weight=balanced, gamma=0.1, kernel=linear ............\n",
            "[CV]  C=6, class_weight=balanced, gamma=0.1, kernel=linear, score=0.697, total=   2.3s\n",
            "[CV] C=6, class_weight=balanced, gamma=0.15, kernel=rbf ..............\n",
            "[CV]  C=6, class_weight=balanced, gamma=0.15, kernel=rbf, score=0.686, total=   2.4s\n",
            "[CV] C=6, class_weight=balanced, gamma=0.15, kernel=rbf ..............\n",
            "[CV]  C=6, class_weight=balanced, gamma=0.15, kernel=rbf, score=0.655, total=   2.5s\n",
            "[CV] C=6, class_weight=balanced, gamma=0.15, kernel=rbf ..............\n",
            "[CV]  C=6, class_weight=balanced, gamma=0.15, kernel=rbf, score=0.712, total=   2.5s\n",
            "[CV] C=6, class_weight=balanced, gamma=0.15, kernel=linear ...........\n",
            "[CV]  C=6, class_weight=balanced, gamma=0.15, kernel=linear, score=0.674, total=   2.3s\n",
            "[CV] C=6, class_weight=balanced, gamma=0.15, kernel=linear ...........\n",
            "[CV]  C=6, class_weight=balanced, gamma=0.15, kernel=linear, score=0.634, total=   2.3s\n",
            "[CV] C=6, class_weight=balanced, gamma=0.15, kernel=linear ...........\n",
            "[CV]  C=6, class_weight=balanced, gamma=0.15, kernel=linear, score=0.697, total=   2.3s\n",
            "[CV] C=6, class_weight=balanced, gamma=0.2, kernel=rbf ...............\n",
            "[CV]  C=6, class_weight=balanced, gamma=0.2, kernel=rbf, score=0.689, total=   2.4s\n",
            "[CV] C=6, class_weight=balanced, gamma=0.2, kernel=rbf ...............\n",
            "[CV]  C=6, class_weight=balanced, gamma=0.2, kernel=rbf, score=0.664, total=   2.5s\n",
            "[CV] C=6, class_weight=balanced, gamma=0.2, kernel=rbf ...............\n",
            "[CV]  C=6, class_weight=balanced, gamma=0.2, kernel=rbf, score=0.715, total=   2.5s\n",
            "[CV] C=6, class_weight=balanced, gamma=0.2, kernel=linear ............\n",
            "[CV]  C=6, class_weight=balanced, gamma=0.2, kernel=linear, score=0.674, total=   2.3s\n",
            "[CV] C=6, class_weight=balanced, gamma=0.2, kernel=linear ............\n",
            "[CV]  C=6, class_weight=balanced, gamma=0.2, kernel=linear, score=0.634, total=   2.3s\n",
            "[CV] C=6, class_weight=balanced, gamma=0.2, kernel=linear ............\n",
            "[CV]  C=6, class_weight=balanced, gamma=0.2, kernel=linear, score=0.697, total=   2.3s\n",
            "[CV] C=6, class_weight=balanced, gamma=0.25, kernel=rbf ..............\n",
            "[CV]  C=6, class_weight=balanced, gamma=0.25, kernel=rbf, score=0.689, total=   2.5s\n",
            "[CV] C=6, class_weight=balanced, gamma=0.25, kernel=rbf ..............\n",
            "[CV]  C=6, class_weight=balanced, gamma=0.25, kernel=rbf, score=0.661, total=   2.5s\n",
            "[CV] C=6, class_weight=balanced, gamma=0.25, kernel=rbf ..............\n",
            "[CV]  C=6, class_weight=balanced, gamma=0.25, kernel=rbf, score=0.721, total=   2.5s\n",
            "[CV] C=6, class_weight=balanced, gamma=0.25, kernel=linear ...........\n",
            "[CV]  C=6, class_weight=balanced, gamma=0.25, kernel=linear, score=0.674, total=   2.3s\n",
            "[CV] C=6, class_weight=balanced, gamma=0.25, kernel=linear ...........\n",
            "[CV]  C=6, class_weight=balanced, gamma=0.25, kernel=linear, score=0.634, total=   2.3s\n",
            "[CV] C=6, class_weight=balanced, gamma=0.25, kernel=linear ...........\n",
            "[CV]  C=6, class_weight=balanced, gamma=0.25, kernel=linear, score=0.697, total=   2.3s\n",
            "[CV] C=6, class_weight=balanced, gamma=0.3, kernel=rbf ...............\n",
            "[CV]  C=6, class_weight=balanced, gamma=0.3, kernel=rbf, score=0.677, total=   2.5s\n",
            "[CV] C=6, class_weight=balanced, gamma=0.3, kernel=rbf ...............\n",
            "[CV]  C=6, class_weight=balanced, gamma=0.3, kernel=rbf, score=0.658, total=   2.5s\n",
            "[CV] C=6, class_weight=balanced, gamma=0.3, kernel=rbf ...............\n",
            "[CV]  C=6, class_weight=balanced, gamma=0.3, kernel=rbf, score=0.715, total=   2.5s\n",
            "[CV] C=6, class_weight=balanced, gamma=0.3, kernel=linear ............\n",
            "[CV]  C=6, class_weight=balanced, gamma=0.3, kernel=linear, score=0.674, total=   2.3s\n",
            "[CV] C=6, class_weight=balanced, gamma=0.3, kernel=linear ............\n",
            "[CV]  C=6, class_weight=balanced, gamma=0.3, kernel=linear, score=0.634, total=   2.3s\n",
            "[CV] C=6, class_weight=balanced, gamma=0.3, kernel=linear ............\n",
            "[CV]  C=6, class_weight=balanced, gamma=0.3, kernel=linear, score=0.697, total=   2.3s\n",
            "[CV] C=6, class_weight=balanced, gamma=0.35, kernel=rbf ..............\n",
            "[CV]  C=6, class_weight=balanced, gamma=0.35, kernel=rbf, score=0.683, total=   2.5s\n",
            "[CV] C=6, class_weight=balanced, gamma=0.35, kernel=rbf ..............\n",
            "[CV]  C=6, class_weight=balanced, gamma=0.35, kernel=rbf, score=0.655, total=   2.6s\n",
            "[CV] C=6, class_weight=balanced, gamma=0.35, kernel=rbf ..............\n",
            "[CV]  C=6, class_weight=balanced, gamma=0.35, kernel=rbf, score=0.706, total=   2.6s\n",
            "[CV] C=6, class_weight=balanced, gamma=0.35, kernel=linear ...........\n",
            "[CV]  C=6, class_weight=balanced, gamma=0.35, kernel=linear, score=0.674, total=   2.3s\n",
            "[CV] C=6, class_weight=balanced, gamma=0.35, kernel=linear ...........\n",
            "[CV]  C=6, class_weight=balanced, gamma=0.35, kernel=linear, score=0.634, total=   2.3s\n",
            "[CV] C=6, class_weight=balanced, gamma=0.35, kernel=linear ...........\n",
            "[CV]  C=6, class_weight=balanced, gamma=0.35, kernel=linear, score=0.697, total=   2.3s\n",
            "[CV] C=6, class_weight=balanced, gamma=0.4, kernel=rbf ...............\n",
            "[CV]  C=6, class_weight=balanced, gamma=0.4, kernel=rbf, score=0.692, total=   2.5s\n",
            "[CV] C=6, class_weight=balanced, gamma=0.4, kernel=rbf ...............\n",
            "[CV]  C=6, class_weight=balanced, gamma=0.4, kernel=rbf, score=0.649, total=   2.6s\n",
            "[CV] C=6, class_weight=balanced, gamma=0.4, kernel=rbf ...............\n",
            "[CV]  C=6, class_weight=balanced, gamma=0.4, kernel=rbf, score=0.706, total=   2.6s\n",
            "[CV] C=6, class_weight=balanced, gamma=0.4, kernel=linear ............\n",
            "[CV]  C=6, class_weight=balanced, gamma=0.4, kernel=linear, score=0.674, total=   2.3s\n",
            "[CV] C=6, class_weight=balanced, gamma=0.4, kernel=linear ............\n",
            "[CV]  C=6, class_weight=balanced, gamma=0.4, kernel=linear, score=0.634, total=   2.3s\n",
            "[CV] C=6, class_weight=balanced, gamma=0.4, kernel=linear ............\n",
            "[CV]  C=6, class_weight=balanced, gamma=0.4, kernel=linear, score=0.697, total=   2.3s\n",
            "[CV] C=6, class_weight=balanced, gamma=0.45, kernel=rbf ..............\n",
            "[CV]  C=6, class_weight=balanced, gamma=0.45, kernel=rbf, score=0.698, total=   2.5s\n",
            "[CV] C=6, class_weight=balanced, gamma=0.45, kernel=rbf ..............\n",
            "[CV]  C=6, class_weight=balanced, gamma=0.45, kernel=rbf, score=0.643, total=   2.7s\n",
            "[CV] C=6, class_weight=balanced, gamma=0.45, kernel=rbf ..............\n",
            "[CV]  C=6, class_weight=balanced, gamma=0.45, kernel=rbf, score=0.703, total=   2.6s\n",
            "[CV] C=6, class_weight=balanced, gamma=0.45, kernel=linear ...........\n",
            "[CV]  C=6, class_weight=balanced, gamma=0.45, kernel=linear, score=0.674, total=   2.3s\n",
            "[CV] C=6, class_weight=balanced, gamma=0.45, kernel=linear ...........\n",
            "[CV]  C=6, class_weight=balanced, gamma=0.45, kernel=linear, score=0.634, total=   2.3s\n",
            "[CV] C=6, class_weight=balanced, gamma=0.45, kernel=linear ...........\n",
            "[CV]  C=6, class_weight=balanced, gamma=0.45, kernel=linear, score=0.697, total=   2.3s\n",
            "[CV] C=7, class_weight=balanced, gamma=0.1, kernel=rbf ...............\n",
            "[CV]  C=7, class_weight=balanced, gamma=0.1, kernel=rbf, score=0.689, total=   2.4s\n",
            "[CV] C=7, class_weight=balanced, gamma=0.1, kernel=rbf ...............\n",
            "[CV]  C=7, class_weight=balanced, gamma=0.1, kernel=rbf, score=0.649, total=   2.3s\n",
            "[CV] C=7, class_weight=balanced, gamma=0.1, kernel=rbf ...............\n",
            "[CV]  C=7, class_weight=balanced, gamma=0.1, kernel=rbf, score=0.715, total=   2.4s\n",
            "[CV] C=7, class_weight=balanced, gamma=0.1, kernel=linear ............\n",
            "[CV]  C=7, class_weight=balanced, gamma=0.1, kernel=linear, score=0.674, total=   2.3s\n",
            "[CV] C=7, class_weight=balanced, gamma=0.1, kernel=linear ............\n",
            "[CV]  C=7, class_weight=balanced, gamma=0.1, kernel=linear, score=0.628, total=   2.3s\n",
            "[CV] C=7, class_weight=balanced, gamma=0.1, kernel=linear ............\n",
            "[CV]  C=7, class_weight=balanced, gamma=0.1, kernel=linear, score=0.694, total=   2.3s\n",
            "[CV] C=7, class_weight=balanced, gamma=0.15, kernel=rbf ..............\n",
            "[CV]  C=7, class_weight=balanced, gamma=0.15, kernel=rbf, score=0.686, total=   2.4s\n",
            "[CV] C=7, class_weight=balanced, gamma=0.15, kernel=rbf ..............\n",
            "[CV]  C=7, class_weight=balanced, gamma=0.15, kernel=rbf, score=0.670, total=   2.4s\n",
            "[CV] C=7, class_weight=balanced, gamma=0.15, kernel=rbf ..............\n",
            "[CV]  C=7, class_weight=balanced, gamma=0.15, kernel=rbf, score=0.709, total=   2.4s\n",
            "[CV] C=7, class_weight=balanced, gamma=0.15, kernel=linear ...........\n",
            "[CV]  C=7, class_weight=balanced, gamma=0.15, kernel=linear, score=0.674, total=   2.3s\n",
            "[CV] C=7, class_weight=balanced, gamma=0.15, kernel=linear ...........\n",
            "[CV]  C=7, class_weight=balanced, gamma=0.15, kernel=linear, score=0.628, total=   2.3s\n",
            "[CV] C=7, class_weight=balanced, gamma=0.15, kernel=linear ...........\n",
            "[CV]  C=7, class_weight=balanced, gamma=0.15, kernel=linear, score=0.694, total=   2.3s\n",
            "[CV] C=7, class_weight=balanced, gamma=0.2, kernel=rbf ...............\n",
            "[CV]  C=7, class_weight=balanced, gamma=0.2, kernel=rbf, score=0.698, total=   2.5s\n",
            "[CV] C=7, class_weight=balanced, gamma=0.2, kernel=rbf ...............\n",
            "[CV]  C=7, class_weight=balanced, gamma=0.2, kernel=rbf, score=0.655, total=   2.5s\n",
            "[CV] C=7, class_weight=balanced, gamma=0.2, kernel=rbf ...............\n",
            "[CV]  C=7, class_weight=balanced, gamma=0.2, kernel=rbf, score=0.715, total=   2.5s\n",
            "[CV] C=7, class_weight=balanced, gamma=0.2, kernel=linear ............\n",
            "[CV]  C=7, class_weight=balanced, gamma=0.2, kernel=linear, score=0.674, total=   2.3s\n",
            "[CV] C=7, class_weight=balanced, gamma=0.2, kernel=linear ............\n",
            "[CV]  C=7, class_weight=balanced, gamma=0.2, kernel=linear, score=0.628, total=   2.3s\n",
            "[CV] C=7, class_weight=balanced, gamma=0.2, kernel=linear ............\n",
            "[CV]  C=7, class_weight=balanced, gamma=0.2, kernel=linear, score=0.694, total=   2.3s\n",
            "[CV] C=7, class_weight=balanced, gamma=0.25, kernel=rbf ..............\n",
            "[CV]  C=7, class_weight=balanced, gamma=0.25, kernel=rbf, score=0.692, total=   2.5s\n",
            "[CV] C=7, class_weight=balanced, gamma=0.25, kernel=rbf ..............\n",
            "[CV]  C=7, class_weight=balanced, gamma=0.25, kernel=rbf, score=0.658, total=   2.6s\n",
            "[CV] C=7, class_weight=balanced, gamma=0.25, kernel=rbf ..............\n",
            "[CV]  C=7, class_weight=balanced, gamma=0.25, kernel=rbf, score=0.718, total=   2.5s\n",
            "[CV] C=7, class_weight=balanced, gamma=0.25, kernel=linear ...........\n",
            "[CV]  C=7, class_weight=balanced, gamma=0.25, kernel=linear, score=0.674, total=   2.3s\n",
            "[CV] C=7, class_weight=balanced, gamma=0.25, kernel=linear ...........\n",
            "[CV]  C=7, class_weight=balanced, gamma=0.25, kernel=linear, score=0.628, total=   2.3s\n",
            "[CV] C=7, class_weight=balanced, gamma=0.25, kernel=linear ...........\n",
            "[CV]  C=7, class_weight=balanced, gamma=0.25, kernel=linear, score=0.694, total=   2.3s\n",
            "[CV] C=7, class_weight=balanced, gamma=0.3, kernel=rbf ...............\n",
            "[CV]  C=7, class_weight=balanced, gamma=0.3, kernel=rbf, score=0.677, total=   2.5s\n",
            "[CV] C=7, class_weight=balanced, gamma=0.3, kernel=rbf ...............\n",
            "[CV]  C=7, class_weight=balanced, gamma=0.3, kernel=rbf, score=0.652, total=   2.6s\n",
            "[CV] C=7, class_weight=balanced, gamma=0.3, kernel=rbf ...............\n",
            "[CV]  C=7, class_weight=balanced, gamma=0.3, kernel=rbf, score=0.706, total=   2.6s\n",
            "[CV] C=7, class_weight=balanced, gamma=0.3, kernel=linear ............\n",
            "[CV]  C=7, class_weight=balanced, gamma=0.3, kernel=linear, score=0.674, total=   2.3s\n",
            "[CV] C=7, class_weight=balanced, gamma=0.3, kernel=linear ............\n",
            "[CV]  C=7, class_weight=balanced, gamma=0.3, kernel=linear, score=0.628, total=   2.3s\n",
            "[CV] C=7, class_weight=balanced, gamma=0.3, kernel=linear ............\n",
            "[CV]  C=7, class_weight=balanced, gamma=0.3, kernel=linear, score=0.694, total=   2.3s\n",
            "[CV] C=7, class_weight=balanced, gamma=0.35, kernel=rbf ..............\n",
            "[CV]  C=7, class_weight=balanced, gamma=0.35, kernel=rbf, score=0.683, total=   2.5s\n",
            "[CV] C=7, class_weight=balanced, gamma=0.35, kernel=rbf ..............\n",
            "[CV]  C=7, class_weight=balanced, gamma=0.35, kernel=rbf, score=0.643, total=   2.6s\n",
            "[CV] C=7, class_weight=balanced, gamma=0.35, kernel=rbf ..............\n",
            "[CV]  C=7, class_weight=balanced, gamma=0.35, kernel=rbf, score=0.703, total=   2.6s\n",
            "[CV] C=7, class_weight=balanced, gamma=0.35, kernel=linear ...........\n",
            "[CV]  C=7, class_weight=balanced, gamma=0.35, kernel=linear, score=0.674, total=   2.3s\n",
            "[CV] C=7, class_weight=balanced, gamma=0.35, kernel=linear ...........\n",
            "[CV]  C=7, class_weight=balanced, gamma=0.35, kernel=linear, score=0.628, total=   2.3s\n",
            "[CV] C=7, class_weight=balanced, gamma=0.35, kernel=linear ...........\n",
            "[CV]  C=7, class_weight=balanced, gamma=0.35, kernel=linear, score=0.694, total=   2.3s\n",
            "[CV] C=7, class_weight=balanced, gamma=0.4, kernel=rbf ...............\n",
            "[CV]  C=7, class_weight=balanced, gamma=0.4, kernel=rbf, score=0.689, total=   2.5s\n",
            "[CV] C=7, class_weight=balanced, gamma=0.4, kernel=rbf ...............\n",
            "[CV]  C=7, class_weight=balanced, gamma=0.4, kernel=rbf, score=0.646, total=   2.7s\n",
            "[CV] C=7, class_weight=balanced, gamma=0.4, kernel=rbf ...............\n",
            "[CV]  C=7, class_weight=balanced, gamma=0.4, kernel=rbf, score=0.700, total=   2.6s\n",
            "[CV] C=7, class_weight=balanced, gamma=0.4, kernel=linear ............\n",
            "[CV]  C=7, class_weight=balanced, gamma=0.4, kernel=linear, score=0.674, total=   2.3s\n",
            "[CV] C=7, class_weight=balanced, gamma=0.4, kernel=linear ............\n",
            "[CV]  C=7, class_weight=balanced, gamma=0.4, kernel=linear, score=0.628, total=   2.3s\n",
            "[CV] C=7, class_weight=balanced, gamma=0.4, kernel=linear ............\n",
            "[CV]  C=7, class_weight=balanced, gamma=0.4, kernel=linear, score=0.694, total=   2.3s\n",
            "[CV] C=7, class_weight=balanced, gamma=0.45, kernel=rbf ..............\n",
            "[CV]  C=7, class_weight=balanced, gamma=0.45, kernel=rbf, score=0.698, total=   2.5s\n",
            "[CV] C=7, class_weight=balanced, gamma=0.45, kernel=rbf ..............\n",
            "[CV]  C=7, class_weight=balanced, gamma=0.45, kernel=rbf, score=0.646, total=   2.7s\n",
            "[CV] C=7, class_weight=balanced, gamma=0.45, kernel=rbf ..............\n",
            "[CV]  C=7, class_weight=balanced, gamma=0.45, kernel=rbf, score=0.703, total=   2.6s\n",
            "[CV] C=7, class_weight=balanced, gamma=0.45, kernel=linear ...........\n",
            "[CV]  C=7, class_weight=balanced, gamma=0.45, kernel=linear, score=0.674, total=   2.3s\n",
            "[CV] C=7, class_weight=balanced, gamma=0.45, kernel=linear ...........\n",
            "[CV]  C=7, class_weight=balanced, gamma=0.45, kernel=linear, score=0.628, total=   2.3s\n",
            "[CV] C=7, class_weight=balanced, gamma=0.45, kernel=linear ...........\n",
            "[CV]  C=7, class_weight=balanced, gamma=0.45, kernel=linear, score=0.694, total=   2.3s\n",
            "[CV] C=8, class_weight=balanced, gamma=0.1, kernel=rbf ...............\n",
            "[CV]  C=8, class_weight=balanced, gamma=0.1, kernel=rbf, score=0.692, total=   2.4s\n",
            "[CV] C=8, class_weight=balanced, gamma=0.1, kernel=rbf ...............\n",
            "[CV]  C=8, class_weight=balanced, gamma=0.1, kernel=rbf, score=0.661, total=   2.4s\n",
            "[CV] C=8, class_weight=balanced, gamma=0.1, kernel=rbf ...............\n",
            "[CV]  C=8, class_weight=balanced, gamma=0.1, kernel=rbf, score=0.709, total=   2.4s\n",
            "[CV] C=8, class_weight=balanced, gamma=0.1, kernel=linear ............\n",
            "[CV]  C=8, class_weight=balanced, gamma=0.1, kernel=linear, score=0.674, total=   2.3s\n",
            "[CV] C=8, class_weight=balanced, gamma=0.1, kernel=linear ............\n",
            "[CV]  C=8, class_weight=balanced, gamma=0.1, kernel=linear, score=0.625, total=   2.3s\n",
            "[CV] C=8, class_weight=balanced, gamma=0.1, kernel=linear ............\n",
            "[CV]  C=8, class_weight=balanced, gamma=0.1, kernel=linear, score=0.685, total=   2.3s\n",
            "[CV] C=8, class_weight=balanced, gamma=0.15, kernel=rbf ..............\n",
            "[CV]  C=8, class_weight=balanced, gamma=0.15, kernel=rbf, score=0.686, total=   2.4s\n",
            "[CV] C=8, class_weight=balanced, gamma=0.15, kernel=rbf ..............\n",
            "[CV]  C=8, class_weight=balanced, gamma=0.15, kernel=rbf, score=0.667, total=   2.4s\n",
            "[CV] C=8, class_weight=balanced, gamma=0.15, kernel=rbf ..............\n",
            "[CV]  C=8, class_weight=balanced, gamma=0.15, kernel=rbf, score=0.709, total=   2.4s\n",
            "[CV] C=8, class_weight=balanced, gamma=0.15, kernel=linear ...........\n",
            "[CV]  C=8, class_weight=balanced, gamma=0.15, kernel=linear, score=0.674, total=   2.3s\n",
            "[CV] C=8, class_weight=balanced, gamma=0.15, kernel=linear ...........\n",
            "[CV]  C=8, class_weight=balanced, gamma=0.15, kernel=linear, score=0.625, total=   2.3s\n",
            "[CV] C=8, class_weight=balanced, gamma=0.15, kernel=linear ...........\n",
            "[CV]  C=8, class_weight=balanced, gamma=0.15, kernel=linear, score=0.685, total=   2.3s\n",
            "[CV] C=8, class_weight=balanced, gamma=0.2, kernel=rbf ...............\n",
            "[CV]  C=8, class_weight=balanced, gamma=0.2, kernel=rbf, score=0.692, total=   2.4s\n",
            "[CV] C=8, class_weight=balanced, gamma=0.2, kernel=rbf ...............\n",
            "[CV]  C=8, class_weight=balanced, gamma=0.2, kernel=rbf, score=0.655, total=   2.5s\n",
            "[CV] C=8, class_weight=balanced, gamma=0.2, kernel=rbf ...............\n",
            "[CV]  C=8, class_weight=balanced, gamma=0.2, kernel=rbf, score=0.712, total=   2.5s\n",
            "[CV] C=8, class_weight=balanced, gamma=0.2, kernel=linear ............\n",
            "[CV]  C=8, class_weight=balanced, gamma=0.2, kernel=linear, score=0.674, total=   2.2s\n",
            "[CV] C=8, class_weight=balanced, gamma=0.2, kernel=linear ............\n",
            "[CV]  C=8, class_weight=balanced, gamma=0.2, kernel=linear, score=0.625, total=   2.3s\n",
            "[CV] C=8, class_weight=balanced, gamma=0.2, kernel=linear ............\n",
            "[CV]  C=8, class_weight=balanced, gamma=0.2, kernel=linear, score=0.685, total=   2.3s\n",
            "[CV] C=8, class_weight=balanced, gamma=0.25, kernel=rbf ..............\n",
            "[CV]  C=8, class_weight=balanced, gamma=0.25, kernel=rbf, score=0.686, total=   2.5s\n",
            "[CV] C=8, class_weight=balanced, gamma=0.25, kernel=rbf ..............\n",
            "[CV]  C=8, class_weight=balanced, gamma=0.25, kernel=rbf, score=0.652, total=   2.5s\n",
            "[CV] C=8, class_weight=balanced, gamma=0.25, kernel=rbf ..............\n",
            "[CV]  C=8, class_weight=balanced, gamma=0.25, kernel=rbf, score=0.712, total=   2.6s\n",
            "[CV] C=8, class_weight=balanced, gamma=0.25, kernel=linear ...........\n",
            "[CV]  C=8, class_weight=balanced, gamma=0.25, kernel=linear, score=0.674, total=   2.3s\n",
            "[CV] C=8, class_weight=balanced, gamma=0.25, kernel=linear ...........\n",
            "[CV]  C=8, class_weight=balanced, gamma=0.25, kernel=linear, score=0.625, total=   2.3s\n",
            "[CV] C=8, class_weight=balanced, gamma=0.25, kernel=linear ...........\n",
            "[CV]  C=8, class_weight=balanced, gamma=0.25, kernel=linear, score=0.685, total=   2.3s\n",
            "[CV] C=8, class_weight=balanced, gamma=0.3, kernel=rbf ...............\n",
            "[CV]  C=8, class_weight=balanced, gamma=0.3, kernel=rbf, score=0.680, total=   2.5s\n",
            "[CV] C=8, class_weight=balanced, gamma=0.3, kernel=rbf ...............\n",
            "[CV]  C=8, class_weight=balanced, gamma=0.3, kernel=rbf, score=0.643, total=   2.6s\n",
            "[CV] C=8, class_weight=balanced, gamma=0.3, kernel=rbf ...............\n",
            "[CV]  C=8, class_weight=balanced, gamma=0.3, kernel=rbf, score=0.703, total=   2.6s\n",
            "[CV] C=8, class_weight=balanced, gamma=0.3, kernel=linear ............\n",
            "[CV]  C=8, class_weight=balanced, gamma=0.3, kernel=linear, score=0.674, total=   2.3s\n",
            "[CV] C=8, class_weight=balanced, gamma=0.3, kernel=linear ............\n",
            "[CV]  C=8, class_weight=balanced, gamma=0.3, kernel=linear, score=0.625, total=   2.3s\n",
            "[CV] C=8, class_weight=balanced, gamma=0.3, kernel=linear ............\n",
            "[CV]  C=8, class_weight=balanced, gamma=0.3, kernel=linear, score=0.685, total=   2.3s\n",
            "[CV] C=8, class_weight=balanced, gamma=0.35, kernel=rbf ..............\n",
            "[CV]  C=8, class_weight=balanced, gamma=0.35, kernel=rbf, score=0.686, total=   2.5s\n",
            "[CV] C=8, class_weight=balanced, gamma=0.35, kernel=rbf ..............\n",
            "[CV]  C=8, class_weight=balanced, gamma=0.35, kernel=rbf, score=0.640, total=   2.6s\n",
            "[CV] C=8, class_weight=balanced, gamma=0.35, kernel=rbf ..............\n",
            "[CV]  C=8, class_weight=balanced, gamma=0.35, kernel=rbf, score=0.700, total=   2.6s\n",
            "[CV] C=8, class_weight=balanced, gamma=0.35, kernel=linear ...........\n",
            "[CV]  C=8, class_weight=balanced, gamma=0.35, kernel=linear, score=0.674, total=   2.3s\n",
            "[CV] C=8, class_weight=balanced, gamma=0.35, kernel=linear ...........\n",
            "[CV]  C=8, class_weight=balanced, gamma=0.35, kernel=linear, score=0.625, total=   2.3s\n",
            "[CV] C=8, class_weight=balanced, gamma=0.35, kernel=linear ...........\n",
            "[CV]  C=8, class_weight=balanced, gamma=0.35, kernel=linear, score=0.685, total=   2.3s\n",
            "[CV] C=8, class_weight=balanced, gamma=0.4, kernel=rbf ...............\n",
            "[CV]  C=8, class_weight=balanced, gamma=0.4, kernel=rbf, score=0.689, total=   2.6s\n",
            "[CV] C=8, class_weight=balanced, gamma=0.4, kernel=rbf ...............\n",
            "[CV]  C=8, class_weight=balanced, gamma=0.4, kernel=rbf, score=0.643, total=   2.6s\n",
            "[CV] C=8, class_weight=balanced, gamma=0.4, kernel=rbf ...............\n",
            "[CV]  C=8, class_weight=balanced, gamma=0.4, kernel=rbf, score=0.700, total=   2.6s\n",
            "[CV] C=8, class_weight=balanced, gamma=0.4, kernel=linear ............\n",
            "[CV]  C=8, class_weight=balanced, gamma=0.4, kernel=linear, score=0.674, total=   2.3s\n",
            "[CV] C=8, class_weight=balanced, gamma=0.4, kernel=linear ............\n",
            "[CV]  C=8, class_weight=balanced, gamma=0.4, kernel=linear, score=0.625, total=   2.3s\n",
            "[CV] C=8, class_weight=balanced, gamma=0.4, kernel=linear ............\n",
            "[CV]  C=8, class_weight=balanced, gamma=0.4, kernel=linear, score=0.685, total=   2.3s\n",
            "[CV] C=8, class_weight=balanced, gamma=0.45, kernel=rbf ..............\n",
            "[CV]  C=8, class_weight=balanced, gamma=0.45, kernel=rbf, score=0.695, total=   2.5s\n",
            "[CV] C=8, class_weight=balanced, gamma=0.45, kernel=rbf ..............\n",
            "[CV]  C=8, class_weight=balanced, gamma=0.45, kernel=rbf, score=0.643, total=   2.7s\n",
            "[CV] C=8, class_weight=balanced, gamma=0.45, kernel=rbf ..............\n",
            "[CV]  C=8, class_weight=balanced, gamma=0.45, kernel=rbf, score=0.697, total=   2.6s\n",
            "[CV] C=8, class_weight=balanced, gamma=0.45, kernel=linear ...........\n",
            "[CV]  C=8, class_weight=balanced, gamma=0.45, kernel=linear, score=0.674, total=   2.3s\n",
            "[CV] C=8, class_weight=balanced, gamma=0.45, kernel=linear ...........\n",
            "[CV]  C=8, class_weight=balanced, gamma=0.45, kernel=linear, score=0.625, total=   2.3s\n",
            "[CV] C=8, class_weight=balanced, gamma=0.45, kernel=linear ...........\n",
            "[CV]  C=8, class_weight=balanced, gamma=0.45, kernel=linear, score=0.685, total=   2.3s\n",
            "[CV] C=9, class_weight=balanced, gamma=0.1, kernel=rbf ...............\n",
            "[CV]  C=9, class_weight=balanced, gamma=0.1, kernel=rbf, score=0.683, total=   2.4s\n",
            "[CV] C=9, class_weight=balanced, gamma=0.1, kernel=rbf ...............\n",
            "[CV]  C=9, class_weight=balanced, gamma=0.1, kernel=rbf, score=0.661, total=   2.4s\n",
            "[CV] C=9, class_weight=balanced, gamma=0.1, kernel=rbf ...............\n",
            "[CV]  C=9, class_weight=balanced, gamma=0.1, kernel=rbf, score=0.709, total=   2.4s\n",
            "[CV] C=9, class_weight=balanced, gamma=0.1, kernel=linear ............\n",
            "[CV]  C=9, class_weight=balanced, gamma=0.1, kernel=linear, score=0.674, total=   2.3s\n",
            "[CV] C=9, class_weight=balanced, gamma=0.1, kernel=linear ............\n",
            "[CV]  C=9, class_weight=balanced, gamma=0.1, kernel=linear, score=0.622, total=   2.3s\n",
            "[CV] C=9, class_weight=balanced, gamma=0.1, kernel=linear ............\n",
            "[CV]  C=9, class_weight=balanced, gamma=0.1, kernel=linear, score=0.685, total=   2.3s\n",
            "[CV] C=9, class_weight=balanced, gamma=0.15, kernel=rbf ..............\n",
            "[CV]  C=9, class_weight=balanced, gamma=0.15, kernel=rbf, score=0.689, total=   2.4s\n",
            "[CV] C=9, class_weight=balanced, gamma=0.15, kernel=rbf ..............\n",
            "[CV]  C=9, class_weight=balanced, gamma=0.15, kernel=rbf, score=0.655, total=   2.5s\n",
            "[CV] C=9, class_weight=balanced, gamma=0.15, kernel=rbf ..............\n",
            "[CV]  C=9, class_weight=balanced, gamma=0.15, kernel=rbf, score=0.718, total=   2.4s\n",
            "[CV] C=9, class_weight=balanced, gamma=0.15, kernel=linear ...........\n",
            "[CV]  C=9, class_weight=balanced, gamma=0.15, kernel=linear, score=0.674, total=   2.3s\n",
            "[CV] C=9, class_weight=balanced, gamma=0.15, kernel=linear ...........\n",
            "[CV]  C=9, class_weight=balanced, gamma=0.15, kernel=linear, score=0.622, total=   2.3s\n",
            "[CV] C=9, class_weight=balanced, gamma=0.15, kernel=linear ...........\n",
            "[CV]  C=9, class_weight=balanced, gamma=0.15, kernel=linear, score=0.685, total=   2.3s\n",
            "[CV] C=9, class_weight=balanced, gamma=0.2, kernel=rbf ...............\n",
            "[CV]  C=9, class_weight=balanced, gamma=0.2, kernel=rbf, score=0.695, total=   2.5s\n",
            "[CV] C=9, class_weight=balanced, gamma=0.2, kernel=rbf ...............\n",
            "[CV]  C=9, class_weight=balanced, gamma=0.2, kernel=rbf, score=0.655, total=   2.5s\n",
            "[CV] C=9, class_weight=balanced, gamma=0.2, kernel=rbf ...............\n",
            "[CV]  C=9, class_weight=balanced, gamma=0.2, kernel=rbf, score=0.712, total=   2.6s\n",
            "[CV] C=9, class_weight=balanced, gamma=0.2, kernel=linear ............\n",
            "[CV]  C=9, class_weight=balanced, gamma=0.2, kernel=linear, score=0.674, total=   2.3s\n",
            "[CV] C=9, class_weight=balanced, gamma=0.2, kernel=linear ............\n",
            "[CV]  C=9, class_weight=balanced, gamma=0.2, kernel=linear, score=0.622, total=   2.3s\n",
            "[CV] C=9, class_weight=balanced, gamma=0.2, kernel=linear ............\n",
            "[CV]  C=9, class_weight=balanced, gamma=0.2, kernel=linear, score=0.685, total=   2.3s\n",
            "[CV] C=9, class_weight=balanced, gamma=0.25, kernel=rbf ..............\n",
            "[CV]  C=9, class_weight=balanced, gamma=0.25, kernel=rbf, score=0.683, total=   2.5s\n",
            "[CV] C=9, class_weight=balanced, gamma=0.25, kernel=rbf ..............\n",
            "[CV]  C=9, class_weight=balanced, gamma=0.25, kernel=rbf, score=0.646, total=   2.6s\n",
            "[CV] C=9, class_weight=balanced, gamma=0.25, kernel=rbf ..............\n",
            "[CV]  C=9, class_weight=balanced, gamma=0.25, kernel=rbf, score=0.706, total=   2.6s\n",
            "[CV] C=9, class_weight=balanced, gamma=0.25, kernel=linear ...........\n",
            "[CV]  C=9, class_weight=balanced, gamma=0.25, kernel=linear, score=0.674, total=   2.3s\n",
            "[CV] C=9, class_weight=balanced, gamma=0.25, kernel=linear ...........\n",
            "[CV]  C=9, class_weight=balanced, gamma=0.25, kernel=linear, score=0.622, total=   2.3s\n",
            "[CV] C=9, class_weight=balanced, gamma=0.25, kernel=linear ...........\n",
            "[CV]  C=9, class_weight=balanced, gamma=0.25, kernel=linear, score=0.685, total=   2.3s\n",
            "[CV] C=9, class_weight=balanced, gamma=0.3, kernel=rbf ...............\n",
            "[CV]  C=9, class_weight=balanced, gamma=0.3, kernel=rbf, score=0.686, total=   2.5s\n",
            "[CV] C=9, class_weight=balanced, gamma=0.3, kernel=rbf ...............\n",
            "[CV]  C=9, class_weight=balanced, gamma=0.3, kernel=rbf, score=0.643, total=   2.6s\n",
            "[CV] C=9, class_weight=balanced, gamma=0.3, kernel=rbf ...............\n",
            "[CV]  C=9, class_weight=balanced, gamma=0.3, kernel=rbf, score=0.700, total=   2.6s\n",
            "[CV] C=9, class_weight=balanced, gamma=0.3, kernel=linear ............\n",
            "[CV]  C=9, class_weight=balanced, gamma=0.3, kernel=linear, score=0.674, total=   2.3s\n",
            "[CV] C=9, class_weight=balanced, gamma=0.3, kernel=linear ............\n",
            "[CV]  C=9, class_weight=balanced, gamma=0.3, kernel=linear, score=0.622, total=   2.3s\n",
            "[CV] C=9, class_weight=balanced, gamma=0.3, kernel=linear ............\n",
            "[CV]  C=9, class_weight=balanced, gamma=0.3, kernel=linear, score=0.685, total=   2.3s\n",
            "[CV] C=9, class_weight=balanced, gamma=0.35, kernel=rbf ..............\n",
            "[CV]  C=9, class_weight=balanced, gamma=0.35, kernel=rbf, score=0.686, total=   2.6s\n",
            "[CV] C=9, class_weight=balanced, gamma=0.35, kernel=rbf ..............\n",
            "[CV]  C=9, class_weight=balanced, gamma=0.35, kernel=rbf, score=0.637, total=   2.6s\n",
            "[CV] C=9, class_weight=balanced, gamma=0.35, kernel=rbf ..............\n",
            "[CV]  C=9, class_weight=balanced, gamma=0.35, kernel=rbf, score=0.700, total=   2.6s\n",
            "[CV] C=9, class_weight=balanced, gamma=0.35, kernel=linear ...........\n",
            "[CV]  C=9, class_weight=balanced, gamma=0.35, kernel=linear, score=0.674, total=   2.3s\n",
            "[CV] C=9, class_weight=balanced, gamma=0.35, kernel=linear ...........\n",
            "[CV]  C=9, class_weight=balanced, gamma=0.35, kernel=linear, score=0.622, total=   2.3s\n",
            "[CV] C=9, class_weight=balanced, gamma=0.35, kernel=linear ...........\n",
            "[CV]  C=9, class_weight=balanced, gamma=0.35, kernel=linear, score=0.685, total=   2.3s\n",
            "[CV] C=9, class_weight=balanced, gamma=0.4, kernel=rbf ...............\n",
            "[CV]  C=9, class_weight=balanced, gamma=0.4, kernel=rbf, score=0.689, total=   2.6s\n",
            "[CV] C=9, class_weight=balanced, gamma=0.4, kernel=rbf ...............\n",
            "[CV]  C=9, class_weight=balanced, gamma=0.4, kernel=rbf, score=0.643, total=   2.6s\n",
            "[CV] C=9, class_weight=balanced, gamma=0.4, kernel=rbf ...............\n",
            "[CV]  C=9, class_weight=balanced, gamma=0.4, kernel=rbf, score=0.697, total=   2.6s\n",
            "[CV] C=9, class_weight=balanced, gamma=0.4, kernel=linear ............\n",
            "[CV]  C=9, class_weight=balanced, gamma=0.4, kernel=linear, score=0.674, total=   2.3s\n",
            "[CV] C=9, class_weight=balanced, gamma=0.4, kernel=linear ............\n",
            "[CV]  C=9, class_weight=balanced, gamma=0.4, kernel=linear, score=0.622, total=   2.3s\n",
            "[CV] C=9, class_weight=balanced, gamma=0.4, kernel=linear ............\n",
            "[CV]  C=9, class_weight=balanced, gamma=0.4, kernel=linear, score=0.685, total=   2.3s\n",
            "[CV] C=9, class_weight=balanced, gamma=0.45, kernel=rbf ..............\n",
            "[CV]  C=9, class_weight=balanced, gamma=0.45, kernel=rbf, score=0.692, total=   2.5s\n",
            "[CV] C=9, class_weight=balanced, gamma=0.45, kernel=rbf ..............\n",
            "[CV]  C=9, class_weight=balanced, gamma=0.45, kernel=rbf, score=0.643, total=   2.6s\n",
            "[CV] C=9, class_weight=balanced, gamma=0.45, kernel=rbf ..............\n",
            "[CV]  C=9, class_weight=balanced, gamma=0.45, kernel=rbf, score=0.700, total=   2.6s\n",
            "[CV] C=9, class_weight=balanced, gamma=0.45, kernel=linear ...........\n",
            "[CV]  C=9, class_weight=balanced, gamma=0.45, kernel=linear, score=0.674, total=   2.3s\n",
            "[CV] C=9, class_weight=balanced, gamma=0.45, kernel=linear ...........\n",
            "[CV]  C=9, class_weight=balanced, gamma=0.45, kernel=linear, score=0.622, total=   2.3s\n",
            "[CV] C=9, class_weight=balanced, gamma=0.45, kernel=linear ...........\n",
            "[CV]  C=9, class_weight=balanced, gamma=0.45, kernel=linear, score=0.685, total=   2.3s\n",
            "[CV] C=10, class_weight=balanced, gamma=0.1, kernel=rbf ..............\n",
            "[CV]  C=10, class_weight=balanced, gamma=0.1, kernel=rbf, score=0.683, total=   2.4s\n",
            "[CV] C=10, class_weight=balanced, gamma=0.1, kernel=rbf ..............\n",
            "[CV]  C=10, class_weight=balanced, gamma=0.1, kernel=rbf, score=0.667, total=   2.4s\n",
            "[CV] C=10, class_weight=balanced, gamma=0.1, kernel=rbf ..............\n",
            "[CV]  C=10, class_weight=balanced, gamma=0.1, kernel=rbf, score=0.709, total=   2.4s\n",
            "[CV] C=10, class_weight=balanced, gamma=0.1, kernel=linear ...........\n",
            "[CV]  C=10, class_weight=balanced, gamma=0.1, kernel=linear, score=0.671, total=   2.3s\n",
            "[CV] C=10, class_weight=balanced, gamma=0.1, kernel=linear ...........\n",
            "[CV]  C=10, class_weight=balanced, gamma=0.1, kernel=linear, score=0.619, total=   2.3s\n",
            "[CV] C=10, class_weight=balanced, gamma=0.1, kernel=linear ...........\n",
            "[CV]  C=10, class_weight=balanced, gamma=0.1, kernel=linear, score=0.685, total=   2.3s\n",
            "[CV] C=10, class_weight=balanced, gamma=0.15, kernel=rbf .............\n",
            "[CV]  C=10, class_weight=balanced, gamma=0.15, kernel=rbf, score=0.692, total=   2.5s\n",
            "[CV] C=10, class_weight=balanced, gamma=0.15, kernel=rbf .............\n",
            "[CV]  C=10, class_weight=balanced, gamma=0.15, kernel=rbf, score=0.658, total=   2.5s\n",
            "[CV] C=10, class_weight=balanced, gamma=0.15, kernel=rbf .............\n",
            "[CV]  C=10, class_weight=balanced, gamma=0.15, kernel=rbf, score=0.715, total=   2.4s\n",
            "[CV] C=10, class_weight=balanced, gamma=0.15, kernel=linear ..........\n",
            "[CV]  C=10, class_weight=balanced, gamma=0.15, kernel=linear, score=0.671, total=   2.3s\n",
            "[CV] C=10, class_weight=balanced, gamma=0.15, kernel=linear ..........\n",
            "[CV]  C=10, class_weight=balanced, gamma=0.15, kernel=linear, score=0.619, total=   2.3s\n",
            "[CV] C=10, class_weight=balanced, gamma=0.15, kernel=linear ..........\n",
            "[CV]  C=10, class_weight=balanced, gamma=0.15, kernel=linear, score=0.685, total=   2.3s\n",
            "[CV] C=10, class_weight=balanced, gamma=0.2, kernel=rbf ..............\n",
            "[CV]  C=10, class_weight=balanced, gamma=0.2, kernel=rbf, score=0.689, total=   2.5s\n",
            "[CV] C=10, class_weight=balanced, gamma=0.2, kernel=rbf ..............\n",
            "[CV]  C=10, class_weight=balanced, gamma=0.2, kernel=rbf, score=0.643, total=   2.5s\n",
            "[CV] C=10, class_weight=balanced, gamma=0.2, kernel=rbf ..............\n",
            "[CV]  C=10, class_weight=balanced, gamma=0.2, kernel=rbf, score=0.709, total=   2.5s\n",
            "[CV] C=10, class_weight=balanced, gamma=0.2, kernel=linear ...........\n",
            "[CV]  C=10, class_weight=balanced, gamma=0.2, kernel=linear, score=0.671, total=   2.3s\n",
            "[CV] C=10, class_weight=balanced, gamma=0.2, kernel=linear ...........\n",
            "[CV]  C=10, class_weight=balanced, gamma=0.2, kernel=linear, score=0.619, total=   2.3s\n",
            "[CV] C=10, class_weight=balanced, gamma=0.2, kernel=linear ...........\n",
            "[CV]  C=10, class_weight=balanced, gamma=0.2, kernel=linear, score=0.685, total=   2.3s\n",
            "[CV] C=10, class_weight=balanced, gamma=0.25, kernel=rbf .............\n",
            "[CV]  C=10, class_weight=balanced, gamma=0.25, kernel=rbf, score=0.683, total=   2.5s\n",
            "[CV] C=10, class_weight=balanced, gamma=0.25, kernel=rbf .............\n",
            "[CV]  C=10, class_weight=balanced, gamma=0.25, kernel=rbf, score=0.640, total=   2.6s\n",
            "[CV] C=10, class_weight=balanced, gamma=0.25, kernel=rbf .............\n",
            "[CV]  C=10, class_weight=balanced, gamma=0.25, kernel=rbf, score=0.700, total=   2.6s\n",
            "[CV] C=10, class_weight=balanced, gamma=0.25, kernel=linear ..........\n",
            "[CV]  C=10, class_weight=balanced, gamma=0.25, kernel=linear, score=0.671, total=   2.3s\n",
            "[CV] C=10, class_weight=balanced, gamma=0.25, kernel=linear ..........\n",
            "[CV]  C=10, class_weight=balanced, gamma=0.25, kernel=linear, score=0.619, total=   2.3s\n",
            "[CV] C=10, class_weight=balanced, gamma=0.25, kernel=linear ..........\n",
            "[CV]  C=10, class_weight=balanced, gamma=0.25, kernel=linear, score=0.685, total=   2.3s\n",
            "[CV] C=10, class_weight=balanced, gamma=0.3, kernel=rbf ..............\n",
            "[CV]  C=10, class_weight=balanced, gamma=0.3, kernel=rbf, score=0.683, total=   2.5s\n",
            "[CV] C=10, class_weight=balanced, gamma=0.3, kernel=rbf ..............\n",
            "[CV]  C=10, class_weight=balanced, gamma=0.3, kernel=rbf, score=0.637, total=   2.6s\n",
            "[CV] C=10, class_weight=balanced, gamma=0.3, kernel=rbf ..............\n",
            "[CV]  C=10, class_weight=balanced, gamma=0.3, kernel=rbf, score=0.703, total=   2.6s\n",
            "[CV] C=10, class_weight=balanced, gamma=0.3, kernel=linear ...........\n",
            "[CV]  C=10, class_weight=balanced, gamma=0.3, kernel=linear, score=0.671, total=   2.3s\n",
            "[CV] C=10, class_weight=balanced, gamma=0.3, kernel=linear ...........\n",
            "[CV]  C=10, class_weight=balanced, gamma=0.3, kernel=linear, score=0.619, total=   2.3s\n",
            "[CV] C=10, class_weight=balanced, gamma=0.3, kernel=linear ...........\n",
            "[CV]  C=10, class_weight=balanced, gamma=0.3, kernel=linear, score=0.685, total=   2.3s\n",
            "[CV] C=10, class_weight=balanced, gamma=0.35, kernel=rbf .............\n",
            "[CV]  C=10, class_weight=balanced, gamma=0.35, kernel=rbf, score=0.680, total=   2.5s\n",
            "[CV] C=10, class_weight=balanced, gamma=0.35, kernel=rbf .............\n",
            "[CV]  C=10, class_weight=balanced, gamma=0.35, kernel=rbf, score=0.637, total=   2.6s\n",
            "[CV] C=10, class_weight=balanced, gamma=0.35, kernel=rbf .............\n",
            "[CV]  C=10, class_weight=balanced, gamma=0.35, kernel=rbf, score=0.700, total=   2.6s\n",
            "[CV] C=10, class_weight=balanced, gamma=0.35, kernel=linear ..........\n",
            "[CV]  C=10, class_weight=balanced, gamma=0.35, kernel=linear, score=0.671, total=   2.3s\n",
            "[CV] C=10, class_weight=balanced, gamma=0.35, kernel=linear ..........\n",
            "[CV]  C=10, class_weight=balanced, gamma=0.35, kernel=linear, score=0.619, total=   2.3s\n",
            "[CV] C=10, class_weight=balanced, gamma=0.35, kernel=linear ..........\n",
            "[CV]  C=10, class_weight=balanced, gamma=0.35, kernel=linear, score=0.685, total=   2.3s\n",
            "[CV] C=10, class_weight=balanced, gamma=0.4, kernel=rbf ..............\n",
            "[CV]  C=10, class_weight=balanced, gamma=0.4, kernel=rbf, score=0.689, total=   2.5s\n",
            "[CV] C=10, class_weight=balanced, gamma=0.4, kernel=rbf ..............\n",
            "[CV]  C=10, class_weight=balanced, gamma=0.4, kernel=rbf, score=0.643, total=   2.6s\n",
            "[CV] C=10, class_weight=balanced, gamma=0.4, kernel=rbf ..............\n",
            "[CV]  C=10, class_weight=balanced, gamma=0.4, kernel=rbf, score=0.697, total=   2.6s\n",
            "[CV] C=10, class_weight=balanced, gamma=0.4, kernel=linear ...........\n",
            "[CV]  C=10, class_weight=balanced, gamma=0.4, kernel=linear, score=0.671, total=   2.3s\n",
            "[CV] C=10, class_weight=balanced, gamma=0.4, kernel=linear ...........\n",
            "[CV]  C=10, class_weight=balanced, gamma=0.4, kernel=linear, score=0.619, total=   2.3s\n",
            "[CV] C=10, class_weight=balanced, gamma=0.4, kernel=linear ...........\n",
            "[CV]  C=10, class_weight=balanced, gamma=0.4, kernel=linear, score=0.685, total=   2.3s\n",
            "[CV] C=10, class_weight=balanced, gamma=0.45, kernel=rbf .............\n",
            "[CV]  C=10, class_weight=balanced, gamma=0.45, kernel=rbf, score=0.692, total=   2.5s\n",
            "[CV] C=10, class_weight=balanced, gamma=0.45, kernel=rbf .............\n",
            "[CV]  C=10, class_weight=balanced, gamma=0.45, kernel=rbf, score=0.640, total=   2.6s\n",
            "[CV] C=10, class_weight=balanced, gamma=0.45, kernel=rbf .............\n",
            "[CV]  C=10, class_weight=balanced, gamma=0.45, kernel=rbf, score=0.700, total=   2.7s\n",
            "[CV] C=10, class_weight=balanced, gamma=0.45, kernel=linear ..........\n",
            "[CV]  C=10, class_weight=balanced, gamma=0.45, kernel=linear, score=0.671, total=   2.3s\n",
            "[CV] C=10, class_weight=balanced, gamma=0.45, kernel=linear ..........\n",
            "[CV]  C=10, class_weight=balanced, gamma=0.45, kernel=linear, score=0.619, total=   2.3s\n",
            "[CV] C=10, class_weight=balanced, gamma=0.45, kernel=linear ..........\n",
            "[CV]  C=10, class_weight=balanced, gamma=0.45, kernel=linear, score=0.685, total=   2.3s\n"
          ],
          "name": "stdout"
        },
        {
          "output_type": "stream",
          "text": [
            "[Parallel(n_jobs=1)]: Done 480 out of 480 | elapsed: 19.3min finished\n"
          ],
          "name": "stderr"
        },
        {
          "output_type": "execute_result",
          "data": {
            "text/plain": [
              "GridSearchCV(cv=3, error_score=nan,\n",
              "             estimator=SVC(C=1.0, break_ties=False, cache_size=200,\n",
              "                           class_weight=None, coef0=0.0,\n",
              "                           decision_function_shape='ovr', degree=3,\n",
              "                           gamma='scale', kernel='rbf', max_iter=-1,\n",
              "                           probability=False, random_state=None, shrinking=True,\n",
              "                           tol=0.001, verbose=False),\n",
              "             iid='deprecated', n_jobs=None,\n",
              "             param_grid={'C': [1, 2, 3, 4, 5, 6, 7, 8, 9, 10],\n",
              "                         'class_weight': ['balanced'],\n",
              "                         'gamma': [0.1, 0.15, 0.2, 0.25, 0.3, 0.35, 0.4, 0.45],\n",
              "                         'kernel': ['rbf', 'linear']},\n",
              "             pre_dispatch='2*n_jobs', refit=True, return_train_score=False,\n",
              "             scoring=None, verbose=3)"
            ]
          },
          "metadata": {
            "tags": []
          },
          "execution_count": 53
        }
      ]
    },
    {
      "cell_type": "code",
      "metadata": {
        "id": "G0Fy2hQ_R5BK",
        "outputId": "0b1e1aca-e6e0-461a-a37f-dc06a40f6b34",
        "colab": {
          "base_uri": "https://localhost:8080/",
          "height": 85
        }
      },
      "source": [
        "grid.best_estimator_"
      ],
      "execution_count": 54,
      "outputs": [
        {
          "output_type": "execute_result",
          "data": {
            "text/plain": [
              "SVC(C=5, break_ties=False, cache_size=200, class_weight='balanced', coef0=0.0,\n",
              "    decision_function_shape='ovr', degree=3, gamma=0.25, kernel='rbf',\n",
              "    max_iter=-1, probability=False, random_state=None, shrinking=True,\n",
              "    tol=0.001, verbose=False)"
            ]
          },
          "metadata": {
            "tags": []
          },
          "execution_count": 54
        }
      ]
    },
    {
      "cell_type": "markdown",
      "metadata": {
        "id": "teZDURqdR5gN"
      },
      "source": [
        "# Model training"
      ]
    },
    {
      "cell_type": "markdown",
      "metadata": {
        "id": "1wKp5NvjNOC2"
      },
      "source": [
        "**Question 1:** Following model uses following as features\n",
        "\n",
        "\n",
        "1.   Lemmotized bag of words\n",
        "2.   POS tags\n",
        "3.   Headwords\n",
        "4.   Headword synoynms\n",
        "5.   Named entity\n",
        "\n"
      ]
    },
    {
      "cell_type": "code",
      "metadata": {
        "id": "iJLCyt3aLrRy",
        "outputId": "28dde09a-e379-4812-a330-bd5a96d741a5",
        "colab": {
          "base_uri": "https://localhost:8080/",
          "height": 374
        }
      },
      "source": [
        "from sklearn.model_selection import KFold\n",
        "from sklearn.model_selection import cross_val_score\n",
        "\n",
        "from sklearn.svm import SVC\n",
        "from sklearn.metrics import accuracy_score\n",
        "\n",
        "\n",
        "cv = KFold(n_splits=10, random_state=1, shuffle=True)\n",
        "fold = 0\n",
        "accuracies = []\n",
        "for train_index, test_index in cv.split(x_encoded):\n",
        "    fold += 1\n",
        "    X_train, X_test = x_encoded[train_index], x_encoded[test_index]\n",
        "    y_train, y_test = y_encoded[train_index], y_encoded[test_index]\n",
        "    print(\"Beginning fold: \", fold)\n",
        "    SVM = SVC(C=1.0, kernel='linear', degree=3, gamma='auto')\n",
        "    SVM.fit(X_train,y_train)\n",
        "    predictions_SVM1 = SVM.predict(X_test)\n",
        "    acc = accuracy_score(predictions_SVM1, y_test)*100\n",
        "    accuracies.append(acc)\n",
        "    print(\"K-Fold: {} - {} - {:.2f}\".format(fold, \"Accuracy: \",acc))\n",
        "    \n",
        "print(\"Mean {:.2f} Std {:.2f}\".format(np.mean(accuracies), np.std(accuracies)))"
      ],
      "execution_count": 44,
      "outputs": [
        {
          "output_type": "stream",
          "text": [
            "Beginning fold:  1\n",
            "K-Fold: 1 - Accuracy:  - 79.00\n",
            "Beginning fold:  2\n",
            "K-Fold: 2 - Accuracy:  - 78.60\n",
            "Beginning fold:  3\n",
            "K-Fold: 3 - Accuracy:  - 75.60\n",
            "Beginning fold:  4\n",
            "K-Fold: 4 - Accuracy:  - 79.60\n",
            "Beginning fold:  5\n",
            "K-Fold: 5 - Accuracy:  - 77.60\n",
            "Beginning fold:  6\n",
            "K-Fold: 6 - Accuracy:  - 78.80\n",
            "Beginning fold:  7\n",
            "K-Fold: 7 - Accuracy:  - 77.20\n",
            "Beginning fold:  8\n",
            "K-Fold: 8 - Accuracy:  - 77.20\n",
            "Beginning fold:  9\n",
            "K-Fold: 9 - Accuracy:  - 77.40\n",
            "Beginning fold:  10\n",
            "K-Fold: 10 - Accuracy:  - 77.00\n",
            "Mean 77.80 Std 1.13\n"
          ],
          "name": "stdout"
        }
      ]
    },
    {
      "cell_type": "markdown",
      "metadata": {
        "id": "VApAVqsH2KZf"
      },
      "source": [
        "## Lemmatized word only as feature"
      ]
    },
    {
      "cell_type": "code",
      "metadata": {
        "id": "2aTKROSb2U_T"
      },
      "source": [
        "x_bow_feature = tfidf_vectorize(data_df['question_lemmatized'])"
      ],
      "execution_count": 52,
      "outputs": []
    },
    {
      "cell_type": "code",
      "metadata": {
        "id": "8C3S99rs2cND",
        "outputId": "8148a2ae-193c-4ac3-c53d-ce0aaa37ca33",
        "colab": {
          "base_uri": "https://localhost:8080/",
          "height": 34
        }
      },
      "source": [
        "x_bow_feature.shape"
      ],
      "execution_count": 53,
      "outputs": [
        {
          "output_type": "execute_result",
          "data": {
            "text/plain": [
              "(5000, 1500)"
            ]
          },
          "metadata": {
            "tags": []
          },
          "execution_count": 53
        }
      ]
    },
    {
      "cell_type": "code",
      "metadata": {
        "id": "UG_-LmNG2JmO",
        "outputId": "aed3a9a8-1662-4260-d3ee-7b9112c03b71",
        "colab": {
          "base_uri": "https://localhost:8080/",
          "height": 374
        }
      },
      "source": [
        "from sklearn.model_selection import KFold\n",
        "from sklearn.model_selection import cross_val_score\n",
        "\n",
        "from sklearn.svm import SVC\n",
        "from sklearn.metrics import accuracy_score\n",
        "\n",
        "\n",
        "cv = KFold(n_splits=10, random_state=1, shuffle=True)\n",
        "fold = 0\n",
        "accuracies = []\n",
        "for train_index, test_index in cv.split(x_bow_feature):\n",
        "    fold += 1\n",
        "    X_train, X_test = x_bow_feature[train_index], x_bow_feature[test_index]\n",
        "    y_train, y_test = y_encoded[train_index], y_encoded[test_index]\n",
        "    print(\"Beginning fold: \", fold)\n",
        "    SVM = SVC(C=5, break_ties=False, cache_size=200, class_weight='balanced', coef0=0.0,\n",
        "    decision_function_shape='ovr', degree=3, gamma=0.25, kernel='rbf')\n",
        "    SVM.fit(X_train,y_train)\n",
        "    y_predictions = SVM.predict(X_test)\n",
        "    acc = accuracy_score(y_predictions, y_test)*100\n",
        "    accuracies.append(acc)\n",
        "    \n",
        "    print(\"K-Fold: {} - {} - {:.2f}\".format(fold, \"Accuracy: \",acc))\n",
        "    \n",
        "print(\"Mean {:.2f} Std {:.2f}\".format(np.mean(accuracies), np.std(accuracies)))"
      ],
      "execution_count": 54,
      "outputs": [
        {
          "output_type": "stream",
          "text": [
            "Beginning fold:  1\n",
            "K-Fold: 1 - Accuracy:  - 81.80\n",
            "Beginning fold:  2\n",
            "K-Fold: 2 - Accuracy:  - 82.80\n",
            "Beginning fold:  3\n",
            "K-Fold: 3 - Accuracy:  - 79.00\n",
            "Beginning fold:  4\n",
            "K-Fold: 4 - Accuracy:  - 81.40\n",
            "Beginning fold:  5\n",
            "K-Fold: 5 - Accuracy:  - 80.80\n",
            "Beginning fold:  6\n",
            "K-Fold: 6 - Accuracy:  - 80.40\n",
            "Beginning fold:  7\n",
            "K-Fold: 7 - Accuracy:  - 82.80\n",
            "Beginning fold:  8\n",
            "K-Fold: 8 - Accuracy:  - 82.20\n",
            "Beginning fold:  9\n",
            "K-Fold: 9 - Accuracy:  - 81.80\n",
            "Beginning fold:  10\n",
            "K-Fold: 10 - Accuracy:  - 82.00\n",
            "Mean 81.50 Std 1.11\n"
          ],
          "name": "stdout"
        }
      ]
    },
    {
      "cell_type": "code",
      "metadata": {
        "id": "N6qGr_raF7zh",
        "outputId": "06ce32f1-0e54-4a2f-8fdc-52be1f9b257b",
        "colab": {
          "base_uri": "https://localhost:8080/",
          "height": 425
        }
      },
      "source": [
        "print_report(y_test, y_predictions)"
      ],
      "execution_count": 63,
      "outputs": [
        {
          "output_type": "stream",
          "text": [
            "              precision    recall  f1-score   support\n",
            "\n",
            "           1       0.86      0.82      0.84        76\n",
            "           2       0.76      0.70      0.73        23\n",
            "           3       0.93      0.83      0.88        60\n",
            "           4       0.85      0.72      0.78       112\n",
            "           6       0.83      0.93      0.87        98\n",
            "           7       0.71      0.82      0.76       114\n",
            "           9       1.00      0.94      0.97        17\n",
            "\n",
            "    accuracy                           0.82       500\n",
            "   macro avg       0.85      0.82      0.83       500\n",
            "weighted avg       0.83      0.82      0.82       500\n",
            "\n",
            "Accuracy score: 82.000\n",
            "F1 Score: 0.820\n",
            "Confustion matrix: \n",
            "[[62  0  1  2  1 10  0]\n",
            " [ 0 16  0  0  3  4  0]\n",
            " [ 3  0 50  4  1  2  0]\n",
            " [ 2  1  3 81  7 18  0]\n",
            " [ 1  0  0  2 91  4  0]\n",
            " [ 4  4  0  6  6 94  0]\n",
            " [ 0  0  0  0  1  0 16]]\n"
          ],
          "name": "stdout"
        }
      ]
    },
    {
      "cell_type": "markdown",
      "metadata": {
        "id": "rpwcK-pl8HxL"
      },
      "source": [
        "## BoW + Headword Syn"
      ]
    },
    {
      "cell_type": "code",
      "metadata": {
        "id": "GL_dc11g8M4m",
        "outputId": "474ee9ba-e505-4a91-f161-cf42c43cd06f",
        "colab": {
          "base_uri": "https://localhost:8080/",
          "height": 34
        }
      },
      "source": [
        "x_encoded_bow_hw_syn = np.concatenate((tfidf_vectorize(data_df['question_lemmatized']), multilabel_bin(data_df[\"question_hw_syn\"])), axis=1)\n",
        "x_encoded_bow_hw_syn.shape"
      ],
      "execution_count": 48,
      "outputs": [
        {
          "output_type": "execute_result",
          "data": {
            "text/plain": [
              "(5000, 5717)"
            ]
          },
          "metadata": {
            "tags": []
          },
          "execution_count": 48
        }
      ]
    },
    {
      "cell_type": "code",
      "metadata": {
        "id": "Mya1olU18LfQ",
        "outputId": "f3ab0cba-6089-42f0-ccc2-08023f49555e",
        "colab": {
          "base_uri": "https://localhost:8080/",
          "height": 374
        }
      },
      "source": [
        "from sklearn.model_selection import KFold\n",
        "from sklearn.model_selection import cross_val_score\n",
        "\n",
        "from sklearn.svm import SVC\n",
        "from sklearn.metrics import accuracy_score\n",
        "\n",
        "\n",
        "cv = KFold(n_splits=10, random_state=1, shuffle=True)\n",
        "fold = 0\n",
        "accuracies = []\n",
        "for train_index, test_index in cv.split(x_encoded_bow_hw_syn):\n",
        "    fold += 1\n",
        "    X_train, X_test = x_encoded_bow_hw_syn[train_index], x_encoded_bow_hw_syn[test_index]\n",
        "    y_train, y_test = y_encoded[train_index], y_encoded[test_index]\n",
        "    print(X_train.shape)\n",
        "\n",
        "    SVM = SVC(C=1.0, kernel='linear', degree=3, gamma='auto')\n",
        "    SVM.fit(X_train,y_train)\n",
        "    predictions_SVM1 = SVM.predict(X_test)\n",
        "    acc = accuracy_score(predictions_SVM1, y_test)*100\n",
        "    accuracies.append(acc)\n",
        "    \n",
        "    print(\"K-Fold: {} - {} - {:.2f}\".format(fold, \"Accuracy: \",acc))\n",
        "    \n",
        "print(\"Mean {:.2f} Std {:.2f}\".format(np.mean(accuracies), np.std(accuracies)))"
      ],
      "execution_count": 49,
      "outputs": [
        {
          "output_type": "stream",
          "text": [
            "(4500, 5717)\n",
            "K-Fold: 1 - Accuracy:  - 78.20\n",
            "(4500, 5717)\n",
            "K-Fold: 2 - Accuracy:  - 79.80\n",
            "(4500, 5717)\n",
            "K-Fold: 3 - Accuracy:  - 75.60\n",
            "(4500, 5717)\n",
            "K-Fold: 4 - Accuracy:  - 77.40\n",
            "(4500, 5717)\n",
            "K-Fold: 5 - Accuracy:  - 77.20\n",
            "(4500, 5717)\n",
            "K-Fold: 6 - Accuracy:  - 79.20\n",
            "(4500, 5717)\n",
            "K-Fold: 7 - Accuracy:  - 76.20\n",
            "(4500, 5717)\n",
            "K-Fold: 8 - Accuracy:  - 77.20\n",
            "(4500, 5717)\n",
            "K-Fold: 9 - Accuracy:  - 76.00\n",
            "(4500, 5717)\n",
            "K-Fold: 10 - Accuracy:  - 76.60\n",
            "Mean 77.34 Std 1.30\n"
          ],
          "name": "stdout"
        }
      ]
    },
    {
      "cell_type": "markdown",
      "metadata": {
        "id": "3IKHK4jxN9uq"
      },
      "source": [
        "# Summary\n",
        "\n"
      ]
    },
    {
      "cell_type": "markdown",
      "metadata": {
        "id": "pMjvEwArOFBW"
      },
      "source": [
        "Lemmotized bag of words, POS tags, Headwords, Headword synoynms, Named entity provided the f1 score of 77.8% but I was able to get the maximum F1 score of 82% using Lemmotized bag of words as the only feature. Following are the metrics from that model:\n",
        "```\n",
        "                precision    recall  f1-score   support\n",
        "\n",
        "           1       0.86      0.82      0.84        76\n",
        "           2       0.76      0.70      0.73        23\n",
        "           3       0.93      0.83      0.88        60\n",
        "           4       0.85      0.72      0.78       112\n",
        "           6       0.83      0.93      0.87        98\n",
        "           7       0.71      0.82      0.76       114\n",
        "           9       1.00      0.94      0.97        17\n",
        "\n",
        "    accuracy                           0.82       500\n",
        "   macro avg       0.85      0.82      0.83       500\n",
        "weighted avg       0.83      0.82      0.82       500\n",
        "```\n",
        "\n",
        "*   Accuracy score: 82.0\n",
        "*   F1 Score: 82.0\n",
        "\n",
        "Confustion matrix\n",
        "```\n",
        "[[62  0  1  2  1 10  0]\n",
        " [ 0 16  0  0  3  4  0]\n",
        " [ 3  0 50  4  1  2  0]\n",
        " [ 2  1  3 81  7 18  0]\n",
        " [ 1  0  0  2 91  4  0]\n",
        " [ 4  4  0  6  6 94  0]\n",
        " [ 0  0  0  0  1  0 16]]\n",
        " ```\n"
      ]
    }
  ]
}